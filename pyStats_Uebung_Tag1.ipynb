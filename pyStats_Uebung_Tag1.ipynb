{
 "cells": [
  {
   "cell_type": "markdown",
   "metadata": {},
   "source": [
    "# Einführung in die Statistik mit Python - Tag 1\n",
    "\n",
    "## Python Konventionen\n",
    "\n",
    "Für Befehle über mehrere Zeilen, benutzt man das Zeichen \\ um Python zu informieren, dass der Befehl auch die nächste Zeile betrifft."
   ]
  },
  {
   "cell_type": "code",
   "execution_count": 1,
   "metadata": {},
   "outputs": [],
   "source": [
    "value = 1 + \\\n",
    "2 + \\\n",
    "3"
   ]
  },
  {
   "cell_type": "markdown",
   "metadata": {},
   "source": [
    "Man kann mehrere Befehle auf eine Zeile schreiben, diese werden dann mit einem ; voneinander getrennt"
   ]
  },
  {
   "cell_type": "code",
   "execution_count": 2,
   "metadata": {},
   "outputs": [],
   "source": [
    "a = \"One\"; b = \"Two\"; c= \"Three\""
   ]
  },
  {
   "cell_type": "markdown",
   "metadata": {},
   "source": [
    "Um eine Zeichenkette (String) zu schreiben, verwendet man Anführungszeichen (’) oder (\"):"
   ]
  },
  {
   "cell_type": "code",
   "execution_count": 3,
   "metadata": {},
   "outputs": [],
   "source": [
    "str1 = 'Hello every body'"
   ]
  },
  {
   "cell_type": "markdown",
   "metadata": {},
   "source": [
    "Für einen Zeichenkette über mehrere Zeilen, verwendet man 3 Anführungszeichen (”) ohne das Zeichen \\ zu benutzen"
   ]
  },
  {
   "cell_type": "code",
   "execution_count": 4,
   "metadata": {},
   "outputs": [],
   "source": [
    "multiLineStr = \"\"\"This is a paragraph. It is\n",
    "made up of multiple lines and sentences.\"\"\""
   ]
  },
  {
   "cell_type": "markdown",
   "metadata": {},
   "source": [
    "Kommentare beginnen immer mit einem #"
   ]
  },
  {
   "cell_type": "code",
   "execution_count": 5,
   "metadata": {},
   "outputs": [
    {
     "name": "stdout",
     "output_type": "stream",
     "text": [
      "Hello, Python!\n",
      "Finish\n"
     ]
    }
   ],
   "source": [
    "# First comment\n",
    "print(\"Hello, Python!\") # second comment\n",
    "# This is a comment.\n",
    "# This is a comment, too.\n",
    "# This is a comment, too.\n",
    "print(\"Finish\")"
   ]
  },
  {
   "cell_type": "markdown",
   "metadata": {},
   "source": [
    "## Python as Calculator"
   ]
  },
  {
   "cell_type": "code",
   "execution_count": 6,
   "metadata": {},
   "outputs": [
    {
     "data": {
      "text/plain": [
       "3125"
      ]
     },
     "execution_count": 6,
     "metadata": {},
     "output_type": "execute_result"
    }
   ],
   "source": [
    "# Typische Mathematische Operationen\n",
    "\n",
    "# Addition\n",
    "2 + 3\n",
    "# Subtraktion\n",
    "3.3 - 2\n",
    "# Multiplikation\n",
    "2 * (3.141 - 2)\n",
    "# Division\n",
    "10 / 4\n",
    "# Division ohne Rest\n",
    "10 // 4\n",
    "# Modulo bzw. Rest\n",
    "10 % 3\n",
    "# Potenz\n",
    "5 ** 5"
   ]
  },
  {
   "cell_type": "markdown",
   "metadata": {},
   "source": [
    "## Hello World"
   ]
  },
  {
   "cell_type": "code",
   "execution_count": 7,
   "metadata": {},
   "outputs": [
    {
     "name": "stdout",
     "output_type": "stream",
     "text": [
      "hello\n",
      "world\n",
      "Hellow World.\n",
      "Hello, I'm Python!\n",
      "hello, python world!\n",
      "['hello,', 'python', 'world!']\n"
     ]
    }
   ],
   "source": [
    "print(\"hello\")\n",
    "print(\"world\")\n",
    "\n",
    "# Hello World\n",
    "print(\"Hellow World.\")\n",
    "\n",
    "# Simple output\n",
    "print(\"Hello, I'm Python!\")\n",
    "\n",
    "x = 'hello, python world!'\n",
    "print(x)\n",
    "print(x.split(' '))\n",
    "\n",
    "# Input, assignment\n",
    "# name = input('What is your name?\\n')\n",
    "# print('Hi, %s.' % name)"
   ]
  },
  {
   "cell_type": "markdown",
   "metadata": {},
   "source": [
    "## Namensräume in Python"
   ]
  },
  {
   "cell_type": "code",
   "execution_count": 8,
   "metadata": {},
   "outputs": [
    {
     "name": "stdout",
     "output_type": "stream",
     "text": [
      "3.141592653589793\n",
      "2\n"
     ]
    }
   ],
   "source": [
    "# Import pi from Math package\n",
    "from math import pi\n",
    "\n",
    "# Print pi\n",
    "print(pi) # 3.14159\n",
    "\n",
    "# Define a variable, also called pi\n",
    "pi = 2\n",
    "\n",
    "# Print pi\n",
    "print(pi)"
   ]
  },
  {
   "cell_type": "markdown",
   "metadata": {},
   "source": [
    "## Zeichenketten festlegen"
   ]
  },
  {
   "cell_type": "code",
   "execution_count": 9,
   "metadata": {},
   "outputs": [
    {
     "name": "stdout",
     "output_type": "stream",
     "text": [
      "True\n",
      "False\n"
     ]
    }
   ],
   "source": [
    "# einfache Anführungszeichen\n",
    "x = 'Hallo Welt.'\n",
    "\n",
    "# doppelte Anführungszeichen\n",
    "y = \"Hallo Welt.\"\n",
    "print(x ==y)\n",
    "\n",
    "quote1 = \"Sie sagte 'Hallo' zu mir.\"\n",
    "quote2 = 'Sie sagte \"Hallo\" zu mir.'\n",
    "print(quote1 == quote2)\n",
    "\n",
    "# Eine mehrzeilige Zeichenkette\n",
    "z = \"\"\"Diese Zeichenkette besteht aus mehreren Zeilen.\n",
    "Das hier ist die zweite Zeile,\n",
    "das ist die dritte.\"\"\""
   ]
  },
  {
   "cell_type": "markdown",
   "metadata": {},
   "source": [
    "## Methoden von Zeichenketten"
   ]
  },
  {
   "cell_type": "code",
   "execution_count": 10,
   "metadata": {},
   "outputs": [
    {
     "data": {
      "text/plain": [
       "'Hallo-Welt'"
      ]
     },
     "execution_count": 10,
     "metadata": {},
     "output_type": "execute_result"
    }
   ],
   "source": [
    "s = \"Hallo Welt\"\n",
    "\n",
    "s.lower()\n",
    "## 'hallo welt'\n",
    "\n",
    "s.upper()\n",
    "## 'HALLO WELT'\n",
    "\n",
    "s.capitalize()\n",
    "## \"Hallo welt\"\n",
    "\n",
    "# Get help\n",
    "# ?str.capitalize\n",
    "\n",
    "# Oder\n",
    "str.upper(s)\n",
    "\n",
    "s.startswith(\"H\")\n",
    "## True\n",
    "\n",
    "s.endswith(\"x\")\n",
    "## False\n",
    "\n",
    "s.isdigit()\n",
    "## False\n",
    "\n",
    "str.isdigit(\"6\")\n",
    "## True\n",
    "\n",
    "s.split(\" \") ## ['Hallo', 'Welt']\n",
    "\n",
    "\"-\".join(s.split(\" \")) ## 'Hallo-Welt'"
   ]
  },
  {
   "cell_type": "markdown",
   "metadata": {},
   "source": [
    "## Indexierung von Zeichenketten"
   ]
  },
  {
   "cell_type": "code",
   "execution_count": 11,
   "metadata": {},
   "outputs": [
    {
     "data": {
      "text/plain": [
       "'9876543210'"
      ]
     },
     "execution_count": 11,
     "metadata": {},
     "output_type": "execute_result"
    }
   ],
   "source": [
    "n = \"0123456789\"\n",
    "\n",
    "n[0]\n",
    "## '0'\n",
    "n[0:3] == n[:3]\n",
    "\n",
    "## True\n",
    "n[0:9]\n",
    "## '012345678\n",
    "\n",
    "n[0] == n[:]\n",
    "## '0' ## '0123456789'\n",
    "\n",
    "n[::2]\n",
    "## True ## '02468'\n",
    "\n",
    "n[1::2]\n",
    "## '012345678' ## '13579'\n",
    "\n",
    "n[::-1]\n",
    "## '9876543210'"
   ]
  },
  {
   "cell_type": "markdown",
   "metadata": {},
   "source": [
    "## Listen erstellen\n",
    "\n",
    "<!-- Cannot create liste_inhalt -->"
   ]
  },
  {
   "cell_type": "code",
   "execution_count": 12,
   "metadata": {},
   "outputs": [
    {
     "data": {
      "text/plain": [
       "['H', 'e', 'l', 'l', 'o']"
      ]
     },
     "execution_count": 12,
     "metadata": {},
     "output_type": "execute_result"
    }
   ],
   "source": [
    "# leere Listen erstellen\n",
    "liste_leer1 = []\n",
    "liste_leer2 = list()\n",
    "liste_leer1 == liste_leer2\n",
    "\n",
    "# Listen erstellen mit unterschiedlichen Datentypen\n",
    "liste_inhalt = [1, 2.0, \"drei\", [\"Hallo\", \"Welt\"], {\"key\":\"value\"}]\n",
    "liste_inhalt\n",
    "\n",
    "# list()-Funktion auf Objekte anwenden\n",
    "list(\"Hello\")"
   ]
  },
  {
   "cell_type": "markdown",
   "metadata": {},
   "source": [
    "## Indexierung von Listen"
   ]
  },
  {
   "cell_type": "code",
   "execution_count": 13,
   "metadata": {},
   "outputs": [
    {
     "data": {
      "text/plain": [
       "[4, 5, 6, 7, 8, 9]"
      ]
     },
     "execution_count": 13,
     "metadata": {},
     "output_type": "execute_result"
    }
   ],
   "source": [
    "# Zuerst erstellen wir eine Liste\n",
    "liste = [9, 8, 7, 6, 5, 4]\n",
    "\n",
    "# Nun indexieren wir die Liste\n",
    "liste[1:3]\n",
    "liste[:2]\n",
    "liste[3:]\n",
    "liste[1::2]\n",
    "liste[-1::-1]"
   ]
  },
  {
   "cell_type": "markdown",
   "metadata": {},
   "source": [
    "## Methoden von Listen"
   ]
  },
  {
   "cell_type": "code",
   "execution_count": 14,
   "metadata": {},
   "outputs": [],
   "source": [
    "liste1 = []\n",
    "liste2 = [4, 5]\n",
    "liste3 = [4, 3, 2, 5, 1]\n",
    "\n",
    "liste1.append(1) # Element anfügen\n",
    "liste1.extend(liste2) # Liste erweitern\n",
    "liste1.pop() # letztes Element herauslösen\n",
    "liste3.sort() # Liste sortieren\n",
    "liste3.remove(3) # spezifisches Element entfernen"
   ]
  },
  {
   "cell_type": "markdown",
   "metadata": {},
   "source": [
    "## Listen anwenden"
   ]
  },
  {
   "cell_type": "code",
   "execution_count": 15,
   "metadata": {},
   "outputs": [
    {
     "name": "stdout",
     "output_type": "stream",
     "text": [
      "['BANANA', 'APPLE', 'LIME']\n"
     ]
    },
    {
     "data": {
      "text/plain": [
       "[(0, 'Banana'), (1, 'Apple'), (2, 'Lime')]"
      ]
     },
     "execution_count": 15,
     "metadata": {},
     "output_type": "execute_result"
    }
   ],
   "source": [
    "# List comprehensions\n",
    "fruits = ['Banana', 'Apple', 'Lime']\n",
    "loud_fruits = [fruit.upper() for fruit in fruits]\n",
    "print(loud_fruits)\n",
    "## ['BANANA', 'APPLE', 'LIME']\n",
    "\n",
    "# List and the enumerate function\n",
    "list(enumerate(fruits))\n",
    "## [(0, 'Banana'), (1, 'Apple'), (2, 'Lime')]"
   ]
  },
  {
   "cell_type": "markdown",
   "metadata": {},
   "source": [
    "## For-Schleife durch eine Liste"
   ]
  },
  {
   "cell_type": "code",
   "execution_count": 16,
   "metadata": {},
   "outputs": [
    {
     "name": "stdout",
     "output_type": "stream",
     "text": [
      "The product is: 2\n",
      "The product is: 8\n",
      "The product is: 48\n",
      "The product is: 384\n"
     ]
    }
   ],
   "source": [
    "numbers = [2, 4, 6, 8]\n",
    "product = 1\n",
    "\n",
    "for number in numbers:\n",
    "  product = product * number\n",
    "  print('The product is:', product)\n",
    "\n",
    "## ('The product is:', 384)"
   ]
  },
  {
   "cell_type": "markdown",
   "metadata": {},
   "source": [
    "## Listen entschachteln"
   ]
  },
  {
   "cell_type": "code",
   "execution_count": 17,
   "metadata": {},
   "outputs": [
    {
     "name": "stdout",
     "output_type": "stream",
     "text": [
      "True\n",
      "[1, 2, 3, 4, 5, 6]\n"
     ]
    }
   ],
   "source": [
    "import itertools\n",
    "\n",
    "liste = [[1,2,3], [4, 5, 6]]\n",
    "chain1 = list(itertools.chain(*liste))\n",
    "chain2 = list(itertools.chain.from_iterable(liste))\n",
    "\n",
    "print(chain1 == chain2)\n",
    "## True\n",
    "\n",
    "print(chain1)\n",
    "## [1, 2, 3, 4, 5, 6]\n"
   ]
  },
  {
   "cell_type": "markdown",
   "metadata": {},
   "source": [
    "## Ein Dictionary-Objekt erstellen\n",
    "\n",
    "<!-- keyword can't be an expression -->"
   ]
  },
  {
   "cell_type": "code",
   "execution_count": 18,
   "metadata": {},
   "outputs": [
    {
     "name": "stdout",
     "output_type": "stream",
     "text": [
      "val2\n",
      "val2_neu\n"
     ]
    },
    {
     "data": {
      "text/plain": [
       "{'hallo': 'welt'}"
      ]
     },
     "execution_count": 18,
     "metadata": {},
     "output_type": "execute_result"
    }
   ],
   "source": [
    "# Dictionary mit geschweiften Klammern instanziieren\n",
    "d = {\"key1\": \"val1\", \"key2\": \"val2\"}\n",
    "\n",
    "# dict indexing\n",
    "print(d[\"key2\"])\n",
    "\n",
    "# Werte ändern\n",
    "d[\"key2\"] = \"val2_neu\"\n",
    "print(d[\"key2\"])\n",
    "\n",
    "# Dictionary mit dict-Funktion\n",
    "dict(hallo=\"welt\")\n",
    "#dict(1=\"eins\")"
   ]
  },
  {
   "cell_type": "markdown",
   "metadata": {},
   "source": [
    "## Ein Dictionary sortieren"
   ]
  },
  {
   "cell_type": "code",
   "execution_count": 19,
   "metadata": {},
   "outputs": [
    {
     "name": "stdout",
     "output_type": "stream",
     "text": [
      "{1: 'eins', 2: 'zwei', 3: 'drei'}\n",
      "hello world, you are beautiful!\n"
     ]
    },
    {
     "data": {
      "text/plain": [
       "'Wort nicht vorhanden'"
      ]
     },
     "execution_count": 19,
     "metadata": {},
     "output_type": "execute_result"
    }
   ],
   "source": [
    "d = {3: \"drei\", 1: \"eins\", 2: \"zwei\"}\n",
    "\n",
    "d_sorted = {k:v for (k,v) in sorted(d.items(), key=lambda x: x[0])}\n",
    "print(d_sorted)\n",
    "\n",
    "## {1: 'eins', 2: 'zwei', 3: 'drei'}\n",
    "\n",
    "# Einfacher Datenabgleich mithilfe von Key-Value-Paaren\n",
    "de_en = {\"Hallo\": \"hello\", \"Welt\": \"world\", \"du\": \"you\", \n",
    "         \"bist\": \"are\", \"schön\": \"beautiful\",}\n",
    "\n",
    "trans = (de_en.get(\"Hallo\"), de_en.get(\"Welt\"), de_en.get(\"du\"), \n",
    "         de_en.get(\"bist\"), de_en.get(\"schön\"),)\n",
    "\n",
    "print(\"{} {}, {} {} {}!\".format(*trans)) # tuple unpacking\n",
    "\n",
    "## hello world, you are beautiful!\n",
    "\n",
    "# default Parameter ändern\n",
    "de_en.get(\"großartig\", \"Wort nicht vorhanden\")\n",
    "## 'Wort nicht vorhanden'\n"
   ]
  },
  {
   "cell_type": "markdown",
   "metadata": {},
   "source": [
    "## Einem Dictionary neue Werte hinzufügen"
   ]
  },
  {
   "cell_type": "code",
   "execution_count": 20,
   "metadata": {},
   "outputs": [
    {
     "data": {
      "text/plain": [
       "'awesome'"
      ]
     },
     "execution_count": 20,
     "metadata": {},
     "output_type": "execute_result"
    }
   ],
   "source": [
    "# Key-Value-Paar hinzufügen per Zuweisung\n",
    "de_en[\"großartig\"] = \"awesome\"\n",
    "\n",
    "# Key-Value-Paar hinzufügen per update()-Methode\n",
    "de_en.update({\"großartig\": \"awesome\"})\n",
    "de_en.get(\"großartig\", \"Wort nicht vorhanden\")\n",
    "\n",
    "## 'awesome'"
   ]
  },
  {
   "cell_type": "markdown",
   "metadata": {},
   "source": [
    "## Wert-Mapping\n",
    "\n",
    "Text in Zahlen umwandeln:"
   ]
  },
  {
   "cell_type": "code",
   "execution_count": 21,
   "metadata": {},
   "outputs": [],
   "source": [
    "antworten = [\"gut\", \"ok\", \"schlecht\", \"sehr gut\", \n",
    "             \"sehr schlecht\", \"weiß nicht\", \"so lala\",]\n",
    "mapping = {\"sehr schlecht\": -2, \"schlecht\": -1, \"ok\": 0, \n",
    "           \"gut\": 1, \"sehr gut\": 2, \"weiß nicht\": 8,}\n",
    "\n",
    "numerisch = [mapping.get(antwort, 99) for antwort in antworten]\n"
   ]
  },
  {
   "cell_type": "markdown",
   "metadata": {},
   "source": [
    "Mapping erstellen aus zwei Listen:"
   ]
  },
  {
   "cell_type": "code",
   "execution_count": 22,
   "metadata": {},
   "outputs": [],
   "source": [
    "labels = [\"negativ\", \"neutral\", \"positiv\"]\n",
    "number = [-1, 0, 1]\n",
    "mapping = {n: l for (n, l) in zip(number, labels)}"
   ]
  },
  {
   "cell_type": "markdown",
   "metadata": {},
   "source": [
    "## Tuple\n",
    "\n",
    "<!-- invaild syntax -->"
   ]
  },
  {
   "cell_type": "code",
   "execution_count": 23,
   "metadata": {},
   "outputs": [
    {
     "name": "stdout",
     "output_type": "stream",
     "text": [
      "Hallo\n",
      "['du', 'schöne']\n"
     ]
    },
    {
     "data": {
      "text/plain": [
       "True"
      ]
     },
     "execution_count": 23,
     "metadata": {},
     "output_type": "execute_result"
    }
   ],
   "source": [
    "t = (\"Hallo\", \"du\", \"schöne\", \"Welt\")\n",
    "\n",
    "# tuple unpacking\n",
    "x, *y, z = t\n",
    "\n",
    "print(x); print(y)\n",
    "\n",
    "# list unpacking\n",
    "liste = [\"Hallo\", \"du\", \"schöne\", \"Welt\"]\n",
    "a, *b, c = liste\n",
    "\n",
    "a == x"
   ]
  },
  {
   "cell_type": "markdown",
   "metadata": {},
   "source": [
    "## Sets und ausgewählte Methoden"
   ]
  },
  {
   "cell_type": "code",
   "execution_count": 24,
   "metadata": {},
   "outputs": [
    {
     "data": {
      "text/plain": [
       "{1, 2, 3, 4, 8}"
      ]
     },
     "execution_count": 24,
     "metadata": {},
     "output_type": "execute_result"
    }
   ],
   "source": [
    "s1 = {1, 2, 3, 4}\n",
    "liste = [1, 3, 5, 7, 7, 3, 1]\n",
    "s2 = set(liste)\n",
    "\n",
    "s1.union(s2) ## set([1, 2, 3, 4, 5, 7])\n",
    "s2.union(s1) ## set([1, 2, 3, 4, 5, 7])\n",
    "\n",
    "s1.intersection(s2) ## set([1, 3])\n",
    "s2.intersection(s1) ## set([1, 3])\n",
    "\n",
    "s1.difference(s2) ## set([2, 4])\n",
    "s2.difference(s1) ## set([5, 7])\n",
    "\n",
    "s1.add(8)\n",
    "s1"
   ]
  },
  {
   "cell_type": "markdown",
   "metadata": {},
   "source": [
    "Frozensets are unmutable:"
   ]
  },
  {
   "cell_type": "code",
   "execution_count": 25,
   "metadata": {},
   "outputs": [],
   "source": [
    "# Thus adding attributes does not work\n",
    "#fset = frozenset(liste)\n",
    "#fset.add(8)"
   ]
  },
  {
   "cell_type": "markdown",
   "metadata": {},
   "source": [
    "## None, True, False"
   ]
  },
  {
   "cell_type": "code",
   "execution_count": 26,
   "metadata": {},
   "outputs": [
    {
     "name": "stdout",
     "output_type": "stream",
     "text": [
      "Die Liste ist leer.\n"
     ]
    }
   ],
   "source": [
    "False == 0\n",
    "\n",
    "True == 1\n",
    "\n",
    "None == False\n",
    "\n",
    "not None == True\n",
    "\n",
    "#if True:\n",
    "#  do_this(stuff)\n",
    "#  else:\n",
    "#    do_that(stuff)\n",
    "\n",
    "x = []\n",
    "if x:\n",
    "  print(\"Die Liste ist gefüllt.\")\n",
    "else:\n",
    "  print(\"Die Liste ist leer.\")"
   ]
  },
  {
   "cell_type": "code",
   "execution_count": 27,
   "metadata": {},
   "outputs": [
    {
     "name": "stdout",
     "output_type": "stream",
     "text": [
      "Antworten unvollständig.\n"
     ]
    }
   ],
   "source": [
    "# Vergleiche vornehmen\n",
    "\n",
    "antwort = [1, 2, 3, 2, 4, 1, 8]\n",
    "\n",
    "if antwort and not 8 in antwort:\n",
    "  print(\"Die Antworten sind vollständig\")\n",
    "else:\n",
    "  print(\"Antworten unvollständig.\")\n",
    "## Antworten unvollständig.\n"
   ]
  },
  {
   "cell_type": "markdown",
   "metadata": {},
   "source": [
    "## Prüfung auf Gleichheit und Identität von Werten"
   ]
  },
  {
   "cell_type": "code",
   "execution_count": 28,
   "metadata": {},
   "outputs": [],
   "source": [
    "# x == y # x gleich y\n",
    "\n",
    "# x != y # x ungleich y\n",
    "\n",
    "# x > y # x größer y\n",
    "\n",
    "# x < y # x kleiner y\n",
    "\n",
    "# x < y < z # x kleiner y, y kleiner z\n",
    "\n",
    "# x <= y # x kleiner oder gleich y\n",
    "\n",
    "# x >= y # x größer oder gleich y\n",
    "\n",
    "# x & y, x and y # x und y -> bitwise, logical\n",
    "\n",
    "# x | y, x or y # x oder y -> bitwise, logical"
   ]
  },
  {
   "cell_type": "code",
   "execution_count": 29,
   "metadata": {},
   "outputs": [
    {
     "name": "stdout",
     "output_type": "stream",
     "text": [
      "94857246319744 140456190789936 94857246319744\n"
     ]
    }
   ],
   "source": [
    "x = 4\n",
    "y = 4.0\n",
    "\n",
    "# Prüfung auf Gleichheit / Gleichwertigkeit\n",
    "x == y # True\n",
    "\n",
    "# Prüfung auf Selbigkeit / Identität\n",
    "x is y # False\n",
    "\n",
    "x = 4\n",
    "y = 4.0\n",
    "z = x\n",
    "\n",
    "print(id(x), id(y), id(z))"
   ]
  },
  {
   "cell_type": "markdown",
   "metadata": {},
   "source": [
    "## Unterschied zwischen Referenz und Kopie"
   ]
  },
  {
   "cell_type": "code",
   "execution_count": 30,
   "metadata": {},
   "outputs": [
    {
     "name": "stdout",
     "output_type": "stream",
     "text": [
      "[1, 2]\n",
      "[1, 2, 3] [1, 2]\n"
     ]
    }
   ],
   "source": [
    "# Referenz -> dieselbe ID\n",
    "x = [1, 2, 3]\n",
    "y = x\n",
    "y.pop()\n",
    "print(x)\n",
    "\n",
    "# Kopie -> unterschiedliche ID\n",
    "x = [1, 2, 3]\n",
    "y = x.copy()\n",
    "y.pop()\n",
    "print(x, y)"
   ]
  },
  {
   "cell_type": "markdown",
   "metadata": {},
   "source": [
    "## Abfragen mit while-Schleifen"
   ]
  },
  {
   "cell_type": "code",
   "execution_count": 31,
   "metadata": {},
   "outputs": [
    {
     "name": "stdout",
     "output_type": "stream",
     "text": [
      "1 2 3 "
     ]
    }
   ],
   "source": [
    "i = 1\n",
    "while i < 4:\n",
    "  print(i, end=\" \")\n",
    "  i += 1 # kurz für: i = i + 1"
   ]
  },
  {
   "cell_type": "code",
   "execution_count": 32,
   "metadata": {},
   "outputs": [],
   "source": [
    "##allgemeines Funktionsprinzip einer while-Schleife\n",
    "\n",
    "#process = True\n",
    "#while process:\n",
    "#  if some_condition:\n",
    "#    # ... rufe die Funktion auf.\n",
    "#    do_something_with(stuff)\n",
    "#else:\n",
    "#  process = False"
   ]
  },
  {
   "cell_type": "markdown",
   "metadata": {},
   "source": [
    "## for-Schleifen schreiben"
   ]
  },
  {
   "cell_type": "code",
   "execution_count": 33,
   "metadata": {},
   "outputs": [
    {
     "name": "stdout",
     "output_type": "stream",
     "text": [
      "Markus\n",
      "Julia\n",
      "Klaus\n",
      "Markus\n",
      "Julia\n",
      "Klaus\n"
     ]
    }
   ],
   "source": [
    "names = [\"Markus\", \"Julia\", \"Klaus\"]\n",
    "\n",
    "n = len(names) # n = 3\n",
    "\n",
    "# als Schleife mit Index-Wert\n",
    "for i in range(n):\n",
    "  name = names[i] # names[0] == \"Markus\"\n",
    "  print(name)\n",
    "    \n",
    "# auf Elemente direkt zugreifen\n",
    "for names in names:\n",
    "  print(names)"
   ]
  },
  {
   "cell_type": "markdown",
   "metadata": {},
   "source": [
    "## List-Comprehensions"
   ]
  },
  {
   "cell_type": "code",
   "execution_count": 34,
   "metadata": {},
   "outputs": [],
   "source": [
    "# Liste mit for-loop erstellen\n",
    "numbers_for = []\n",
    "\n",
    "for i in range(10): numbers_for.append(i)\n",
    "\n",
    "# Beispiel einer einfachen List-Comprehension\n",
    "numbers_comp = [i for i in range(10)]\n",
    "numbers_for == numbers_comp\n",
    "\n",
    "# Eine Liste mit Listen entschachteln\n",
    "list_of_lists = [[0, 1, 2], [3, 4, 5], [6, 7, 8]]\n",
    "\n",
    "# als for-loop\n",
    "single_numbers = []\n",
    "for num_list in list_of_lists:\n",
    "  for num in num_list:\n",
    "    single_numbers.append(num)\n",
    "\n",
    "# als list comp\n",
    "single_numbers = [num for num_list in list_of_lists for num in num_list]\n"
   ]
  },
  {
   "cell_type": "markdown",
   "metadata": {},
   "source": [
    "## List Comprehensions mit if-Bedingung"
   ]
  },
  {
   "cell_type": "code",
   "execution_count": 35,
   "metadata": {},
   "outputs": [
    {
     "name": "stdout",
     "output_type": "stream",
     "text": [
      "[0, 2, 4, 6, 8]\n"
     ]
    }
   ],
   "source": [
    "# als for-loop\n",
    "even = []\n",
    "for i in range(10):\n",
    "  if i % 2 == 0:\n",
    "     even.append(i)\n",
    "\n",
    "# als list comp\n",
    "even = [i for i in range(10) if i % 2 == 0]\n",
    "print(even)"
   ]
  },
  {
   "cell_type": "markdown",
   "metadata": {},
   "source": [
    "## Dictionary Comprehensions"
   ]
  },
  {
   "cell_type": "code",
   "execution_count": 36,
   "metadata": {},
   "outputs": [],
   "source": [
    "numbers = [1, 2, 3]\n",
    "labels = [\"eins\", \"zwei\", \"drei\"]\n",
    "d = {k:v for (k, v) in zip(numbers, labels)}"
   ]
  },
  {
   "cell_type": "markdown",
   "metadata": {},
   "source": [
    "## Fehlerbehebung: Try und Except"
   ]
  },
  {
   "cell_type": "code",
   "execution_count": 37,
   "metadata": {},
   "outputs": [],
   "source": [
    "#nummern = [1, 2, \"3.14\", \"Hallo. Wie geht's?\", 4.0]\n",
    "\n",
    "## Code ohne try und except Schlagwörtern\n",
    "#for num in nummern:\n",
    "#  if type(num) == str:\n",
    "#    if \".\" in num:\n",
    "#      num = float(num)\n",
    "#    else:\n",
    "#      num = int(num)\n",
    "#      print(num * 3)\n",
    "\n",
    "## ValueError: could not convert string to float: 'Hallo. Wie geht es dir?'"
   ]
  },
  {
   "cell_type": "code",
   "execution_count": 38,
   "metadata": {},
   "outputs": [
    {
     "name": "stdout",
     "output_type": "stream",
     "text": [
      "3\n",
      "6\n",
      "9.42\n",
      "could not convert string to float: \"Hallo. Wie geht's?\"\n",
      "12.0\n"
     ]
    }
   ],
   "source": [
    "nummern = [1, 2, \"3.14\", \"Hallo. Wie geht's?\", 4.0]\n",
    "\n",
    "# Code mit try und except Schlagwörtern\n",
    "for num in nummern:\n",
    "  try:\n",
    "    if type(num) == str:\n",
    "      if \".\" in num:\n",
    "        num = float(num)\n",
    "      else:\n",
    "        num = int(num)\n",
    "    print(num * 3)\n",
    "  except ValueError as e:\n",
    "    print(e)"
   ]
  },
  {
   "cell_type": "markdown",
   "metadata": {},
   "source": [
    "## Eigene Funktionen definieren"
   ]
  },
  {
   "cell_type": "code",
   "execution_count": 39,
   "metadata": {},
   "outputs": [
    {
     "data": {
      "text/plain": [
       "'Hallo, John! Wie geht es dir?'"
      ]
     },
     "execution_count": 39,
     "metadata": {},
     "output_type": "execute_result"
    }
   ],
   "source": [
    "# Funktion definieren\n",
    "def hello(name):\n",
    "  return (f\"Hallo, {name}! Wie geht es dir?\")\n",
    "\n",
    "# Funktion aufrufen\n",
    "hello(\"John\")\n"
   ]
  },
  {
   "cell_type": "code",
   "execution_count": 40,
   "metadata": {},
   "outputs": [
    {
     "name": "stdout",
     "output_type": "stream",
     "text": [
      "0 0\n",
      "1 1\n",
      "2 4\n",
      "3 9\n",
      "4 16\n",
      "5 25\n"
     ]
    }
   ],
   "source": [
    "## Funktion zur Berechnung des Quadrats\n",
    "def squared(x):\n",
    "  return x**2\n",
    "\n",
    "for ii in range(6):\n",
    "  print(ii, squared(ii))"
   ]
  },
  {
   "cell_type": "code",
   "execution_count": 41,
   "metadata": {},
   "outputs": [
    {
     "name": "stdout",
     "output_type": "stream",
     "text": [
      "Hallo, James! Wie geht es ihnen?\n",
      "Hallo, ihnen! Wie geht es James?\n"
     ]
    }
   ],
   "source": [
    "# Funktion mit Keyword-Parameter\n",
    "def hello(name, anrede=\"dir\"):\n",
    "  return f\"Hallo, {name}! Wie geht es {anrede}?\"\n",
    "\n",
    "print(hello(\"James\", \"ihnen\"))\n",
    "\n",
    "print(hello(\"ihnen\", \"James\"))\n"
   ]
  },
  {
   "cell_type": "markdown",
   "metadata": {},
   "source": [
    "## Daten einlesen und exportieren"
   ]
  },
  {
   "cell_type": "code",
   "execution_count": 42,
   "metadata": {},
   "outputs": [],
   "source": [
    "## Einlesen allgemein\n",
    "# pd.read_<format>(fpath, **params)\n",
    "\n",
    "## Einlesen einer Datei mit Tabulator getrennten Werten\n",
    "# data = pd.read_csv(\"my_tsv_data.csv\", sep=\"\\t\")\n",
    "\n",
    "## Export allgemein\n",
    "# df.to_<format>(fpath, **params)\n",
    "\n",
    "## Export einer Datei mit Pipe getrennten Werten\n",
    "# df.to_csv(fpath, sep=\"|\")"
   ]
  },
  {
   "cell_type": "markdown",
   "metadata": {},
   "source": [
    "## Beispiel-Datensatz generieren"
   ]
  },
  {
   "cell_type": "code",
   "execution_count": 43,
   "metadata": {},
   "outputs": [
    {
     "data": {
      "text/plain": [
       "4     True\n",
       "5     True\n",
       "6     True\n",
       "7     True\n",
       "8     True\n",
       "9     True\n",
       "10    True\n",
       "11    True\n",
       "12    True\n",
       "13    True\n",
       "Name: f1, dtype: bool"
      ]
     },
     "execution_count": 43,
     "metadata": {},
     "output_type": "execute_result"
    }
   ],
   "source": [
    "# Libraries importieren\n",
    "import numpy as np\n",
    "import pandas as pd\n",
    "\n",
    "# Seed festlegen, zur Reproduktion des Codes\n",
    "np.random.seed(42)\n",
    "\n",
    "# Daten und Index generieren\n",
    "data = np.random.random((10, 4))\n",
    "names = [\"f1\", \"f2\", \"f3\", \"f4\"]\n",
    "idx = range(4, 14)\n",
    "\n",
    "# DataFrame erstellen\n",
    "df = pd.DataFrame(data, columns=names, index=idx)\n",
    "\n",
    "# Attribute: Zeilen, Spalten und Werte\n",
    "df.index\n",
    "df.columns\n",
    "df.values\n",
    "\n",
    "# Indexierung einer Spalte\n",
    "df[\"f1\"] == df.f1\n",
    "#out: True"
   ]
  },
  {
   "cell_type": "markdown",
   "metadata": {},
   "source": [
    "## Einem DataFrame neue Spalten hinzufügen"
   ]
  },
  {
   "cell_type": "code",
   "execution_count": 44,
   "metadata": {},
   "outputs": [],
   "source": [
    "# neue Werte hinzufügen\n",
    "np.random.seed(42)\n",
    "cluster_values = np.random.randint(1, 4, 10)\n",
    "df[\"cluster\"] = cluster_values\n",
    "\n",
    "mapping = {\n",
    "    1: \"Sport\",\n",
    "    2: \"Wirtschaft\",\n",
    "    3: \"Kultur\",\n",
    "}\n",
    "df[\"label\"] = df.cluster.map(mapping)"
   ]
  },
  {
   "cell_type": "markdown",
   "metadata": {},
   "source": [
    "## Werte durch Berechnungen hinzufügen und löschen"
   ]
  },
  {
   "cell_type": "code",
   "execution_count": 45,
   "metadata": {},
   "outputs": [],
   "source": [
    "# neue Werte durch Berechnungen hinzufügen\n",
    "df[\"sum_f1_f2\"] = df.f1 + df.f2\n",
    "df[\"mean_f1_f2\"] = (df.f1 + df.f2) / 2\n",
    "\n",
    "# neue Werte durch for-Loop hinzufügen\n",
    "for column in df.columns[0:4]:\n",
    "    name = f\"{column}_mn_diff\"\n",
    "    df[name] = df[column] - df[column].mean()\n",
    "\n",
    "# Spalten löschen\n",
    "df.drop(\"sum_f1_f2\", axis=1, inplace=True)"
   ]
  },
  {
   "cell_type": "markdown",
   "metadata": {},
   "source": [
    "## Auf Werte eines DataFrame zugreifen"
   ]
  },
  {
   "cell_type": "code",
   "execution_count": 46,
   "metadata": {},
   "outputs": [
    {
     "data": {
      "text/html": [
       "<div>\n",
       "<style scoped>\n",
       "    .dataframe tbody tr th:only-of-type {\n",
       "        vertical-align: middle;\n",
       "    }\n",
       "\n",
       "    .dataframe tbody tr th {\n",
       "        vertical-align: top;\n",
       "    }\n",
       "\n",
       "    .dataframe thead th {\n",
       "        text-align: right;\n",
       "    }\n",
       "</style>\n",
       "<table border=\"1\" class=\"dataframe\">\n",
       "  <thead>\n",
       "    <tr style=\"text-align: right;\">\n",
       "      <th></th>\n",
       "      <th>f1</th>\n",
       "      <th>f2</th>\n",
       "      <th>f3</th>\n",
       "      <th>f4</th>\n",
       "      <th>cluster</th>\n",
       "      <th>label</th>\n",
       "      <th>mean_f1_f2</th>\n",
       "      <th>f1_mn_diff</th>\n",
       "      <th>f2_mn_diff</th>\n",
       "      <th>f3_mn_diff</th>\n",
       "      <th>f4_mn_diff</th>\n",
       "    </tr>\n",
       "  </thead>\n",
       "  <tbody>\n",
       "    <tr>\n",
       "      <th>4</th>\n",
       "      <td>1.000000</td>\n",
       "      <td>0.950714</td>\n",
       "      <td>0.731994</td>\n",
       "      <td>0.598658</td>\n",
       "      <td>3</td>\n",
       "      <td>Kultur</td>\n",
       "      <td>0.662627</td>\n",
       "      <td>-0.055296</td>\n",
       "      <td>0.493759</td>\n",
       "      <td>0.314628</td>\n",
       "      <td>0.077754</td>\n",
       "    </tr>\n",
       "    <tr>\n",
       "      <th>12</th>\n",
       "      <td>0.065052</td>\n",
       "      <td>0.948886</td>\n",
       "      <td>0.965632</td>\n",
       "      <td>0.808397</td>\n",
       "      <td>3</td>\n",
       "      <td>Kultur</td>\n",
       "      <td>0.506969</td>\n",
       "      <td>-0.364785</td>\n",
       "      <td>0.491930</td>\n",
       "      <td>0.548266</td>\n",
       "      <td>0.287493</td>\n",
       "    </tr>\n",
       "    <tr>\n",
       "      <th>13</th>\n",
       "      <td>0.304614</td>\n",
       "      <td>0.097672</td>\n",
       "      <td>0.684233</td>\n",
       "      <td>0.440152</td>\n",
       "      <td>3</td>\n",
       "      <td>Kultur</td>\n",
       "      <td>0.201143</td>\n",
       "      <td>-0.125222</td>\n",
       "      <td>-0.359283</td>\n",
       "      <td>0.266867</td>\n",
       "      <td>-0.080752</td>\n",
       "    </tr>\n",
       "  </tbody>\n",
       "</table>\n",
       "</div>"
      ],
      "text/plain": [
       "          f1        f2        f3        f4  cluster   label  mean_f1_f2  \\\n",
       "4   1.000000  0.950714  0.731994  0.598658        3  Kultur    0.662627   \n",
       "12  0.065052  0.948886  0.965632  0.808397        3  Kultur    0.506969   \n",
       "13  0.304614  0.097672  0.684233  0.440152        3  Kultur    0.201143   \n",
       "\n",
       "    f1_mn_diff  f2_mn_diff  f3_mn_diff  f4_mn_diff  \n",
       "4    -0.055296    0.493759    0.314628    0.077754  \n",
       "12   -0.364785    0.491930    0.548266    0.287493  \n",
       "13   -0.125222   -0.359283    0.266867   -0.080752  "
      ]
     },
     "execution_count": 46,
     "metadata": {},
     "output_type": "execute_result"
    }
   ],
   "source": [
    "# Auf Einzelwerte zugreifen: [Zeile, Spalte]\n",
    "df.at[4, \"f1\"] \n",
    "df.iat[4, 0]\n",
    "df.at[4, \"f1\"] == df.iat[0, 0]\n",
    "\n",
    "# Einzelwerte festlegen\n",
    "df.at[4, \"f1\"] = 1\n",
    "\n",
    "# Slicing mit Namen\n",
    "df.loc[5:9, [\"f1\", \"f3\"]]\n",
    "\n",
    "# Indexierung mit Position\n",
    "df.iloc[1:6, [0, 2]]\n",
    "\n",
    "# einfaches boolean Indexing\n",
    "df[df.f1 > 0.4]\n",
    "df[df.label == \"Kultur\"]\n",
    "\n",
    "# komplexes boolean Indexing\n",
    "df[(df.label == \"Kultur\") | (df.cluster == 2)]\n",
    "df[(df.label == \"Kultur\") & (df.f3 >= 0.3)]"
   ]
  },
  {
   "cell_type": "markdown",
   "metadata": {},
   "source": [
    "## Werte eines DataFrame sortieren"
   ]
  },
  {
   "cell_type": "code",
   "execution_count": 47,
   "metadata": {},
   "outputs": [],
   "source": [
    "df.sort_index(inplace=True)\n",
    "df.sort_values(\"f1\", ascending=False, inplace=True)\n",
    "df.sort_values([\"f2\", \"f1\"], ascending=False, inplace=True)"
   ]
  },
  {
   "cell_type": "markdown",
   "metadata": {},
   "source": [
    "## Überblick über die Daten beschaffen"
   ]
  },
  {
   "cell_type": "code",
   "execution_count": 48,
   "metadata": {},
   "outputs": [
    {
     "data": {
      "text/plain": [
       "(10, 11)"
      ]
     },
     "execution_count": 48,
     "metadata": {},
     "output_type": "execute_result"
    }
   ],
   "source": [
    "df.dtypes\n",
    "df.head(2)\n",
    "df.tail(7)\n",
    "df.shape"
   ]
  },
  {
   "cell_type": "markdown",
   "metadata": {},
   "source": [
    "## Daten mit eigenen Funktionen bearbeiten"
   ]
  },
  {
   "cell_type": "code",
   "execution_count": 49,
   "metadata": {},
   "outputs": [
    {
     "data": {
      "text/plain": [
       "4     1\n",
       "12    1\n",
       "10    1\n",
       "6     1\n",
       "8     1\n",
       "7     0\n",
       "5     0\n",
       "9     0\n",
       "13    0\n",
       "11    0\n",
       "Name: f2, dtype: int64"
      ]
     },
     "execution_count": 49,
     "metadata": {},
     "output_type": "execute_result"
    }
   ],
   "source": [
    "def multi_x(x, *args):\n",
    "  for arg in args:\n",
    "    x *= arg\n",
    "  return int(x)\n",
    "\n",
    "# xi mit den args-Werten multiplizieren [i: 0 ... n]\n",
    "df.f1.apply(multi_x, args=(3, 2, 4))\n",
    "\n",
    "# 0, wenn xi kleiner oder gleich 0.5, sonst 1 [i: 0 ... n]\n",
    "df.f2.apply(lambda x: 0 if x <= 0.5 else 1)"
   ]
  },
  {
   "cell_type": "markdown",
   "metadata": {},
   "source": [
    "## Do it yourself\n",
    "\n",
    "Liest den Datensatz **size.csv** in Python ein"
   ]
  },
  {
   "cell_type": "code",
   "execution_count": 50,
   "metadata": {},
   "outputs": [],
   "source": [
    "import pandas as pd\n",
    "size = pd.read_csv(\"/home/matt/Documents/Github/pyStats/data/size.csv\")"
   ]
  },
  {
   "cell_type": "markdown",
   "metadata": {},
   "source": [
    "Verschafft euch einen Überblick über die Daten (dtypes, head, tail)"
   ]
  },
  {
   "cell_type": "code",
   "execution_count": 51,
   "metadata": {},
   "outputs": [
    {
     "data": {
      "text/plain": [
       "(30, 4)"
      ]
     },
     "execution_count": 51,
     "metadata": {},
     "output_type": "execute_result"
    }
   ],
   "source": [
    "# Look at data type\n",
    "size.dtypes\n",
    "\n",
    "# Look at head\n",
    "size.head(2)\n",
    "pd.DataFrame.head(size)\n",
    "size.tail()\n",
    "\n",
    "# Look at shape\n",
    "size.shape"
   ]
  },
  {
   "cell_type": "markdown",
   "metadata": {},
   "source": [
    "Sortiert alle Daten nach Größe"
   ]
  },
  {
   "cell_type": "code",
   "execution_count": 52,
   "metadata": {},
   "outputs": [
    {
     "data": {
      "text/html": [
       "<div>\n",
       "<style scoped>\n",
       "    .dataframe tbody tr th:only-of-type {\n",
       "        vertical-align: middle;\n",
       "    }\n",
       "\n",
       "    .dataframe tbody tr th {\n",
       "        vertical-align: top;\n",
       "    }\n",
       "\n",
       "    .dataframe thead th {\n",
       "        text-align: right;\n",
       "    }\n",
       "</style>\n",
       "<table border=\"1\" class=\"dataframe\">\n",
       "  <thead>\n",
       "    <tr style=\"text-align: right;\">\n",
       "      <th></th>\n",
       "      <th>geschlecht</th>\n",
       "      <th>groesse_cm</th>\n",
       "      <th>schuhgroesse</th>\n",
       "      <th>teilnehmer</th>\n",
       "    </tr>\n",
       "  </thead>\n",
       "  <tbody>\n",
       "    <tr>\n",
       "      <th>7</th>\n",
       "      <td>m</td>\n",
       "      <td>200</td>\n",
       "      <td>41</td>\n",
       "      <td>0</td>\n",
       "    </tr>\n",
       "    <tr>\n",
       "      <th>19</th>\n",
       "      <td>m</td>\n",
       "      <td>198</td>\n",
       "      <td>40</td>\n",
       "      <td>0</td>\n",
       "    </tr>\n",
       "    <tr>\n",
       "      <th>6</th>\n",
       "      <td>m</td>\n",
       "      <td>195</td>\n",
       "      <td>43</td>\n",
       "      <td>0</td>\n",
       "    </tr>\n",
       "    <tr>\n",
       "      <th>18</th>\n",
       "      <td>m</td>\n",
       "      <td>194</td>\n",
       "      <td>46</td>\n",
       "      <td>0</td>\n",
       "    </tr>\n",
       "    <tr>\n",
       "      <th>28</th>\n",
       "      <td>m</td>\n",
       "      <td>190</td>\n",
       "      <td>46</td>\n",
       "      <td>1</td>\n",
       "    </tr>\n",
       "  </tbody>\n",
       "</table>\n",
       "</div>"
      ],
      "text/plain": [
       "   geschlecht  groesse_cm  schuhgroesse  teilnehmer\n",
       "7           m         200            41           0\n",
       "19          m         198            40           0\n",
       "6           m         195            43           0\n",
       "18          m         194            46           0\n",
       "28          m         190            46           1"
      ]
     },
     "execution_count": 52,
     "metadata": {},
     "output_type": "execute_result"
    }
   ],
   "source": [
    "size.sort_values(by=\"groesse_cm\")\n",
    "\n",
    "# Von klein zu groß\n",
    "size = size.sort_values(\"groesse_cm\")\n",
    "# Alternative\n",
    "size.sort_values(\"groesse_cm\", inplace=True)\n",
    "\n",
    "# Von groß zu klein\n",
    "size.sort_values(\"groesse_cm\", ascending=False, inplace=True)\n",
    "size.head()"
   ]
  },
  {
   "cell_type": "markdown",
   "metadata": {},
   "source": [
    "Wie kann man den Datensatz nach zwei Variablen sortieren?"
   ]
  },
  {
   "cell_type": "code",
   "execution_count": 53,
   "metadata": {},
   "outputs": [
    {
     "data": {
      "text/html": [
       "<div>\n",
       "<style scoped>\n",
       "    .dataframe tbody tr th:only-of-type {\n",
       "        vertical-align: middle;\n",
       "    }\n",
       "\n",
       "    .dataframe tbody tr th {\n",
       "        vertical-align: top;\n",
       "    }\n",
       "\n",
       "    .dataframe thead th {\n",
       "        text-align: right;\n",
       "    }\n",
       "</style>\n",
       "<table border=\"1\" class=\"dataframe\">\n",
       "  <thead>\n",
       "    <tr style=\"text-align: right;\">\n",
       "      <th></th>\n",
       "      <th>geschlecht</th>\n",
       "      <th>groesse_cm</th>\n",
       "      <th>schuhgroesse</th>\n",
       "      <th>teilnehmer</th>\n",
       "    </tr>\n",
       "  </thead>\n",
       "  <tbody>\n",
       "    <tr>\n",
       "      <th>19</th>\n",
       "      <td>m</td>\n",
       "      <td>198</td>\n",
       "      <td>40</td>\n",
       "      <td>0</td>\n",
       "    </tr>\n",
       "    <tr>\n",
       "      <th>7</th>\n",
       "      <td>m</td>\n",
       "      <td>200</td>\n",
       "      <td>41</td>\n",
       "      <td>0</td>\n",
       "    </tr>\n",
       "    <tr>\n",
       "      <th>2</th>\n",
       "      <td>m</td>\n",
       "      <td>180</td>\n",
       "      <td>41</td>\n",
       "      <td>0</td>\n",
       "    </tr>\n",
       "    <tr>\n",
       "      <th>23</th>\n",
       "      <td>m</td>\n",
       "      <td>179</td>\n",
       "      <td>42</td>\n",
       "      <td>0</td>\n",
       "    </tr>\n",
       "    <tr>\n",
       "      <th>12</th>\n",
       "      <td>m</td>\n",
       "      <td>179</td>\n",
       "      <td>42</td>\n",
       "      <td>0</td>\n",
       "    </tr>\n",
       "  </tbody>\n",
       "</table>\n",
       "</div>"
      ],
      "text/plain": [
       "   geschlecht  groesse_cm  schuhgroesse  teilnehmer\n",
       "19          m         198            40           0\n",
       "7           m         200            41           0\n",
       "2           m         180            41           0\n",
       "23          m         179            42           0\n",
       "12          m         179            42           0"
      ]
     },
     "execution_count": 53,
     "metadata": {},
     "output_type": "execute_result"
    }
   ],
   "source": [
    "# Hierzu schaut man am Besten in der Hilfe\n",
    "# ?size.sort_values\n",
    "\n",
    "# Und kommt dann zu folgendem Ergebniss\n",
    "size.sort_values(by=[\"geschlecht\", \"schuhgroesse\"], inplace=True)\n",
    "size.head()"
   ]
  },
  {
   "cell_type": "markdown",
   "metadata": {},
   "source": [
    "Extrahiert alle Einträge mit einer Groesse über 180 cm"
   ]
  },
  {
   "cell_type": "code",
   "execution_count": 54,
   "metadata": {},
   "outputs": [
    {
     "data": {
      "text/html": [
       "<div>\n",
       "<style scoped>\n",
       "    .dataframe tbody tr th:only-of-type {\n",
       "        vertical-align: middle;\n",
       "    }\n",
       "\n",
       "    .dataframe tbody tr th {\n",
       "        vertical-align: top;\n",
       "    }\n",
       "\n",
       "    .dataframe thead th {\n",
       "        text-align: right;\n",
       "    }\n",
       "</style>\n",
       "<table border=\"1\" class=\"dataframe\">\n",
       "  <thead>\n",
       "    <tr style=\"text-align: right;\">\n",
       "      <th></th>\n",
       "      <th>geschlecht</th>\n",
       "      <th>groesse_cm</th>\n",
       "      <th>schuhgroesse</th>\n",
       "      <th>teilnehmer</th>\n",
       "    </tr>\n",
       "  </thead>\n",
       "  <tbody>\n",
       "    <tr>\n",
       "      <th>19</th>\n",
       "      <td>m</td>\n",
       "      <td>198</td>\n",
       "      <td>40</td>\n",
       "      <td>0</td>\n",
       "    </tr>\n",
       "    <tr>\n",
       "      <th>7</th>\n",
       "      <td>m</td>\n",
       "      <td>200</td>\n",
       "      <td>41</td>\n",
       "      <td>0</td>\n",
       "    </tr>\n",
       "    <tr>\n",
       "      <th>6</th>\n",
       "      <td>m</td>\n",
       "      <td>195</td>\n",
       "      <td>43</td>\n",
       "      <td>0</td>\n",
       "    </tr>\n",
       "    <tr>\n",
       "      <th>0</th>\n",
       "      <td>m</td>\n",
       "      <td>189</td>\n",
       "      <td>43</td>\n",
       "      <td>0</td>\n",
       "    </tr>\n",
       "    <tr>\n",
       "      <th>24</th>\n",
       "      <td>m</td>\n",
       "      <td>189</td>\n",
       "      <td>43</td>\n",
       "      <td>1</td>\n",
       "    </tr>\n",
       "    <tr>\n",
       "      <th>11</th>\n",
       "      <td>m</td>\n",
       "      <td>184</td>\n",
       "      <td>43</td>\n",
       "      <td>0</td>\n",
       "    </tr>\n",
       "    <tr>\n",
       "      <th>25</th>\n",
       "      <td>m</td>\n",
       "      <td>189</td>\n",
       "      <td>45</td>\n",
       "      <td>1</td>\n",
       "    </tr>\n",
       "    <tr>\n",
       "      <th>17</th>\n",
       "      <td>m</td>\n",
       "      <td>188</td>\n",
       "      <td>45</td>\n",
       "      <td>0</td>\n",
       "    </tr>\n",
       "    <tr>\n",
       "      <th>18</th>\n",
       "      <td>m</td>\n",
       "      <td>194</td>\n",
       "      <td>46</td>\n",
       "      <td>0</td>\n",
       "    </tr>\n",
       "    <tr>\n",
       "      <th>28</th>\n",
       "      <td>m</td>\n",
       "      <td>190</td>\n",
       "      <td>46</td>\n",
       "      <td>1</td>\n",
       "    </tr>\n",
       "    <tr>\n",
       "      <th>5</th>\n",
       "      <td>m</td>\n",
       "      <td>190</td>\n",
       "      <td>46</td>\n",
       "      <td>0</td>\n",
       "    </tr>\n",
       "    <tr>\n",
       "      <th>20</th>\n",
       "      <td>w</td>\n",
       "      <td>187</td>\n",
       "      <td>36</td>\n",
       "      <td>0</td>\n",
       "    </tr>\n",
       "    <tr>\n",
       "      <th>9</th>\n",
       "      <td>w</td>\n",
       "      <td>190</td>\n",
       "      <td>37</td>\n",
       "      <td>0</td>\n",
       "    </tr>\n",
       "    <tr>\n",
       "      <th>8</th>\n",
       "      <td>w</td>\n",
       "      <td>185</td>\n",
       "      <td>39</td>\n",
       "      <td>0</td>\n",
       "    </tr>\n",
       "    <tr>\n",
       "      <th>13</th>\n",
       "      <td>w</td>\n",
       "      <td>183</td>\n",
       "      <td>39</td>\n",
       "      <td>0</td>\n",
       "    </tr>\n",
       "    <tr>\n",
       "      <th>21</th>\n",
       "      <td>w</td>\n",
       "      <td>184</td>\n",
       "      <td>40</td>\n",
       "      <td>0</td>\n",
       "    </tr>\n",
       "  </tbody>\n",
       "</table>\n",
       "</div>"
      ],
      "text/plain": [
       "   geschlecht  groesse_cm  schuhgroesse  teilnehmer\n",
       "19          m         198            40           0\n",
       "7           m         200            41           0\n",
       "6           m         195            43           0\n",
       "0           m         189            43           0\n",
       "24          m         189            43           1\n",
       "11          m         184            43           0\n",
       "25          m         189            45           1\n",
       "17          m         188            45           0\n",
       "18          m         194            46           0\n",
       "28          m         190            46           1\n",
       "5           m         190            46           0\n",
       "20          w         187            36           0\n",
       "9           w         190            37           0\n",
       "8           w         185            39           0\n",
       "13          w         183            39           0\n",
       "21          w         184            40           0"
      ]
     },
     "execution_count": 54,
     "metadata": {},
     "output_type": "execute_result"
    }
   ],
   "source": [
    "size[size.groesse_cm > 180]"
   ]
  },
  {
   "cell_type": "markdown",
   "metadata": {},
   "source": [
    "Nun extrahiert alle Einträge für weibliche Personen mit einer Groesse von 180 cm und mehr:"
   ]
  },
  {
   "cell_type": "code",
   "execution_count": 55,
   "metadata": {},
   "outputs": [
    {
     "data": {
      "text/html": [
       "<div>\n",
       "<style scoped>\n",
       "    .dataframe tbody tr th:only-of-type {\n",
       "        vertical-align: middle;\n",
       "    }\n",
       "\n",
       "    .dataframe tbody tr th {\n",
       "        vertical-align: top;\n",
       "    }\n",
       "\n",
       "    .dataframe thead th {\n",
       "        text-align: right;\n",
       "    }\n",
       "</style>\n",
       "<table border=\"1\" class=\"dataframe\">\n",
       "  <thead>\n",
       "    <tr style=\"text-align: right;\">\n",
       "      <th></th>\n",
       "      <th>geschlecht</th>\n",
       "      <th>groesse_cm</th>\n",
       "      <th>schuhgroesse</th>\n",
       "      <th>teilnehmer</th>\n",
       "    </tr>\n",
       "  </thead>\n",
       "  <tbody>\n",
       "    <tr>\n",
       "      <th>20</th>\n",
       "      <td>w</td>\n",
       "      <td>187</td>\n",
       "      <td>36</td>\n",
       "      <td>0</td>\n",
       "    </tr>\n",
       "    <tr>\n",
       "      <th>9</th>\n",
       "      <td>w</td>\n",
       "      <td>190</td>\n",
       "      <td>37</td>\n",
       "      <td>0</td>\n",
       "    </tr>\n",
       "    <tr>\n",
       "      <th>8</th>\n",
       "      <td>w</td>\n",
       "      <td>185</td>\n",
       "      <td>39</td>\n",
       "      <td>0</td>\n",
       "    </tr>\n",
       "    <tr>\n",
       "      <th>13</th>\n",
       "      <td>w</td>\n",
       "      <td>183</td>\n",
       "      <td>39</td>\n",
       "      <td>0</td>\n",
       "    </tr>\n",
       "    <tr>\n",
       "      <th>21</th>\n",
       "      <td>w</td>\n",
       "      <td>184</td>\n",
       "      <td>40</td>\n",
       "      <td>0</td>\n",
       "    </tr>\n",
       "  </tbody>\n",
       "</table>\n",
       "</div>"
      ],
      "text/plain": [
       "   geschlecht  groesse_cm  schuhgroesse  teilnehmer\n",
       "20          w         187            36           0\n",
       "9           w         190            37           0\n",
       "8           w         185            39           0\n",
       "13          w         183            39           0\n",
       "21          w         184            40           0"
      ]
     },
     "execution_count": 55,
     "metadata": {},
     "output_type": "execute_result"
    }
   ],
   "source": [
    "size[(size.geschlecht == \"w\") & (size.groesse_cm >= 180)]"
   ]
  },
  {
   "cell_type": "markdown",
   "metadata": {},
   "source": [
    "und für alle männlichen Personen mit einer Groesse unter 190 cm und einer Schuhgroesse von 43:"
   ]
  },
  {
   "cell_type": "code",
   "execution_count": 56,
   "metadata": {},
   "outputs": [
    {
     "data": {
      "text/html": [
       "<div>\n",
       "<style scoped>\n",
       "    .dataframe tbody tr th:only-of-type {\n",
       "        vertical-align: middle;\n",
       "    }\n",
       "\n",
       "    .dataframe tbody tr th {\n",
       "        vertical-align: top;\n",
       "    }\n",
       "\n",
       "    .dataframe thead th {\n",
       "        text-align: right;\n",
       "    }\n",
       "</style>\n",
       "<table border=\"1\" class=\"dataframe\">\n",
       "  <thead>\n",
       "    <tr style=\"text-align: right;\">\n",
       "      <th></th>\n",
       "      <th>geschlecht</th>\n",
       "      <th>groesse_cm</th>\n",
       "      <th>schuhgroesse</th>\n",
       "      <th>teilnehmer</th>\n",
       "    </tr>\n",
       "  </thead>\n",
       "  <tbody>\n",
       "    <tr>\n",
       "      <th>0</th>\n",
       "      <td>m</td>\n",
       "      <td>189</td>\n",
       "      <td>43</td>\n",
       "      <td>0</td>\n",
       "    </tr>\n",
       "    <tr>\n",
       "      <th>24</th>\n",
       "      <td>m</td>\n",
       "      <td>189</td>\n",
       "      <td>43</td>\n",
       "      <td>1</td>\n",
       "    </tr>\n",
       "    <tr>\n",
       "      <th>11</th>\n",
       "      <td>m</td>\n",
       "      <td>184</td>\n",
       "      <td>43</td>\n",
       "      <td>0</td>\n",
       "    </tr>\n",
       "    <tr>\n",
       "      <th>14</th>\n",
       "      <td>m</td>\n",
       "      <td>178</td>\n",
       "      <td>43</td>\n",
       "      <td>0</td>\n",
       "    </tr>\n",
       "  </tbody>\n",
       "</table>\n",
       "</div>"
      ],
      "text/plain": [
       "   geschlecht  groesse_cm  schuhgroesse  teilnehmer\n",
       "0           m         189            43           0\n",
       "24          m         189            43           1\n",
       "11          m         184            43           0\n",
       "14          m         178            43           0"
      ]
     },
     "execution_count": 56,
     "metadata": {},
     "output_type": "execute_result"
    }
   ],
   "source": [
    "size[(size.geschlecht == \"m\") & (size.groesse_cm < 190) & (size.schuhgroesse == 43)]"
   ]
  },
  {
   "cell_type": "markdown",
   "metadata": {},
   "source": [
    "Aller Männer unter 180 cm oder Männer mit Schuhgröße 40"
   ]
  },
  {
   "cell_type": "code",
   "execution_count": 57,
   "metadata": {},
   "outputs": [
    {
     "data": {
      "text/html": [
       "<div>\n",
       "<style scoped>\n",
       "    .dataframe tbody tr th:only-of-type {\n",
       "        vertical-align: middle;\n",
       "    }\n",
       "\n",
       "    .dataframe tbody tr th {\n",
       "        vertical-align: top;\n",
       "    }\n",
       "\n",
       "    .dataframe thead th {\n",
       "        text-align: right;\n",
       "    }\n",
       "</style>\n",
       "<table border=\"1\" class=\"dataframe\">\n",
       "  <thead>\n",
       "    <tr style=\"text-align: right;\">\n",
       "      <th></th>\n",
       "      <th>geschlecht</th>\n",
       "      <th>groesse_cm</th>\n",
       "      <th>schuhgroesse</th>\n",
       "      <th>teilnehmer</th>\n",
       "    </tr>\n",
       "  </thead>\n",
       "  <tbody>\n",
       "    <tr>\n",
       "      <th>19</th>\n",
       "      <td>m</td>\n",
       "      <td>198</td>\n",
       "      <td>40</td>\n",
       "      <td>0</td>\n",
       "    </tr>\n",
       "    <tr>\n",
       "      <th>23</th>\n",
       "      <td>m</td>\n",
       "      <td>179</td>\n",
       "      <td>42</td>\n",
       "      <td>0</td>\n",
       "    </tr>\n",
       "    <tr>\n",
       "      <th>12</th>\n",
       "      <td>m</td>\n",
       "      <td>179</td>\n",
       "      <td>42</td>\n",
       "      <td>0</td>\n",
       "    </tr>\n",
       "    <tr>\n",
       "      <th>26</th>\n",
       "      <td>m</td>\n",
       "      <td>173</td>\n",
       "      <td>42</td>\n",
       "      <td>1</td>\n",
       "    </tr>\n",
       "    <tr>\n",
       "      <th>14</th>\n",
       "      <td>m</td>\n",
       "      <td>178</td>\n",
       "      <td>43</td>\n",
       "      <td>0</td>\n",
       "    </tr>\n",
       "  </tbody>\n",
       "</table>\n",
       "</div>"
      ],
      "text/plain": [
       "   geschlecht  groesse_cm  schuhgroesse  teilnehmer\n",
       "19          m         198            40           0\n",
       "23          m         179            42           0\n",
       "12          m         179            42           0\n",
       "26          m         173            42           1\n",
       "14          m         178            43           0"
      ]
     },
     "execution_count": 57,
     "metadata": {},
     "output_type": "execute_result"
    }
   ],
   "source": [
    "size[(size.geschlecht == \"m\") & (size.groesse_cm < 180) | (size.geschlecht == \"m\") & (size.schuhgroesse == 40)]\n",
    "\n",
    "# Oder so\n",
    "size[(size.geschlecht == \"m\") & ((size.groesse_cm < 180) | (size.schuhgroesse == 40))]"
   ]
  },
  {
   "cell_type": "markdown",
   "metadata": {},
   "source": [
    "Extrahiert alle Einträge für weibliche Personen mit einer Groesse von 190 cm oder einer Schuhgroesse von 40."
   ]
  },
  {
   "cell_type": "code",
   "execution_count": 58,
   "metadata": {},
   "outputs": [
    {
     "data": {
      "text/html": [
       "<div>\n",
       "<style scoped>\n",
       "    .dataframe tbody tr th:only-of-type {\n",
       "        vertical-align: middle;\n",
       "    }\n",
       "\n",
       "    .dataframe tbody tr th {\n",
       "        vertical-align: top;\n",
       "    }\n",
       "\n",
       "    .dataframe thead th {\n",
       "        text-align: right;\n",
       "    }\n",
       "</style>\n",
       "<table border=\"1\" class=\"dataframe\">\n",
       "  <thead>\n",
       "    <tr style=\"text-align: right;\">\n",
       "      <th></th>\n",
       "      <th>geschlecht</th>\n",
       "      <th>groesse_cm</th>\n",
       "      <th>schuhgroesse</th>\n",
       "      <th>teilnehmer</th>\n",
       "    </tr>\n",
       "  </thead>\n",
       "  <tbody>\n",
       "    <tr>\n",
       "      <th>9</th>\n",
       "      <td>w</td>\n",
       "      <td>190</td>\n",
       "      <td>37</td>\n",
       "      <td>0</td>\n",
       "    </tr>\n",
       "    <tr>\n",
       "      <th>21</th>\n",
       "      <td>w</td>\n",
       "      <td>184</td>\n",
       "      <td>40</td>\n",
       "      <td>0</td>\n",
       "    </tr>\n",
       "    <tr>\n",
       "      <th>10</th>\n",
       "      <td>w</td>\n",
       "      <td>168</td>\n",
       "      <td>40</td>\n",
       "      <td>0</td>\n",
       "    </tr>\n",
       "    <tr>\n",
       "      <th>1</th>\n",
       "      <td>w</td>\n",
       "      <td>160</td>\n",
       "      <td>40</td>\n",
       "      <td>0</td>\n",
       "    </tr>\n",
       "  </tbody>\n",
       "</table>\n",
       "</div>"
      ],
      "text/plain": [
       "   geschlecht  groesse_cm  schuhgroesse  teilnehmer\n",
       "9           w         190            37           0\n",
       "21          w         184            40           0\n",
       "10          w         168            40           0\n",
       "1           w         160            40           0"
      ]
     },
     "execution_count": 58,
     "metadata": {},
     "output_type": "execute_result"
    }
   ],
   "source": [
    "size[(size.geschlecht == \"w\") & ((size.groesse_cm == 190) | (size.schuhgroesse == 40))]"
   ]
  },
  {
   "cell_type": "markdown",
   "metadata": {},
   "source": [
    "Alle Männer unter 180 und alle Frauen mit Schuhgroesse 40"
   ]
  },
  {
   "cell_type": "code",
   "execution_count": 59,
   "metadata": {},
   "outputs": [
    {
     "data": {
      "text/html": [
       "<div>\n",
       "<style scoped>\n",
       "    .dataframe tbody tr th:only-of-type {\n",
       "        vertical-align: middle;\n",
       "    }\n",
       "\n",
       "    .dataframe tbody tr th {\n",
       "        vertical-align: top;\n",
       "    }\n",
       "\n",
       "    .dataframe thead th {\n",
       "        text-align: right;\n",
       "    }\n",
       "</style>\n",
       "<table border=\"1\" class=\"dataframe\">\n",
       "  <thead>\n",
       "    <tr style=\"text-align: right;\">\n",
       "      <th></th>\n",
       "      <th>geschlecht</th>\n",
       "      <th>groesse_cm</th>\n",
       "      <th>schuhgroesse</th>\n",
       "      <th>teilnehmer</th>\n",
       "    </tr>\n",
       "  </thead>\n",
       "  <tbody>\n",
       "    <tr>\n",
       "      <th>23</th>\n",
       "      <td>m</td>\n",
       "      <td>179</td>\n",
       "      <td>42</td>\n",
       "      <td>0</td>\n",
       "    </tr>\n",
       "    <tr>\n",
       "      <th>12</th>\n",
       "      <td>m</td>\n",
       "      <td>179</td>\n",
       "      <td>42</td>\n",
       "      <td>0</td>\n",
       "    </tr>\n",
       "    <tr>\n",
       "      <th>26</th>\n",
       "      <td>m</td>\n",
       "      <td>173</td>\n",
       "      <td>42</td>\n",
       "      <td>1</td>\n",
       "    </tr>\n",
       "    <tr>\n",
       "      <th>14</th>\n",
       "      <td>m</td>\n",
       "      <td>178</td>\n",
       "      <td>43</td>\n",
       "      <td>0</td>\n",
       "    </tr>\n",
       "    <tr>\n",
       "      <th>21</th>\n",
       "      <td>w</td>\n",
       "      <td>184</td>\n",
       "      <td>40</td>\n",
       "      <td>0</td>\n",
       "    </tr>\n",
       "    <tr>\n",
       "      <th>10</th>\n",
       "      <td>w</td>\n",
       "      <td>168</td>\n",
       "      <td>40</td>\n",
       "      <td>0</td>\n",
       "    </tr>\n",
       "    <tr>\n",
       "      <th>1</th>\n",
       "      <td>w</td>\n",
       "      <td>160</td>\n",
       "      <td>40</td>\n",
       "      <td>0</td>\n",
       "    </tr>\n",
       "  </tbody>\n",
       "</table>\n",
       "</div>"
      ],
      "text/plain": [
       "   geschlecht  groesse_cm  schuhgroesse  teilnehmer\n",
       "23          m         179            42           0\n",
       "12          m         179            42           0\n",
       "26          m         173            42           1\n",
       "14          m         178            43           0\n",
       "21          w         184            40           0\n",
       "10          w         168            40           0\n",
       "1           w         160            40           0"
      ]
     },
     "execution_count": 59,
     "metadata": {},
     "output_type": "execute_result"
    }
   ],
   "source": [
    "size[((size.geschlecht == \"m\") & (size.groesse_cm < 180)) | ((size.geschlecht == \"w\") & (size.schuhgroesse == 40))]"
   ]
  }
 ],
 "metadata": {
  "kernelspec": {
   "display_name": "Python 3",
   "language": "python",
   "name": "python3"
  },
  "language_info": {
   "codemirror_mode": {
    "name": "ipython",
    "version": 3
   },
   "file_extension": ".py",
   "mimetype": "text/x-python",
   "name": "python",
   "nbconvert_exporter": "python",
   "pygments_lexer": "ipython3",
   "version": "3.7.3"
  }
 },
 "nbformat": 4,
 "nbformat_minor": 2
}
