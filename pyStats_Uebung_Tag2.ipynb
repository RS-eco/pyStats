{
 "cells": [
  {
   "cell_type": "markdown",
   "metadata": {},
   "source": [
    "# Einführung in die Statistik mit Python - Tag 2\n",
    "\n",
    "## Statistische Berechnungen mit Python"
   ]
  },
  {
   "cell_type": "code",
   "execution_count": 1,
   "metadata": {},
   "outputs": [],
   "source": [
    "# Import libraries\n",
    "import numpy as np\n",
    "import pandas as pd\n",
    "import matplotlib.pyplot as plt\n",
    "import seaborn as sns\n",
    "\n",
    "# Was kann das Pandas package?\n",
    "# ?pd\n",
    "\n",
    "# Zur Übersicht von verfügbaren Funktionen innerhalb der am häufigsten verwendeten Libraries, \n",
    "# geht oben im Menü auf Help\n",
    "# Hier gibt es Links zu der Übersicht der Packages: pandas, Matplotlib, NumPy, ..."
   ]
  },
  {
   "cell_type": "markdown",
   "metadata": {},
   "source": [
    "### Mittelwert berechnen"
   ]
  },
  {
   "cell_type": "code",
   "execution_count": 2,
   "metadata": {},
   "outputs": [
    {
     "data": {
      "text/plain": [
       "4833.333333333333"
      ]
     },
     "execution_count": 2,
     "metadata": {},
     "output_type": "execute_result"
    }
   ],
   "source": [
    "# Funktion definieren\n",
    "def mittelwert(array):\n",
    "  n = len(array)\n",
    "  return sum(array)/n\n",
    "\n",
    "# Liste erstellen\n",
    "gehalt = [1000, 1500, 1500, 20000, 3000, 2000]\n",
    "\n",
    "# Mittelwert berechnen\n",
    "mittelwert(gehalt)"
   ]
  },
  {
   "cell_type": "markdown",
   "metadata": {},
   "source": [
    "### Median berechnen"
   ]
  },
  {
   "cell_type": "code",
   "execution_count": 3,
   "metadata": {},
   "outputs": [
    {
     "data": {
      "text/plain": [
       "1750.0"
      ]
     },
     "execution_count": 3,
     "metadata": {},
     "output_type": "execute_result"
    }
   ],
   "source": [
    "def median(array):\n",
    "  array = sorted(array)\n",
    "  n = len(array)\n",
    "  index = int(n / 2)\n",
    "  if n % 2 == 0:\n",
    "    lower = array[index - 1]\n",
    "    upper = array[index]\n",
    "    median = 0.5 * (lower + upper)\n",
    "  else:\n",
    "    median = array[index]\n",
    "  return median\n",
    "\n",
    "gehalt = [1000, 1500, 1500, 20000, 3000, 2000]\n",
    "median(gehalt)"
   ]
  },
  {
   "cell_type": "markdown",
   "metadata": {},
   "source": [
    "### Modus berechnen"
   ]
  },
  {
   "cell_type": "code",
   "execution_count": 4,
   "metadata": {},
   "outputs": [],
   "source": [
    "from collections import Counter\n",
    "\n",
    "# Funktion definieren\n",
    "def modus(array):\n",
    "  counts = Counter(array)\n",
    "  most_common = counts.most_common(2)\n",
    "  modus = most_common[0][1]\n",
    "  if modus == most_common[1][1]:\n",
    "    return None\n",
    "  return array[modus]\n",
    "\n",
    "gehalt = [1000, 1500, 1500, 20000, 3000, 2000]\n",
    "modus(gehalt)\n",
    "\n",
    "from collections import Counter\n",
    "\n",
    "# Was für Funktionen gibt es noch im collections Paket?\n",
    "# import collections\n",
    "# ?collections"
   ]
  },
  {
   "cell_type": "markdown",
   "metadata": {},
   "source": [
    "### Quantile, Quartile and Perzentile"
   ]
  },
  {
   "cell_type": "code",
   "execution_count": 5,
   "metadata": {},
   "outputs": [
    {
     "data": {
      "text/html": [
       "<div>\n",
       "<style scoped>\n",
       "    .dataframe tbody tr th:only-of-type {\n",
       "        vertical-align: middle;\n",
       "    }\n",
       "\n",
       "    .dataframe tbody tr th {\n",
       "        vertical-align: top;\n",
       "    }\n",
       "\n",
       "    .dataframe thead th {\n",
       "        text-align: right;\n",
       "    }\n",
       "</style>\n",
       "<table border=\"1\" class=\"dataframe\">\n",
       "  <thead>\n",
       "    <tr style=\"text-align: right;\">\n",
       "      <th></th>\n",
       "      <th>0</th>\n",
       "    </tr>\n",
       "  </thead>\n",
       "  <tbody>\n",
       "    <tr>\n",
       "      <th>0.01</th>\n",
       "      <td>1025.0</td>\n",
       "    </tr>\n",
       "    <tr>\n",
       "      <th>0.25</th>\n",
       "      <td>1500.0</td>\n",
       "    </tr>\n",
       "    <tr>\n",
       "      <th>0.50</th>\n",
       "      <td>1750.0</td>\n",
       "    </tr>\n",
       "    <tr>\n",
       "      <th>0.75</th>\n",
       "      <td>2750.0</td>\n",
       "    </tr>\n",
       "    <tr>\n",
       "      <th>0.99</th>\n",
       "      <td>19150.0</td>\n",
       "    </tr>\n",
       "  </tbody>\n",
       "</table>\n",
       "</div>"
      ],
      "text/plain": [
       "            0\n",
       "0.01   1025.0\n",
       "0.25   1500.0\n",
       "0.50   1750.0\n",
       "0.75   2750.0\n",
       "0.99  19150.0"
      ]
     },
     "execution_count": 5,
     "metadata": {},
     "output_type": "execute_result"
    }
   ],
   "source": [
    "# Import library for iris dataset\n",
    "import seaborn as sns\n",
    "\n",
    "# Import dataset\n",
    "iris = sns.load_dataset('iris')\n",
    "\n",
    "# Look at head of iris dataset\n",
    "iris.head()\n",
    "\n",
    "# Quantile of all numeric variables\n",
    "iris.quantile([0.01, 0.25, 0.5, 0.75, 0.99])\n",
    "\n",
    "# Quantile of one numeric variable (here: sepal_length)\n",
    "iris[\"sepal_length\"].quantile([0, 0.25, 0.5, 0.75, 1])\n",
    "\n",
    "# Quantile von Gehalt, die Liste muss zuerst in DataFrame umgewandelt werden\n",
    "gehalt = pd.DataFrame([1000, 1500, 1500, 20000, 3000, 2000])\n",
    "gehalt.quantile([0.01, 0.25, 0.5, 0.75, 0.99])"
   ]
  },
  {
   "cell_type": "markdown",
   "metadata": {},
   "source": [
    "### Five-number summary"
   ]
  },
  {
   "cell_type": "code",
   "execution_count": 6,
   "metadata": {},
   "outputs": [
    {
     "name": "stdout",
     "output_type": "stream",
     "text": [
      "[ 0.   0.5  7.5 44.  63. ]\n"
     ]
    }
   ],
   "source": [
    "def fivenum(data):\n",
    "  return np.percentile(data, [0, 25, 50, 75, 100], interpolation='midpoint')\n",
    "\n",
    "moons = [0, 0, 1, 2, 63, 61, 27, 13]\n",
    "\n",
    "print(fivenum(moons))"
   ]
  },
  {
   "cell_type": "markdown",
   "metadata": {},
   "source": [
    "### Extremwerte und Spannweite"
   ]
  },
  {
   "cell_type": "code",
   "execution_count": 7,
   "metadata": {},
   "outputs": [
    {
     "name": "stdout",
     "output_type": "stream",
     "text": [
      "4\n",
      "100\n",
      "96\n"
     ]
    }
   ],
   "source": [
    "values = [4,12,43.3,19,100]\n",
    "\n",
    "print(min(values)) # Calculate minimum\n",
    "\n",
    "print(max(values)) # Calculate maximum\n",
    "\n",
    "# Die Funktion range() berechnet nicht die Spannweite, \n",
    "# sondern wirft Zahlen in einer bestimmten Spanne aus\n",
    "range(5)\n",
    "\n",
    "# Daher muessen wir hierfür eine neue Funktion definieren\n",
    "def getrange(numbers): return max(numbers) - min(numbers)\n",
    "\n",
    "print(getrange(values)) # Calculate range"
   ]
  },
  {
   "cell_type": "markdown",
   "metadata": {},
   "source": [
    "### Varianz berechnen"
   ]
  },
  {
   "cell_type": "code",
   "execution_count": 8,
   "metadata": {},
   "outputs": [
    {
     "data": {
      "text/plain": [
       "55666666.66666668"
      ]
     },
     "execution_count": 8,
     "metadata": {},
     "output_type": "execute_result"
    }
   ],
   "source": [
    "import math\n",
    "\n",
    "def varianz(array):\n",
    "  n = len(array)\n",
    "  mn = sum(array) / n\n",
    "  var = (1 / (n-1)) * sum(map(lambda xi: (xi-mn) ** 2 , array))\n",
    "  return var\n",
    "\n",
    "gehalt = [1000, 1500, 1500, 20000, 3000, 2000]\n",
    "varianz(gehalt)"
   ]
  },
  {
   "cell_type": "markdown",
   "metadata": {},
   "source": [
    "### Standardabweichung berechnen"
   ]
  },
  {
   "cell_type": "code",
   "execution_count": 9,
   "metadata": {},
   "outputs": [
    {
     "data": {
      "text/plain": [
       "7461.009761866465"
      ]
     },
     "execution_count": 9,
     "metadata": {},
     "output_type": "execute_result"
    }
   ],
   "source": [
    "def standard_abweichung(array):\n",
    "  n = len(array)\n",
    "  mn = sum(array) / n\n",
    "  var = (1 / (n-1)) * sum(map(lambda xi: (xi-mn) ** 2 , array))\n",
    "  std = math.sqrt(var)\n",
    "  return std\n",
    "\n",
    "gehalt = [1000, 1500, 1500, 20000, 3000, 2000]\n",
    "standard_abweichung(gehalt)"
   ]
  },
  {
   "cell_type": "markdown",
   "metadata": {},
   "source": [
    "### Berechnung des Variationskoeffizienten"
   ]
  },
  {
   "cell_type": "code",
   "execution_count": 10,
   "metadata": {},
   "outputs": [
    {
     "data": {
      "text/plain": [
       "0.21063658821333273"
      ]
     },
     "execution_count": 10,
     "metadata": {},
     "output_type": "execute_result"
    }
   ],
   "source": [
    "def var_koeff(array):\n",
    "  n = len(array)\n",
    "  mn = sum(array) / n\n",
    "  var = (1 / (n-1)) * sum(map(lambda x: (x - mn) ** 2 , array))\n",
    "  std = math.sqrt(var)\n",
    "  cv = std / mn\n",
    "  if 0 in array:\n",
    "    cv = cv / math.sqrt((n-1))\n",
    "  return cv\n",
    "  \n",
    "pizza_de = [4.99, 7.99, 5.99, 4.99, 6.99]\n",
    "var_koeff(pizza_de)"
   ]
  },
  {
   "cell_type": "markdown",
   "metadata": {},
   "source": [
    "### Ein Gesamtüberblick"
   ]
  },
  {
   "cell_type": "code",
   "execution_count": 11,
   "metadata": {},
   "outputs": [
    {
     "data": {
      "text/html": [
       "<div>\n",
       "<style scoped>\n",
       "    .dataframe tbody tr th:only-of-type {\n",
       "        vertical-align: middle;\n",
       "    }\n",
       "\n",
       "    .dataframe tbody tr th {\n",
       "        vertical-align: top;\n",
       "    }\n",
       "\n",
       "    .dataframe thead th {\n",
       "        text-align: right;\n",
       "    }\n",
       "</style>\n",
       "<table border=\"1\" class=\"dataframe\">\n",
       "  <thead>\n",
       "    <tr style=\"text-align: right;\">\n",
       "      <th></th>\n",
       "      <th>sepal_length</th>\n",
       "      <th>sepal_width</th>\n",
       "      <th>petal_length</th>\n",
       "      <th>petal_width</th>\n",
       "    </tr>\n",
       "  </thead>\n",
       "  <tbody>\n",
       "    <tr>\n",
       "      <th>count</th>\n",
       "      <td>150.000000</td>\n",
       "      <td>150.000000</td>\n",
       "      <td>150.000000</td>\n",
       "      <td>150.000000</td>\n",
       "    </tr>\n",
       "    <tr>\n",
       "      <th>mean</th>\n",
       "      <td>5.843333</td>\n",
       "      <td>3.057333</td>\n",
       "      <td>3.758000</td>\n",
       "      <td>1.199333</td>\n",
       "    </tr>\n",
       "    <tr>\n",
       "      <th>std</th>\n",
       "      <td>0.828066</td>\n",
       "      <td>0.435866</td>\n",
       "      <td>1.765298</td>\n",
       "      <td>0.762238</td>\n",
       "    </tr>\n",
       "    <tr>\n",
       "      <th>min</th>\n",
       "      <td>4.300000</td>\n",
       "      <td>2.000000</td>\n",
       "      <td>1.000000</td>\n",
       "      <td>0.100000</td>\n",
       "    </tr>\n",
       "    <tr>\n",
       "      <th>25%</th>\n",
       "      <td>5.100000</td>\n",
       "      <td>2.800000</td>\n",
       "      <td>1.600000</td>\n",
       "      <td>0.300000</td>\n",
       "    </tr>\n",
       "    <tr>\n",
       "      <th>50%</th>\n",
       "      <td>5.800000</td>\n",
       "      <td>3.000000</td>\n",
       "      <td>4.350000</td>\n",
       "      <td>1.300000</td>\n",
       "    </tr>\n",
       "    <tr>\n",
       "      <th>75%</th>\n",
       "      <td>6.400000</td>\n",
       "      <td>3.300000</td>\n",
       "      <td>5.100000</td>\n",
       "      <td>1.800000</td>\n",
       "    </tr>\n",
       "    <tr>\n",
       "      <th>max</th>\n",
       "      <td>7.900000</td>\n",
       "      <td>4.400000</td>\n",
       "      <td>6.900000</td>\n",
       "      <td>2.500000</td>\n",
       "    </tr>\n",
       "  </tbody>\n",
       "</table>\n",
       "</div>"
      ],
      "text/plain": [
       "       sepal_length  sepal_width  petal_length  petal_width\n",
       "count    150.000000   150.000000    150.000000   150.000000\n",
       "mean       5.843333     3.057333      3.758000     1.199333\n",
       "std        0.828066     0.435866      1.765298     0.762238\n",
       "min        4.300000     2.000000      1.000000     0.100000\n",
       "25%        5.100000     2.800000      1.600000     0.300000\n",
       "50%        5.800000     3.000000      4.350000     1.300000\n",
       "75%        6.400000     3.300000      5.100000     1.800000\n",
       "max        7.900000     4.400000      6.900000     2.500000"
      ]
     },
     "execution_count": 11,
     "metadata": {},
     "output_type": "execute_result"
    }
   ],
   "source": [
    "# Import dataset\n",
    "iris.describe()"
   ]
  },
  {
   "cell_type": "markdown",
   "metadata": {},
   "source": [
    "### Daten einzeln zusammenfassen"
   ]
  },
  {
   "cell_type": "code",
   "execution_count": 12,
   "metadata": {},
   "outputs": [
    {
     "data": {
      "text/plain": [
       "0.8280661279778629"
      ]
     },
     "execution_count": 12,
     "metadata": {},
     "output_type": "execute_result"
    }
   ],
   "source": [
    "# Dimension of the sepal length variable\n",
    "len(iris[\"sepal_length\"])\n",
    "len(iris[\"species\"])\n",
    "\n",
    "iris[\"sepal_length\"].min(); iris[\"sepal_length\"].max() # Minimum and maximum of the sepal length variable\n",
    "iris[\"sepal_length\"].mean() # Mean of the sepal length variable\n",
    "iris[\"sepal_length\"].var() # Variance of the sepal length variable\n",
    "iris[\"sepal_length\"].std() # Standard deviation of the sepal length variable"
   ]
  },
  {
   "cell_type": "markdown",
   "metadata": {},
   "source": [
    "### Daten aggregiert zusammenfassen"
   ]
  },
  {
   "cell_type": "code",
   "execution_count": 13,
   "metadata": {},
   "outputs": [
    {
     "data": {
      "text/plain": [
       "mean          5.843333\n",
       "median        5.800000\n",
       "sum         876.500000\n",
       "sqrt_sum     29.605743\n",
       "Name: sepal_length, dtype: float64"
      ]
     },
     "execution_count": 13,
     "metadata": {},
     "output_type": "execute_result"
    }
   ],
   "source": [
    "def sqrt_sum(array):\n",
    "    sum_array = sum(array)\n",
    "    return np.sqrt(sum_array)\n",
    "\n",
    "iris.sepal_length.agg([\"mean\", \"median\", sum, sqrt_sum])\n"
   ]
  },
  {
   "cell_type": "markdown",
   "metadata": {},
   "source": [
    "### Skewness und Kurtosis"
   ]
  },
  {
   "cell_type": "code",
   "execution_count": 14,
   "metadata": {},
   "outputs": [
    {
     "name": "stdout",
     "output_type": "stream",
     "text": [
      "skew :  -0.0006041003961050831\n",
      "kurt :  0.0003287467593784399\n"
     ]
    }
   ],
   "source": [
    "# Import kurtosis and skewness functions\n",
    "from scipy.stats import kurtosis\n",
    "from scipy.stats import skew\n",
    "\n",
    "# Create data\n",
    "data = np.random.normal(0, 1, 10000000)\n",
    "\n",
    "# Calculate skewness and kurtosis\n",
    "print(\"skew : \",skew(data))\n",
    "print(\"kurt : \",kurtosis(data))"
   ]
  },
  {
   "cell_type": "markdown",
   "metadata": {},
   "source": [
    "### Daten als Tabelle"
   ]
  },
  {
   "cell_type": "code",
   "execution_count": 15,
   "metadata": {},
   "outputs": [
    {
     "data": {
      "text/html": [
       "<div>\n",
       "<style scoped>\n",
       "    .dataframe tbody tr th:only-of-type {\n",
       "        vertical-align: middle;\n",
       "    }\n",
       "\n",
       "    .dataframe tbody tr th {\n",
       "        vertical-align: top;\n",
       "    }\n",
       "\n",
       "    .dataframe thead th {\n",
       "        text-align: right;\n",
       "    }\n",
       "</style>\n",
       "<table border=\"1\" class=\"dataframe\">\n",
       "  <thead>\n",
       "    <tr style=\"text-align: right;\">\n",
       "      <th></th>\n",
       "      <th>species</th>\n",
       "      <th>cum_sum</th>\n",
       "      <th>cum_perc</th>\n",
       "    </tr>\n",
       "  </thead>\n",
       "  <tbody>\n",
       "    <tr>\n",
       "      <th>setosa</th>\n",
       "      <td>50</td>\n",
       "      <td>50</td>\n",
       "      <td>33.333333</td>\n",
       "    </tr>\n",
       "    <tr>\n",
       "      <th>virginica</th>\n",
       "      <td>50</td>\n",
       "      <td>100</td>\n",
       "      <td>66.666667</td>\n",
       "    </tr>\n",
       "    <tr>\n",
       "      <th>versicolor</th>\n",
       "      <td>50</td>\n",
       "      <td>150</td>\n",
       "      <td>100.000000</td>\n",
       "    </tr>\n",
       "  </tbody>\n",
       "</table>\n",
       "</div>"
      ],
      "text/plain": [
       "            species  cum_sum    cum_perc\n",
       "setosa           50       50   33.333333\n",
       "virginica        50      100   66.666667\n",
       "versicolor       50      150  100.000000"
      ]
     },
     "execution_count": 15,
     "metadata": {},
     "output_type": "execute_result"
    }
   ],
   "source": [
    "# Filtering iris data\n",
    "speciesdf = iris[\"species\"]\n",
    "\n",
    "# Group by species\n",
    "speciesdf = pd.DataFrame(speciesdf.value_counts(sort=True))\n",
    "\n",
    "# Create new column with cumulative sum\n",
    "speciesdf[\"cum_sum\"] = speciesdf[\"species\"].cumsum()\n",
    "\n",
    "# Create new column with relative frequency\n",
    "speciesdf[\"cum_perc\"] = 100*speciesdf[\"cum_sum\"]/speciesdf[\"species\"].sum()\n",
    "speciesdf\n"
   ]
  },
  {
   "cell_type": "markdown",
   "metadata": {},
   "source": [
    "### Aufteilung in Intervalle und entsprechende Häufigkeiten"
   ]
  },
  {
   "cell_type": "code",
   "execution_count": 16,
   "metadata": {},
   "outputs": [
    {
     "name": "stdout",
     "output_type": "stream",
     "text": [
      "(array([ 0,  0,  0,  0, 22, 61, 54, 13,  0,  0]), array([ 0.,  1.,  2.,  3.,  4.,  5.,  6.,  7.,  8.,  9., 10.]))\n",
      "(array([ 0,  0, 83, 67]), array([0, 2, 4, 6, 8]))\n"
     ]
    }
   ],
   "source": [
    "# Division of the interval in 10 equal parts, \n",
    "# and the interval closed on right\n",
    "table = np.histogram(iris[\"sepal_length\"], bins=10, range=(0, 10))\n",
    "print(table)\n",
    "\n",
    "# Division at fixed intervals, \n",
    "# i.e., the buckets object indicates the limits of the intervals. \n",
    "# The intervals should be closed on right.\n",
    "buckets = [0, 2, 4, 6, 8]\n",
    "table = np.histogram(iris[\"sepal_length\"], bins=buckets)\n",
    "print(table)"
   ]
  },
  {
   "cell_type": "markdown",
   "metadata": {},
   "source": [
    "### Do it yourself\n",
    "\n",
    "Liest erneut den Datensatz **size.csv** in Python ein"
   ]
  },
  {
   "cell_type": "code",
   "execution_count": 17,
   "metadata": {},
   "outputs": [],
   "source": [
    "size = pd.read_csv(\"/home/matt/Documents/Github/pyStats/data/size.csv\")"
   ]
  },
  {
   "cell_type": "markdown",
   "metadata": {},
   "source": [
    "Berechnet die Minimal-, Durchschnitts- und Maximalgröße jeweils für Männer und für Frauen"
   ]
  },
  {
   "cell_type": "code",
   "execution_count": 18,
   "metadata": {},
   "outputs": [
    {
     "data": {
      "text/plain": [
       "geschlecht        w\n",
       "groesse_cm      160\n",
       "schuhgroesse     36\n",
       "teilnehmer        0\n",
       "dtype: object"
      ]
     },
     "execution_count": 18,
     "metadata": {},
     "output_type": "execute_result"
    }
   ],
   "source": [
    "size_m = size[(size.geschlecht == \"m\")]\n",
    "size_w = size[(size.geschlecht == \"w\")]\n",
    "\n",
    "size_m.min(); size_w.min()\n",
    "size_m.mean(); size_w.mean()\n",
    "size_m.max(); size_w.min()"
   ]
  },
  {
   "cell_type": "markdown",
   "metadata": {},
   "source": [
    "Wie viele Dateneinträge gibt es jeweils für Männer und für Frauen (Kontingenztafel)"
   ]
  },
  {
   "cell_type": "code",
   "execution_count": 19,
   "metadata": {},
   "outputs": [
    {
     "data": {
      "text/html": [
       "<div>\n",
       "<style scoped>\n",
       "    .dataframe tbody tr th:only-of-type {\n",
       "        vertical-align: middle;\n",
       "    }\n",
       "\n",
       "    .dataframe tbody tr th {\n",
       "        vertical-align: top;\n",
       "    }\n",
       "\n",
       "    .dataframe thead th {\n",
       "        text-align: right;\n",
       "    }\n",
       "</style>\n",
       "<table border=\"1\" class=\"dataframe\">\n",
       "  <thead>\n",
       "    <tr style=\"text-align: right;\">\n",
       "      <th></th>\n",
       "      <th>geschlecht</th>\n",
       "      <th>cum_sum</th>\n",
       "      <th>cum_perc</th>\n",
       "    </tr>\n",
       "  </thead>\n",
       "  <tbody>\n",
       "    <tr>\n",
       "      <th>m</th>\n",
       "      <td>16</td>\n",
       "      <td>16</td>\n",
       "      <td>53.333333</td>\n",
       "    </tr>\n",
       "    <tr>\n",
       "      <th>w</th>\n",
       "      <td>14</td>\n",
       "      <td>30</td>\n",
       "      <td>100.000000</td>\n",
       "    </tr>\n",
       "  </tbody>\n",
       "</table>\n",
       "</div>"
      ],
      "text/plain": [
       "   geschlecht  cum_sum    cum_perc\n",
       "m          16       16   53.333333\n",
       "w          14       30  100.000000"
      ]
     },
     "execution_count": 19,
     "metadata": {},
     "output_type": "execute_result"
    }
   ],
   "source": [
    "# Filtering data\n",
    "size_sex = size[\"geschlecht\"]\n",
    "\n",
    "# Group by species\n",
    "size_sex = pd.DataFrame(size_sex.value_counts(sort=True))\n",
    "\n",
    "# Create new column with cumulative sum\n",
    "size_sex[\"cum_sum\"] = size_sex[\"geschlecht\"].cumsum()\n",
    "\n",
    "# Create new column with relative frequency\n",
    "size_sex[\"cum_perc\"] = 100*size_sex[\"cum_sum\"]/size_sex[\"geschlecht\"].sum()\n",
    "size_sex"
   ]
  },
  {
   "cell_type": "markdown",
   "metadata": {},
   "source": [
    "Berechnet Minimum, unteres Quartil, Median, oberes Quartile und Maximum der Schuhgroessen"
   ]
  },
  {
   "cell_type": "code",
   "execution_count": 20,
   "metadata": {},
   "outputs": [
    {
     "data": {
      "text/plain": [
       "<bound method NDFrame.describe of 0     43\n",
       "1     40\n",
       "2     41\n",
       "3     38\n",
       "4     39\n",
       "5     46\n",
       "6     43\n",
       "7     41\n",
       "8     39\n",
       "9     37\n",
       "10    40\n",
       "11    43\n",
       "12    42\n",
       "13    39\n",
       "14    43\n",
       "15    37\n",
       "16    39\n",
       "17    45\n",
       "18    46\n",
       "19    40\n",
       "20    36\n",
       "21    40\n",
       "22    38\n",
       "23    42\n",
       "24    43\n",
       "25    45\n",
       "26    42\n",
       "27    39\n",
       "28    46\n",
       "29    39\n",
       "Name: schuhgroesse, dtype: int64>"
      ]
     },
     "execution_count": 20,
     "metadata": {},
     "output_type": "execute_result"
    }
   ],
   "source": [
    "size[\"schuhgroesse\"].describe"
   ]
  },
  {
   "cell_type": "markdown",
   "metadata": {},
   "source": [
    "Gibt es eine stärkere Varianz und Standardabweichung in der Schuhgroesse von Männern oder von Frauen?"
   ]
  },
  {
   "cell_type": "code",
   "execution_count": 21,
   "metadata": {},
   "outputs": [
    {
     "data": {
      "text/plain": [
       "1.222499691004253"
      ]
     },
     "execution_count": 21,
     "metadata": {},
     "output_type": "execute_result"
    }
   ],
   "source": [
    "size_m[\"schuhgroesse\"].var(); size_m[\"schuhgroesse\"].std()\n",
    "\n",
    "size_w[\"schuhgroesse\"].var(); size_w[\"schuhgroesse\"].std()"
   ]
  },
  {
   "cell_type": "markdown",
   "metadata": {},
   "source": [
    "## Datenvisualisierung mit Python\n",
    "\n",
    "### Säulendiagramm"
   ]
  },
  {
   "cell_type": "code",
   "execution_count": 22,
   "metadata": {},
   "outputs": [
    {
     "data": {
      "image/png": "[encoded data removed]",
      "text/plain": [
       "<Figure size 432x288 with 1 Axes>"
      ]
     },
     "metadata": {
      "needs_background": "light"
     },
     "output_type": "display_data"
    }
   ],
   "source": [
    "# Make a fake dataset:\n",
    "height = [3, 12, 5, 18, 45]\n",
    "bars = ('A', 'B', 'C', 'D', 'E')\n",
    "y_pos = np.arange(len(bars))\n",
    " \n",
    "# Create bars\n",
    "plt.bar(y_pos, height)\n",
    " \n",
    "# Create names on the x-axis\n",
    "plt.xticks(y_pos, bars)\n",
    "\n",
    "plt.show() # Show graphic\n"
   ]
  },
  {
   "cell_type": "markdown",
   "metadata": {},
   "source": [
    "### Histogramm"
   ]
  },
  {
   "cell_type": "code",
   "execution_count": 23,
   "metadata": {},
   "outputs": [
    {
     "data": {
      "image/png": "[encoded data removed]",
      "text/plain": [
       "<Figure size 432x288 with 1 Axes>"
      ]
     },
     "metadata": {
      "needs_background": "light"
     },
     "output_type": "display_data"
    },
    {
     "data": {
      "image/png": "[encoded data removed]",
      "text/plain": [
       "<Figure size 432x288 with 1 Axes>"
      ]
     },
     "metadata": {
      "needs_background": "light"
     },
     "output_type": "display_data"
    },
    {
     "data": {
      "image/png": "[encoded data removed]",
      "text/plain": [
       "<Figure size 432x288 with 1 Axes>"
      ]
     },
     "metadata": {
      "needs_background": "light"
     },
     "output_type": "display_data"
    },
    {
     "data": {
      "image/png": "[encoded data removed]",
      "text/plain": [
       "<Figure size 432x288 with 1 Axes>"
      ]
     },
     "metadata": {
      "needs_background": "light"
     },
     "output_type": "display_data"
    }
   ],
   "source": [
    "# Import library and dataset\n",
    "iris = sns.load_dataset('iris')\n",
    "\n",
    "# Hist only\n",
    "sns.distplot(a=iris[\"sepal_length\"], hist=True, kde=False, rug=False )\n",
    "plt.show()\n",
    " \n",
    "# Hist + Rug + kernel density\n",
    "sns.distplot( a=iris[\"sepal_length\"], hist=True, kde=True, rug=True )\n",
    "plt.show()\n",
    " \n",
    "# To change parameters of rug\n",
    "sns.distplot( a=iris[\"sepal_length\"], rug=True,\n",
    "rug_kws={\"color\": \"r\", \"alpha\":0.3, \"linewidth\": 2, \"height\":0.2 }\n",
    ")\n",
    "plt.show()\n",
    " \n",
    "# To change parameters of density distribution\n",
    "sns.distplot( a=iris[\"sepal_length\"], kde=True,\n",
    "kde_kws={\"color\": \"g\", \"alpha\":0.3, \"linewidth\": 5, \"shade\":True }\n",
    ")\n",
    "plt.show()\n"
   ]
  },
  {
   "cell_type": "markdown",
   "metadata": {},
   "source": [
    "### Kuchen-Diagramm"
   ]
  },
  {
   "cell_type": "code",
   "execution_count": 24,
   "metadata": {},
   "outputs": [
    {
     "data": {
      "text/plain": [
       "array([<matplotlib.axes._subplots.AxesSubplot object at 0x7f3686a53c88>],\n",
       "      dtype=object)"
      ]
     },
     "execution_count": 24,
     "metadata": {},
     "output_type": "execute_result"
    },
    {
     "data": {
      "image/png": "[encoded data removed]",
      "text/plain": [
       "<Figure size 576x576 with 1 Axes>"
      ]
     },
     "metadata": {},
     "output_type": "display_data"
    }
   ],
   "source": [
    "df = pd.DataFrame([8,8,1,2], index=['a','b','c','d'], \n",
    "                  columns=['x']) # just 4 values for 4 groups\n",
    " \n",
    "df.plot(kind='pie', subplots=True, figsize=(8, 8))\n"
   ]
  },
  {
   "cell_type": "markdown",
   "metadata": {},
   "source": [
    "### Box-Plot"
   ]
  },
  {
   "cell_type": "code",
   "execution_count": 25,
   "metadata": {},
   "outputs": [
    {
     "data": {
      "image/png": "[encoded data removed]",
      "text/plain": [
       "<Figure size 432x288 with 1 Axes>"
      ]
     },
     "metadata": {
      "needs_background": "light"
     },
     "output_type": "display_data"
    },
    {
     "data": {
      "image/png": "[encoded data removed]",
      "text/plain": [
       "<Figure size 432x288 with 1 Axes>"
      ]
     },
     "metadata": {
      "needs_background": "light"
     },
     "output_type": "display_data"
    },
    {
     "data": {
      "image/png": "[encoded data removed]",
      "text/plain": [
       "<Figure size 432x288 with 1 Axes>"
      ]
     },
     "metadata": {
      "needs_background": "light"
     },
     "output_type": "display_data"
    },
    {
     "data": {
      "image/png": "[encoded data removed]",
      "text/plain": [
       "<Figure size 432x288 with 1 Axes>"
      ]
     },
     "metadata": {
      "needs_background": "light"
     },
     "output_type": "display_data"
    }
   ],
   "source": [
    "iris = sns.load_dataset('iris')\n",
    "\n",
    "# Make boxplot for one group only\n",
    "sns.boxplot(y=iris[\"sepal_length\"])\n",
    "plt.show()\n",
    "\n",
    "sns.boxplot(x=iris[\"species\"], y=iris[\"sepal_length\"])\n",
    "plt.show()\n",
    "\n",
    "sns.boxplot(data=iris.iloc[:,0:2])\n",
    "plt.show()\n",
    "\n",
    "# Grouped boxplot\n",
    "tips = sns.load_dataset('tips')\n",
    "sns.boxplot(x=\"day\", y=\"total_bill\", hue=\"smoker\", data=tips, palette=\"Set1\")\n",
    "plt.show()"
   ]
  },
  {
   "cell_type": "markdown",
   "metadata": {},
   "source": [
    "### Streudiagramm"
   ]
  },
  {
   "cell_type": "code",
   "execution_count": 26,
   "metadata": {},
   "outputs": [
    {
     "data": {
      "image/png": "[encoded data removed]",
      "text/plain": [
       "<Figure size 432x288 with 1 Axes>"
      ]
     },
     "metadata": {
      "needs_background": "light"
     },
     "output_type": "display_data"
    }
   ],
   "source": [
    "iris = sns.load_dataset('iris')\n",
    "\n",
    "# use the function regplot to make a scatterplot\n",
    "sns.regplot(x=iris[\"sepal_length\"], y=iris[\"sepal_width\"], fit_reg=False)\n",
    "plt.show()"
   ]
  },
  {
   "cell_type": "markdown",
   "metadata": {},
   "source": [
    "### Verbundenes Streudiagramm"
   ]
  },
  {
   "cell_type": "code",
   "execution_count": 27,
   "metadata": {},
   "outputs": [
    {
     "data": {
      "image/png": "[encoded data removed]",
      "text/plain": [
       "<Figure size 432x288 with 1 Axes>"
      ]
     },
     "metadata": {
      "needs_background": "light"
     },
     "output_type": "display_data"
    }
   ],
   "source": [
    "# Create data\n",
    "df=pd.DataFrame({'var1': range(1,101), 'var2': np.random.randn(100)*15+range(1,101)})\n",
    " \n",
    "# plot with matplotlib, but using seaborn style, as seaborn package has been loaded before\n",
    "plt.plot('var1', 'var2', data=df, marker='o', color='mediumvioletred')\n",
    "plt.show()"
   ]
  },
  {
   "cell_type": "markdown",
   "metadata": {},
   "source": [
    "### Liniendiagramm"
   ]
  },
  {
   "cell_type": "code",
   "execution_count": 28,
   "metadata": {},
   "outputs": [
    {
     "data": {
      "image/png": "[encoded data removed]",
      "text/plain": [
       "<Figure size 432x288 with 1 Axes>"
      ]
     },
     "metadata": {
      "needs_background": "light"
     },
     "output_type": "display_data"
    }
   ],
   "source": [
    "# create data\n",
    "values=np.cumsum(np.random.randn(1000,1))\n",
    " \n",
    "# use the plot function\n",
    "plt.plot(values)\n",
    "plt.show()"
   ]
  },
  {
   "cell_type": "markdown",
   "metadata": {},
   "source": [
    "### Flächendiagramm"
   ]
  },
  {
   "cell_type": "code",
   "execution_count": 29,
   "metadata": {},
   "outputs": [
    {
     "data": {
      "image/png": "[encoded data removed]",
      "text/plain": [
       "<Figure size 432x288 with 1 Axes>"
      ]
     },
     "metadata": {
      "needs_background": "light"
     },
     "output_type": "display_data"
    }
   ],
   "source": [
    "# Create data\n",
    "x=range(1,6)\n",
    "y=[1,4,6,8,4]\n",
    " \n",
    "# Area plot\n",
    "plt.fill_between(x, y)\n",
    "plt.show()"
   ]
  },
  {
   "cell_type": "markdown",
   "metadata": {},
   "source": [
    "### gestapeltes Flächendiagramm"
   ]
  },
  {
   "cell_type": "code",
   "execution_count": 30,
   "metadata": {},
   "outputs": [
    {
     "data": {
      "image/png": "[encoded data removed]",
      "text/plain": [
       "<Figure size 432x288 with 1 Axes>"
      ]
     },
     "metadata": {
      "needs_background": "light"
     },
     "output_type": "display_data"
    }
   ],
   "source": [
    "# Your x and y axis\n",
    "x=range(1,6)\n",
    "y=[ [1,4,6,8,9], \n",
    "    [2,2,7,10,12], \n",
    "    [2,8,5,10,6] ]\n",
    " \n",
    "# Basic stacked area chart.\n",
    "plt.stackplot(x,y, labels=['A','B','C'])\n",
    "plt.legend(loc='upper left')\n",
    "plt.show()"
   ]
  },
  {
   "cell_type": "markdown",
   "metadata": {},
   "source": [
    "### Heatmap"
   ]
  },
  {
   "cell_type": "code",
   "execution_count": 31,
   "metadata": {},
   "outputs": [
    {
     "data": {
      "text/plain": [
       "<matplotlib.axes._subplots.AxesSubplot at 0x7f367d458048>"
      ]
     },
     "execution_count": 31,
     "metadata": {},
     "output_type": "execute_result"
    },
    {
     "data": {
      "image/png": "[encoded data removed]",
      "text/plain": [
       "<Figure size 432x288 with 2 Axes>"
      ]
     },
     "metadata": {
      "needs_background": "light"
     },
     "output_type": "display_data"
    }
   ],
   "source": [
    "# Create a dataset (fake)\n",
    "df = pd.DataFrame(np.random.random((5,5)), columns=[\"a\",\"b\",\"c\",\"d\",\"e\"])\n",
    " \n",
    "# Default heatmap\n",
    "# just a visualization of this square matrix\n",
    "p1 = sns.heatmap(df)\n",
    "p1"
   ]
  },
  {
   "cell_type": "markdown",
   "metadata": {},
   "source": [
    "### Grafiken speichern"
   ]
  },
  {
   "cell_type": "code",
   "execution_count": 32,
   "metadata": {},
   "outputs": [
    {
     "name": "stdout",
     "output_type": "stream",
     "text": [
      "/home/matt/Documents/Github/pyStats\n"
     ]
    }
   ],
   "source": [
    "# Um Grafiken am richtigen Ort zu speichern, muss man den kompletten Pfad angeben\n",
    "#plt.savefig('/home/matt/Desktop/StatsKurs/plot1.png')\n",
    "#plt.savefig('/home/matt/Desktop/StatsKurs/plot1.pdf')\n",
    "\n",
    "# Ansonsten werden die Grafiken im derzeitigen Arbeits-Verzeichnis gespeichert\n",
    "\n",
    "# Diese lässt sich so abrufen\n",
    "import os\n",
    "print(os.getcwd())\n",
    "\n",
    "# und mit os.chdir() einem bestimmten Pfad zu weisen\n",
    "os.chdir('/home/matt/Documents/Github/pyStats')"
   ]
  },
  {
   "cell_type": "markdown",
   "metadata": {},
   "source": [
    "### Do it yourself\n",
    "\n",
    "Liest erneut den Datensatz size.csv in Python ein"
   ]
  },
  {
   "cell_type": "code",
   "execution_count": 33,
   "metadata": {},
   "outputs": [],
   "source": [
    "# Get help for reading csv file\n",
    "# ?pd.read_csv\n",
    "\n",
    "# Read csv file\n",
    "size = pd.read_csv(\"/home/matt/Documents/Github/pyStats/data/size.csv\")"
   ]
  },
  {
   "cell_type": "markdown",
   "metadata": {},
   "source": [
    "Erstellt einen geeignete Grafik um die Groesse darzustellen"
   ]
  },
  {
   "cell_type": "code",
   "execution_count": 34,
   "metadata": {},
   "outputs": [
    {
     "data": {
      "image/png": "[encoded data removed]",
      "text/plain": [
       "<Figure size 432x288 with 1 Axes>"
      ]
     },
     "metadata": {
      "needs_background": "light"
     },
     "output_type": "display_data"
    }
   ],
   "source": [
    "# Hist only\n",
    "sns.distplot(a=size[\"groesse_cm\"], hist=True, kde=False, rug=False )\n",
    "plt.show()\n",
    "\n",
    "# Alternative kann man den Plot auch einem Namen zuweisen und dann den Plot mit dem Namen aufrufen\n",
    "#fig1 = sns.distplot(a=size[\"groesse_cm\"], hist=True, kde=False, rug=False)\n",
    "#fig1 "
   ]
  },
  {
   "cell_type": "markdown",
   "metadata": {},
   "source": [
    "Plottet die Groesse in Zusammenhang zum Geschlecht"
   ]
  },
  {
   "cell_type": "code",
   "execution_count": 35,
   "metadata": {},
   "outputs": [
    {
     "data": {
      "image/png": "[encoded data removed]",
      "text/plain": [
       "<Figure size 432x288 with 1 Axes>"
      ]
     },
     "metadata": {
      "needs_background": "light"
     },
     "output_type": "display_data"
    }
   ],
   "source": [
    "# Boxplot für Geschlecht und Groesse\n",
    "sns.boxplot(x=size[\"geschlecht\"], y=size[\"groesse_cm\"])\n",
    "plt.show()"
   ]
  },
  {
   "cell_type": "code",
   "execution_count": 36,
   "metadata": {},
   "outputs": [
    {
     "data": {
      "text/plain": [
       "<matplotlib.legend.Legend at 0x7f3678ea97f0>"
      ]
     },
     "execution_count": 36,
     "metadata": {},
     "output_type": "execute_result"
    },
    {
     "data": {
      "image/png": "[encoded data removed]",
      "text/plain": [
       "<Figure size 432x288 with 1 Axes>"
      ]
     },
     "metadata": {
      "needs_background": "light"
     },
     "output_type": "display_data"
    }
   ],
   "source": [
    "# Oder zwei Histogramme in einem Plot\n",
    "size_m = size[(size.geschlecht == \"m\")]\n",
    "size_w = size[(size.geschlecht == \"w\")]\n",
    "\n",
    "sns.distplot(size_m[\"groesse_cm\"] , color=\"skyblue\", label=\"Männlich\")\n",
    "sns.distplot(size_w[\"groesse_cm\"] , color=\"red\", label=\"Weiblich\")\n",
    "plt.legend()"
   ]
  },
  {
   "cell_type": "markdown",
   "metadata": {},
   "source": [
    "Plottet die Schuhgröße gegen die Körpergroesse"
   ]
  },
  {
   "cell_type": "code",
   "execution_count": 37,
   "metadata": {},
   "outputs": [
    {
     "data": {
      "image/png": "[encoded data removed]",
      "text/plain": [
       "<Figure size 432x288 with 1 Axes>"
      ]
     },
     "metadata": {
      "needs_background": "light"
     },
     "output_type": "display_data"
    }
   ],
   "source": [
    "# use the function regplot to make a scatterplot\n",
    "sns.regplot(x=size[\"groesse_cm\"], y=size[\"schuhgroesse\"], fit_reg=False)\n",
    "plt.show()"
   ]
  },
  {
   "cell_type": "markdown",
   "metadata": {},
   "source": [
    "Speichert die erstellten Grafiken als Datei"
   ]
  },
  {
   "cell_type": "code",
   "execution_count": 38,
   "metadata": {},
   "outputs": [
    {
     "data": {
      "image/png": "[encoded data removed]",
      "text/plain": [
       "<Figure size 432x288 with 1 Axes>"
      ]
     },
     "metadata": {
      "needs_background": "light"
     },
     "output_type": "display_data"
    }
   ],
   "source": [
    "fig2 = sns.distplot(a=size[\"groesse_cm\"], hist=True, kde=False, rug=False)\n",
    "fig2\n",
    "plt.savefig('/home/matt/Documents/Github/pyStats/plot.png')\n",
    "\n",
    "# Get help of savefig function\n",
    "#?plt.savefig"
   ]
  }
 ],
 "metadata": {
  "kernelspec": {
   "display_name": "Python 3",
   "language": "python",
   "name": "python3"
  },
  "language_info": {
   "codemirror_mode": {
    "name": "ipython",
    "version": 3
   },
   "file_extension": ".py",
   "mimetype": "text/x-python",
   "name": "python",
   "nbconvert_exporter": "python",
   "pygments_lexer": "ipython3",
   "version": "3.7.3"
  }
 },
 "nbformat": 4,
 "nbformat_minor": 2
}
