{
 "cells": [
  {
   "cell_type": "markdown",
   "metadata": {},
   "source": [
    "# Einführung in die Statistik mit Python - Tag 3"
   ]
  },
  {
   "cell_type": "markdown",
   "metadata": {},
   "source": [
    "## Datenverarbeitung in Pandas\n",
    "\n",
    "### Apply Funktion"
   ]
  },
  {
   "cell_type": "code",
   "execution_count": 1,
   "metadata": {},
   "outputs": [
    {
     "name": "stdout",
     "output_type": "stream",
     "text": [
      "survived         0\n",
      "pclass           0\n",
      "sex              0\n",
      "age            177\n",
      "sibsp            0\n",
      "parch            0\n",
      "fare             0\n",
      "embarked         2\n",
      "class            0\n",
      "who              0\n",
      "adult_male       0\n",
      "deck           688\n",
      "embark_town      2\n",
      "alive            0\n",
      "alone            0\n",
      "dtype: int64\n"
     ]
    }
   ],
   "source": [
    "# Import libraries\n",
    "#import pandas as pd\n",
    "#import numpy as np\n",
    "import seaborn as sns\n",
    "\n",
    "# Read dataset\n",
    "titanic = sns.load_dataset(\"titanic\")\n",
    "\n",
    "# Create a new function:\n",
    "def num_missing(x): return sum(x.isnull())\n",
    "\n",
    "# Applying per column (axis=0)\n",
    "print(titanic.apply(num_missing, axis=0))"
   ]
  },
  {
   "cell_type": "code",
   "execution_count": 2,
   "metadata": {},
   "outputs": [
    {
     "name": "stdout",
     "output_type": "stream",
     "text": [
      "0    1\n",
      "1    0\n",
      "2    1\n",
      "3    0\n",
      "4    1\n",
      "dtype: int64\n"
     ]
    }
   ],
   "source": [
    "# Applying per row (axis=1)\n",
    "print(titanic.apply(num_missing, axis=1).head())"
   ]
  },
  {
   "cell_type": "markdown",
   "metadata": {},
   "source": [
    "### Imputation von fehlenden Werten"
   ]
  },
  {
   "cell_type": "code",
   "execution_count": 3,
   "metadata": {},
   "outputs": [
    {
     "name": "stdout",
     "output_type": "stream",
     "text": [
      "survived         0\n",
      "pclass           0\n",
      "sex              0\n",
      "age            177\n",
      "sibsp            0\n",
      "parch            0\n",
      "fare             0\n",
      "embarked         2\n",
      "class            0\n",
      "who              0\n",
      "adult_male       0\n",
      "deck             0\n",
      "embark_town      2\n",
      "alive            0\n",
      "alone            0\n",
      "dtype: int64\n"
     ]
    },
    {
     "name": "stderr",
     "output_type": "stream",
     "text": [
      "/home/matt/anaconda3/lib/python3.7/site-packages/scipy/stats/stats.py:248: RuntimeWarning: The input array could not be properly checked for nan values. nan values will be ignored.\n",
      "  \"values. nan values will be ignored.\", RuntimeWarning)\n"
     ]
    }
   ],
   "source": [
    "# Import function to determine the mode\n",
    "from scipy.stats import mode\n",
    "\n",
    "mode(titanic['deck']) # This returns both mode and count. \n",
    "# Mode can return multiple values with high frequency. \n",
    "\n",
    "# Take the first mode value\n",
    "mode(titanic['deck']).mode[0]\n",
    "\n",
    "# Impute the values:\n",
    "titanic['deck'].fillna(mode(titanic['deck']).mode[0], inplace=True)\n",
    "\n",
    "# Now check the missing values again to confirm:\n",
    "print(titanic.apply(num_missing, axis=0))"
   ]
  },
  {
   "cell_type": "markdown",
   "metadata": {},
   "source": [
    "### Crosstab"
   ]
  },
  {
   "cell_type": "code",
   "execution_count": 4,
   "metadata": {},
   "outputs": [
    {
     "data": {
      "text/html": [
       "<div>\n",
       "<style scoped>\n",
       "    .dataframe tbody tr th:only-of-type {\n",
       "        vertical-align: middle;\n",
       "    }\n",
       "\n",
       "    .dataframe tbody tr th {\n",
       "        vertical-align: top;\n",
       "    }\n",
       "\n",
       "    .dataframe thead th {\n",
       "        text-align: right;\n",
       "    }\n",
       "</style>\n",
       "<table border=\"1\" class=\"dataframe\">\n",
       "  <thead>\n",
       "    <tr style=\"text-align: right;\">\n",
       "      <th>sex</th>\n",
       "      <th>female</th>\n",
       "      <th>male</th>\n",
       "      <th>All</th>\n",
       "    </tr>\n",
       "    <tr>\n",
       "      <th>survived</th>\n",
       "      <th></th>\n",
       "      <th></th>\n",
       "      <th></th>\n",
       "    </tr>\n",
       "  </thead>\n",
       "  <tbody>\n",
       "    <tr>\n",
       "      <th>0</th>\n",
       "      <td>81</td>\n",
       "      <td>468</td>\n",
       "      <td>549</td>\n",
       "    </tr>\n",
       "    <tr>\n",
       "      <th>1</th>\n",
       "      <td>233</td>\n",
       "      <td>109</td>\n",
       "      <td>342</td>\n",
       "    </tr>\n",
       "    <tr>\n",
       "      <th>All</th>\n",
       "      <td>314</td>\n",
       "      <td>577</td>\n",
       "      <td>891</td>\n",
       "    </tr>\n",
       "  </tbody>\n",
       "</table>\n",
       "</div>"
      ],
      "text/plain": [
       "sex       female  male  All\n",
       "survived                   \n",
       "0             81   468  549\n",
       "1            233   109  342\n",
       "All          314   577  891"
      ]
     },
     "execution_count": 4,
     "metadata": {},
     "output_type": "execute_result"
    }
   ],
   "source": [
    "# Import library\n",
    "import pandas as pd\n",
    "\n",
    "# Create crosstab\n",
    "pd.crosstab(titanic[\"survived\"],titanic[\"sex\"], margins=True)"
   ]
  },
  {
   "cell_type": "code",
   "execution_count": 5,
   "metadata": {},
   "outputs": [
    {
     "data": {
      "text/html": [
       "<div>\n",
       "<style scoped>\n",
       "    .dataframe tbody tr th:only-of-type {\n",
       "        vertical-align: middle;\n",
       "    }\n",
       "\n",
       "    .dataframe tbody tr th {\n",
       "        vertical-align: top;\n",
       "    }\n",
       "\n",
       "    .dataframe thead th {\n",
       "        text-align: right;\n",
       "    }\n",
       "</style>\n",
       "<table border=\"1\" class=\"dataframe\">\n",
       "  <thead>\n",
       "    <tr style=\"text-align: right;\">\n",
       "      <th>sex</th>\n",
       "      <th>female</th>\n",
       "      <th>male</th>\n",
       "      <th>All</th>\n",
       "    </tr>\n",
       "    <tr>\n",
       "      <th>survived</th>\n",
       "      <th></th>\n",
       "      <th></th>\n",
       "      <th></th>\n",
       "    </tr>\n",
       "  </thead>\n",
       "  <tbody>\n",
       "    <tr>\n",
       "      <th>0</th>\n",
       "      <td>0.147541</td>\n",
       "      <td>0.852459</td>\n",
       "      <td>1.0</td>\n",
       "    </tr>\n",
       "    <tr>\n",
       "      <th>1</th>\n",
       "      <td>0.681287</td>\n",
       "      <td>0.318713</td>\n",
       "      <td>1.0</td>\n",
       "    </tr>\n",
       "    <tr>\n",
       "      <th>All</th>\n",
       "      <td>0.352413</td>\n",
       "      <td>0.647587</td>\n",
       "      <td>1.0</td>\n",
       "    </tr>\n",
       "  </tbody>\n",
       "</table>\n",
       "</div>"
      ],
      "text/plain": [
       "sex         female      male  All\n",
       "survived                         \n",
       "0         0.147541  0.852459  1.0\n",
       "1         0.681287  0.318713  1.0\n",
       "All       0.352413  0.647587  1.0"
      ]
     },
     "execution_count": 5,
     "metadata": {},
     "output_type": "execute_result"
    }
   ],
   "source": [
    "def percConvert(ser): return ser/float(ser[-1])\n",
    "\n",
    "pd.crosstab(titanic[\"survived\"],titanic[\"sex\"], margins=True).apply(percConvert, axis=1)"
   ]
  },
  {
   "cell_type": "markdown",
   "metadata": {},
   "source": [
    "### Merging von DataFrames"
   ]
  },
  {
   "cell_type": "code",
   "execution_count": 6,
   "metadata": {},
   "outputs": [
    {
     "name": "stdout",
     "output_type": "stream",
     "text": [
      "   name     band\n",
      "0  Mick   Stones\n",
      "1  John  Beatles\n",
      "2  Paul  Beatles\n"
     ]
    }
   ],
   "source": [
    "#?pd.merge\n",
    "\n",
    "# First we create some dummy data\n",
    "band = pd.DataFrame({\"name\":[\"Mick\",\"John\",\"Paul\"], \n",
    "                     \"band\":[\"Stones\",\"Beatles\",\"Beatles\"]})\n",
    "print(band)"
   ]
  },
  {
   "cell_type": "code",
   "execution_count": 7,
   "metadata": {},
   "outputs": [
    {
     "name": "stdout",
     "output_type": "stream",
     "text": [
      "    name instrument\n",
      "0   John     guitar\n",
      "1   Paul       bass\n",
      "2  Keith     guitar\n"
     ]
    }
   ],
   "source": [
    "# Second dummy data\n",
    "instruments = pd.DataFrame({\"name\":[\"John\",\"Paul\",\"Keith\"], \n",
    "                            \"instrument\":[\"guitar\",\"bass\",\"guitar\"]})\n",
    "print(instruments)"
   ]
  },
  {
   "cell_type": "code",
   "execution_count": 8,
   "metadata": {},
   "outputs": [
    {
     "data": {
      "text/html": [
       "<div>\n",
       "<style scoped>\n",
       "    .dataframe tbody tr th:only-of-type {\n",
       "        vertical-align: middle;\n",
       "    }\n",
       "\n",
       "    .dataframe tbody tr th {\n",
       "        vertical-align: top;\n",
       "    }\n",
       "\n",
       "    .dataframe thead th {\n",
       "        text-align: right;\n",
       "    }\n",
       "</style>\n",
       "<table border=\"1\" class=\"dataframe\">\n",
       "  <thead>\n",
       "    <tr style=\"text-align: right;\">\n",
       "      <th></th>\n",
       "      <th>name</th>\n",
       "      <th>band</th>\n",
       "      <th>instrument</th>\n",
       "    </tr>\n",
       "  </thead>\n",
       "  <tbody>\n",
       "    <tr>\n",
       "      <th>0</th>\n",
       "      <td>John</td>\n",
       "      <td>Beatles</td>\n",
       "      <td>guitar</td>\n",
       "    </tr>\n",
       "    <tr>\n",
       "      <th>1</th>\n",
       "      <td>Paul</td>\n",
       "      <td>Beatles</td>\n",
       "      <td>bass</td>\n",
       "    </tr>\n",
       "  </tbody>\n",
       "</table>\n",
       "</div>"
      ],
      "text/plain": [
       "   name     band instrument\n",
       "0  John  Beatles     guitar\n",
       "1  Paul  Beatles       bass"
      ]
     },
     "execution_count": 8,
     "metadata": {},
     "output_type": "execute_result"
    }
   ],
   "source": [
    "# \"Merge\" to combine DataFrames by common variables\n",
    "pd.merge(band, instruments, on=\"name\", how=\"inner\")#, suffixes=('_left', '_right'))"
   ]
  },
  {
   "cell_type": "code",
   "execution_count": 9,
   "metadata": {},
   "outputs": [
    {
     "data": {
      "text/html": [
       "<div>\n",
       "<style scoped>\n",
       "    .dataframe tbody tr th:only-of-type {\n",
       "        vertical-align: middle;\n",
       "    }\n",
       "\n",
       "    .dataframe tbody tr th {\n",
       "        vertical-align: top;\n",
       "    }\n",
       "\n",
       "    .dataframe thead th {\n",
       "        text-align: right;\n",
       "    }\n",
       "</style>\n",
       "<table border=\"1\" class=\"dataframe\">\n",
       "  <thead>\n",
       "    <tr style=\"text-align: right;\">\n",
       "      <th></th>\n",
       "      <th>name</th>\n",
       "      <th>band</th>\n",
       "      <th>instrument</th>\n",
       "    </tr>\n",
       "  </thead>\n",
       "  <tbody>\n",
       "    <tr>\n",
       "      <th>0</th>\n",
       "      <td>Mick</td>\n",
       "      <td>Stones</td>\n",
       "      <td>NaN</td>\n",
       "    </tr>\n",
       "    <tr>\n",
       "      <th>1</th>\n",
       "      <td>John</td>\n",
       "      <td>Beatles</td>\n",
       "      <td>guitar</td>\n",
       "    </tr>\n",
       "    <tr>\n",
       "      <th>2</th>\n",
       "      <td>Paul</td>\n",
       "      <td>Beatles</td>\n",
       "      <td>bass</td>\n",
       "    </tr>\n",
       "  </tbody>\n",
       "</table>\n",
       "</div>"
      ],
      "text/plain": [
       "   name     band instrument\n",
       "0  Mick   Stones        NaN\n",
       "1  John  Beatles     guitar\n",
       "2  Paul  Beatles       bass"
      ]
     },
     "execution_count": 9,
     "metadata": {},
     "output_type": "execute_result"
    }
   ],
   "source": [
    "pd.merge(band, instruments, how=\"left\")"
   ]
  },
  {
   "cell_type": "code",
   "execution_count": 10,
   "metadata": {},
   "outputs": [
    {
     "data": {
      "text/html": [
       "<div>\n",
       "<style scoped>\n",
       "    .dataframe tbody tr th:only-of-type {\n",
       "        vertical-align: middle;\n",
       "    }\n",
       "\n",
       "    .dataframe tbody tr th {\n",
       "        vertical-align: top;\n",
       "    }\n",
       "\n",
       "    .dataframe thead th {\n",
       "        text-align: right;\n",
       "    }\n",
       "</style>\n",
       "<table border=\"1\" class=\"dataframe\">\n",
       "  <thead>\n",
       "    <tr style=\"text-align: right;\">\n",
       "      <th></th>\n",
       "      <th>name</th>\n",
       "      <th>band</th>\n",
       "      <th>instrument</th>\n",
       "    </tr>\n",
       "  </thead>\n",
       "  <tbody>\n",
       "    <tr>\n",
       "      <th>0</th>\n",
       "      <td>John</td>\n",
       "      <td>Beatles</td>\n",
       "      <td>guitar</td>\n",
       "    </tr>\n",
       "    <tr>\n",
       "      <th>1</th>\n",
       "      <td>Paul</td>\n",
       "      <td>Beatles</td>\n",
       "      <td>bass</td>\n",
       "    </tr>\n",
       "    <tr>\n",
       "      <th>2</th>\n",
       "      <td>Keith</td>\n",
       "      <td>NaN</td>\n",
       "      <td>guitar</td>\n",
       "    </tr>\n",
       "  </tbody>\n",
       "</table>\n",
       "</div>"
      ],
      "text/plain": [
       "    name     band instrument\n",
       "0   John  Beatles     guitar\n",
       "1   Paul  Beatles       bass\n",
       "2  Keith      NaN     guitar"
      ]
     },
     "execution_count": 10,
     "metadata": {},
     "output_type": "execute_result"
    }
   ],
   "source": [
    "pd.merge(band, instruments, how=\"right\")"
   ]
  },
  {
   "cell_type": "code",
   "execution_count": 11,
   "metadata": {},
   "outputs": [
    {
     "data": {
      "text/html": [
       "<div>\n",
       "<style scoped>\n",
       "    .dataframe tbody tr th:only-of-type {\n",
       "        vertical-align: middle;\n",
       "    }\n",
       "\n",
       "    .dataframe tbody tr th {\n",
       "        vertical-align: top;\n",
       "    }\n",
       "\n",
       "    .dataframe thead th {\n",
       "        text-align: right;\n",
       "    }\n",
       "</style>\n",
       "<table border=\"1\" class=\"dataframe\">\n",
       "  <thead>\n",
       "    <tr style=\"text-align: right;\">\n",
       "      <th></th>\n",
       "      <th>name</th>\n",
       "      <th>band</th>\n",
       "      <th>instrument</th>\n",
       "    </tr>\n",
       "  </thead>\n",
       "  <tbody>\n",
       "    <tr>\n",
       "      <th>0</th>\n",
       "      <td>Mick</td>\n",
       "      <td>Stones</td>\n",
       "      <td>NaN</td>\n",
       "    </tr>\n",
       "    <tr>\n",
       "      <th>1</th>\n",
       "      <td>John</td>\n",
       "      <td>Beatles</td>\n",
       "      <td>guitar</td>\n",
       "    </tr>\n",
       "    <tr>\n",
       "      <th>2</th>\n",
       "      <td>Paul</td>\n",
       "      <td>Beatles</td>\n",
       "      <td>bass</td>\n",
       "    </tr>\n",
       "    <tr>\n",
       "      <th>3</th>\n",
       "      <td>Keith</td>\n",
       "      <td>NaN</td>\n",
       "      <td>guitar</td>\n",
       "    </tr>\n",
       "  </tbody>\n",
       "</table>\n",
       "</div>"
      ],
      "text/plain": [
       "    name     band instrument\n",
       "0   Mick   Stones        NaN\n",
       "1   John  Beatles     guitar\n",
       "2   Paul  Beatles       bass\n",
       "3  Keith      NaN     guitar"
      ]
     },
     "execution_count": 11,
     "metadata": {},
     "output_type": "execute_result"
    }
   ],
   "source": [
    "pd.merge(band, instruments, how=\"outer\")"
   ]
  },
  {
   "cell_type": "code",
   "execution_count": 12,
   "metadata": {},
   "outputs": [
    {
     "data": {
      "text/html": [
       "<div>\n",
       "<style scoped>\n",
       "    .dataframe tbody tr th:only-of-type {\n",
       "        vertical-align: middle;\n",
       "    }\n",
       "\n",
       "    .dataframe tbody tr th {\n",
       "        vertical-align: top;\n",
       "    }\n",
       "\n",
       "    .dataframe thead th {\n",
       "        text-align: right;\n",
       "    }\n",
       "</style>\n",
       "<table border=\"1\" class=\"dataframe\">\n",
       "  <thead>\n",
       "    <tr style=\"text-align: right;\">\n",
       "      <th></th>\n",
       "      <th>name</th>\n",
       "      <th>band</th>\n",
       "      <th>artist</th>\n",
       "      <th>instrument</th>\n",
       "    </tr>\n",
       "  </thead>\n",
       "  <tbody>\n",
       "    <tr>\n",
       "      <th>0</th>\n",
       "      <td>John</td>\n",
       "      <td>Beatles</td>\n",
       "      <td>John</td>\n",
       "      <td>guitar</td>\n",
       "    </tr>\n",
       "    <tr>\n",
       "      <th>1</th>\n",
       "      <td>Paul</td>\n",
       "      <td>Beatles</td>\n",
       "      <td>Paul</td>\n",
       "      <td>bass</td>\n",
       "    </tr>\n",
       "  </tbody>\n",
       "</table>\n",
       "</div>"
      ],
      "text/plain": [
       "   name     band artist instrument\n",
       "0  John  Beatles   John     guitar\n",
       "1  Paul  Beatles   Paul       bass"
      ]
     },
     "execution_count": 12,
     "metadata": {},
     "output_type": "execute_result"
    }
   ],
   "source": [
    "# Use a named `left_on` and `right_on` if the join variables have different names\n",
    "instruments2 = pd.DataFrame({\"artist\": [\"John\", \"Paul\", \"Keith\"], \n",
    "                             \"instrument\": [\"guitar\",\"bass\",\"guitar\"]})\n",
    "instruments2\n",
    "\n",
    "pd.merge(band, instruments2, left_on=\"name\", right_on= \"artist\")"
   ]
  },
  {
   "cell_type": "markdown",
   "metadata": {},
   "source": [
    "### Pivot-Tabelle"
   ]
  },
  {
   "cell_type": "code",
   "execution_count": 13,
   "metadata": {},
   "outputs": [
    {
     "data": {
      "text/html": [
       "<div>\n",
       "<style scoped>\n",
       "    .dataframe tbody tr th:only-of-type {\n",
       "        vertical-align: middle;\n",
       "    }\n",
       "\n",
       "    .dataframe tbody tr th {\n",
       "        vertical-align: top;\n",
       "    }\n",
       "\n",
       "    .dataframe thead th {\n",
       "        text-align: right;\n",
       "    }\n",
       "</style>\n",
       "<table border=\"1\" class=\"dataframe\">\n",
       "  <thead>\n",
       "    <tr style=\"text-align: right;\">\n",
       "      <th>class</th>\n",
       "      <th>First</th>\n",
       "      <th>Second</th>\n",
       "      <th>Third</th>\n",
       "    </tr>\n",
       "    <tr>\n",
       "      <th>sex</th>\n",
       "      <th></th>\n",
       "      <th></th>\n",
       "      <th></th>\n",
       "    </tr>\n",
       "  </thead>\n",
       "  <tbody>\n",
       "    <tr>\n",
       "      <th>female</th>\n",
       "      <td>0.968085</td>\n",
       "      <td>0.921053</td>\n",
       "      <td>0.500000</td>\n",
       "    </tr>\n",
       "    <tr>\n",
       "      <th>male</th>\n",
       "      <td>0.368852</td>\n",
       "      <td>0.157407</td>\n",
       "      <td>0.135447</td>\n",
       "    </tr>\n",
       "  </tbody>\n",
       "</table>\n",
       "</div>"
      ],
      "text/plain": [
       "class      First    Second     Third\n",
       "sex                                 \n",
       "female  0.968085  0.921053  0.500000\n",
       "male    0.368852  0.157407  0.135447"
      ]
     },
     "execution_count": 13,
     "metadata": {},
     "output_type": "execute_result"
    }
   ],
   "source": [
    "# Import library\n",
    "import seaborn as sns\n",
    "\n",
    "# Datensatz laden\n",
    "titanic = sns.load_dataset(\"titanic\")\n",
    "\n",
    "# Pivot-Tabelle generieren\n",
    "titanic.pivot_table(columns=\"class\", index=\"sex\", \n",
    "                    values=\"survived\", aggfunc=\"mean\")"
   ]
  },
  {
   "cell_type": "code",
   "execution_count": 14,
   "metadata": {},
   "outputs": [
    {
     "name": "stdout",
     "output_type": "stream",
     "text": [
      "class      First    Second     Third\n",
      "sex                                 \n",
      "female  0.968085  0.921053  0.500000\n",
      "male    0.368852  0.157407  0.135447\n"
     ]
    }
   ],
   "source": [
    "# Oder so\n",
    "params = {\"columns\": \"class\", \"index\": \"sex\",\n",
    "          \"values\": \"survived\", \"aggfunc\": \"mean\"}\n",
    "titanic_pivot = titanic.pivot_table(**params)\n",
    "\n",
    "print(titanic_pivot) # Show pivot table"
   ]
  },
  {
   "cell_type": "markdown",
   "metadata": {},
   "source": [
    "Versucht mal dasselbe mit der Funktion pivot()"
   ]
  },
  {
   "cell_type": "code",
   "execution_count": 15,
   "metadata": {},
   "outputs": [],
   "source": [
    "#?df.pivot\n",
    "\n",
    "#params = {\n",
    "#  \"columns\": \"class\",\n",
    "#  \"index\": \"sex\",\n",
    "#  \"values\": \"survived\"\n",
    "#}\n",
    "#titanic.pivot(**params)"
   ]
  },
  {
   "cell_type": "markdown",
   "metadata": {},
   "source": [
    "Warum klappt das nicht?\n",
    "\n",
    "Aber warum funktioniert es bei dem Beispiel unterhalb:"
   ]
  },
  {
   "cell_type": "code",
   "execution_count": 16,
   "metadata": {},
   "outputs": [
    {
     "data": {
      "text/html": [
       "<div>\n",
       "<style scoped>\n",
       "    .dataframe tbody tr th:only-of-type {\n",
       "        vertical-align: middle;\n",
       "    }\n",
       "\n",
       "    .dataframe tbody tr th {\n",
       "        vertical-align: top;\n",
       "    }\n",
       "\n",
       "    .dataframe thead th {\n",
       "        text-align: right;\n",
       "    }\n",
       "</style>\n",
       "<table border=\"1\" class=\"dataframe\">\n",
       "  <thead>\n",
       "    <tr style=\"text-align: right;\">\n",
       "      <th></th>\n",
       "      <th>foo</th>\n",
       "      <th>bar</th>\n",
       "      <th>baz</th>\n",
       "    </tr>\n",
       "  </thead>\n",
       "  <tbody>\n",
       "    <tr>\n",
       "      <th>0</th>\n",
       "      <td>one</td>\n",
       "      <td>A</td>\n",
       "      <td>1</td>\n",
       "    </tr>\n",
       "    <tr>\n",
       "      <th>1</th>\n",
       "      <td>one</td>\n",
       "      <td>B</td>\n",
       "      <td>2</td>\n",
       "    </tr>\n",
       "    <tr>\n",
       "      <th>2</th>\n",
       "      <td>one</td>\n",
       "      <td>C</td>\n",
       "      <td>3</td>\n",
       "    </tr>\n",
       "    <tr>\n",
       "      <th>3</th>\n",
       "      <td>two</td>\n",
       "      <td>A</td>\n",
       "      <td>4</td>\n",
       "    </tr>\n",
       "    <tr>\n",
       "      <th>4</th>\n",
       "      <td>two</td>\n",
       "      <td>B</td>\n",
       "      <td>5</td>\n",
       "    </tr>\n",
       "    <tr>\n",
       "      <th>5</th>\n",
       "      <td>two</td>\n",
       "      <td>C</td>\n",
       "      <td>6</td>\n",
       "    </tr>\n",
       "  </tbody>\n",
       "</table>\n",
       "</div>"
      ],
      "text/plain": [
       "   foo bar  baz\n",
       "0  one   A    1\n",
       "1  one   B    2\n",
       "2  one   C    3\n",
       "3  two   A    4\n",
       "4  two   B    5\n",
       "5  two   C    6"
      ]
     },
     "execution_count": 16,
     "metadata": {},
     "output_type": "execute_result"
    }
   ],
   "source": [
    "import pandas as pd\n",
    "\n",
    "df = pd.DataFrame({'foo': ['one', 'one', 'one', 'two', 'two', 'two'],\n",
    "                   'bar': ['A', 'B', 'C', 'A', 'B', 'C'],\n",
    "                   'baz': [1, 2, 3, 4, 5, 6]})\n",
    "df"
   ]
  },
  {
   "cell_type": "code",
   "execution_count": 17,
   "metadata": {},
   "outputs": [
    {
     "data": {
      "text/html": [
       "<div>\n",
       "<style scoped>\n",
       "    .dataframe tbody tr th:only-of-type {\n",
       "        vertical-align: middle;\n",
       "    }\n",
       "\n",
       "    .dataframe tbody tr th {\n",
       "        vertical-align: top;\n",
       "    }\n",
       "\n",
       "    .dataframe thead th {\n",
       "        text-align: right;\n",
       "    }\n",
       "</style>\n",
       "<table border=\"1\" class=\"dataframe\">\n",
       "  <thead>\n",
       "    <tr style=\"text-align: right;\">\n",
       "      <th>bar</th>\n",
       "      <th>A</th>\n",
       "      <th>B</th>\n",
       "      <th>C</th>\n",
       "    </tr>\n",
       "    <tr>\n",
       "      <th>foo</th>\n",
       "      <th></th>\n",
       "      <th></th>\n",
       "      <th></th>\n",
       "    </tr>\n",
       "  </thead>\n",
       "  <tbody>\n",
       "    <tr>\n",
       "      <th>one</th>\n",
       "      <td>1</td>\n",
       "      <td>2</td>\n",
       "      <td>3</td>\n",
       "    </tr>\n",
       "    <tr>\n",
       "      <th>two</th>\n",
       "      <td>4</td>\n",
       "      <td>5</td>\n",
       "      <td>6</td>\n",
       "    </tr>\n",
       "  </tbody>\n",
       "</table>\n",
       "</div>"
      ],
      "text/plain": [
       "bar  A  B  C\n",
       "foo         \n",
       "one  1  2  3\n",
       "two  4  5  6"
      ]
     },
     "execution_count": 17,
     "metadata": {},
     "output_type": "execute_result"
    }
   ],
   "source": [
    "df_pivot = df.pivot(index='foo', columns='bar', values='baz')\n",
    "df_pivot"
   ]
  },
  {
   "cell_type": "markdown",
   "metadata": {},
   "source": [
    "### Unpivot (melt)"
   ]
  },
  {
   "cell_type": "code",
   "execution_count": 18,
   "metadata": {},
   "outputs": [],
   "source": [
    "#?df.melt"
   ]
  },
  {
   "cell_type": "code",
   "execution_count": 19,
   "metadata": {},
   "outputs": [
    {
     "data": {
      "text/plain": [
       "array(['A', 'B', 'C'], dtype=object)"
      ]
     },
     "execution_count": 19,
     "metadata": {},
     "output_type": "execute_result"
    }
   ],
   "source": [
    "# Show column names\n",
    "df_pivot.columns.values"
   ]
  },
  {
   "cell_type": "code",
   "execution_count": 20,
   "metadata": {},
   "outputs": [
    {
     "data": {
      "text/plain": [
       "array(['foo', 'A', 'B', 'C'], dtype=object)"
      ]
     },
     "execution_count": 20,
     "metadata": {},
     "output_type": "execute_result"
    }
   ],
   "source": [
    "# Move row Index to column\n",
    "df_pivot.reset_index(inplace=True)\n",
    "df_pivot.columns.values"
   ]
  },
  {
   "cell_type": "code",
   "execution_count": 21,
   "metadata": {},
   "outputs": [
    {
     "data": {
      "text/html": [
       "<div>\n",
       "<style scoped>\n",
       "    .dataframe tbody tr th:only-of-type {\n",
       "        vertical-align: middle;\n",
       "    }\n",
       "\n",
       "    .dataframe tbody tr th {\n",
       "        vertical-align: top;\n",
       "    }\n",
       "\n",
       "    .dataframe thead th {\n",
       "        text-align: right;\n",
       "    }\n",
       "</style>\n",
       "<table border=\"1\" class=\"dataframe\">\n",
       "  <thead>\n",
       "    <tr style=\"text-align: right;\">\n",
       "      <th></th>\n",
       "      <th>foo</th>\n",
       "      <th>bar</th>\n",
       "      <th>baz</th>\n",
       "    </tr>\n",
       "  </thead>\n",
       "  <tbody>\n",
       "    <tr>\n",
       "      <th>0</th>\n",
       "      <td>one</td>\n",
       "      <td>A</td>\n",
       "      <td>1</td>\n",
       "    </tr>\n",
       "    <tr>\n",
       "      <th>1</th>\n",
       "      <td>two</td>\n",
       "      <td>A</td>\n",
       "      <td>4</td>\n",
       "    </tr>\n",
       "    <tr>\n",
       "      <th>2</th>\n",
       "      <td>one</td>\n",
       "      <td>B</td>\n",
       "      <td>2</td>\n",
       "    </tr>\n",
       "    <tr>\n",
       "      <th>3</th>\n",
       "      <td>two</td>\n",
       "      <td>B</td>\n",
       "      <td>5</td>\n",
       "    </tr>\n",
       "    <tr>\n",
       "      <th>4</th>\n",
       "      <td>one</td>\n",
       "      <td>C</td>\n",
       "      <td>3</td>\n",
       "    </tr>\n",
       "    <tr>\n",
       "      <th>5</th>\n",
       "      <td>two</td>\n",
       "      <td>C</td>\n",
       "      <td>6</td>\n",
       "    </tr>\n",
       "  </tbody>\n",
       "</table>\n",
       "</div>"
      ],
      "text/plain": [
       "   foo bar  baz\n",
       "0  one   A    1\n",
       "1  two   A    4\n",
       "2  one   B    2\n",
       "3  two   B    5\n",
       "4  one   C    3\n",
       "5  two   C    6"
      ]
     },
     "execution_count": 21,
     "metadata": {},
     "output_type": "execute_result"
    }
   ],
   "source": [
    "df_orig = df_pivot.melt(id_vars=['foo'], value_vars=['A', 'B', 'C'],\n",
    "                        var_name='bar', value_name='baz')\n",
    "df_orig"
   ]
  },
  {
   "cell_type": "markdown",
   "metadata": {},
   "source": [
    "### stack() und unstack()"
   ]
  },
  {
   "cell_type": "code",
   "execution_count": 22,
   "metadata": {},
   "outputs": [
    {
     "data": {
      "text/html": [
       "<div>\n",
       "<style scoped>\n",
       "    .dataframe tbody tr th:only-of-type {\n",
       "        vertical-align: middle;\n",
       "    }\n",
       "\n",
       "    .dataframe tbody tr th {\n",
       "        vertical-align: top;\n",
       "    }\n",
       "\n",
       "    .dataframe thead tr th {\n",
       "        text-align: left;\n",
       "    }\n",
       "</style>\n",
       "<table border=\"1\" class=\"dataframe\">\n",
       "  <thead>\n",
       "    <tr>\n",
       "      <th></th>\n",
       "      <th></th>\n",
       "      <th colspan=\"2\" halign=\"left\">c0</th>\n",
       "      <th>c1</th>\n",
       "    </tr>\n",
       "    <tr>\n",
       "      <th></th>\n",
       "      <th></th>\n",
       "      <th>c-00</th>\n",
       "      <th>c-01</th>\n",
       "      <th>c-10</th>\n",
       "    </tr>\n",
       "  </thead>\n",
       "  <tbody>\n",
       "    <tr>\n",
       "      <th rowspan=\"2\" valign=\"top\">r0</th>\n",
       "      <th>r-00</th>\n",
       "      <td>(0, 0)</td>\n",
       "      <td>(0, 1)</td>\n",
       "      <td>(0, 2)</td>\n",
       "    </tr>\n",
       "    <tr>\n",
       "      <th>r-01</th>\n",
       "      <td>(1, 0)</td>\n",
       "      <td>(1, 1)</td>\n",
       "      <td>(1, 2)</td>\n",
       "    </tr>\n",
       "  </tbody>\n",
       "</table>\n",
       "</div>"
      ],
      "text/plain": [
       "             c0              c1\n",
       "           c-00    c-01    c-10\n",
       "r0 r-00  (0, 0)  (0, 1)  (0, 2)\n",
       "   r-01  (1, 0)  (1, 1)  (1, 2)"
      ]
     },
     "execution_count": 22,
     "metadata": {},
     "output_type": "execute_result"
    }
   ],
   "source": [
    "# Load numpy library\n",
    "import numpy as np\n",
    "\n",
    "# Row Multi-Index\n",
    "row_idx_arr = list(zip(['r0', 'r0'], ['r-00', 'r-01']))\n",
    "row_idx = pd.MultiIndex.from_tuples(row_idx_arr)\n",
    "\n",
    "# Column Multi-Index\n",
    "col_idx_arr = list(zip(['c0', 'c0', 'c1'], ['c-00', 'c-01', 'c-10']))\n",
    "col_idx = pd.MultiIndex.from_tuples(col_idx_arr)\n",
    "\n",
    "# Create the DataFrame\n",
    "d = pd.DataFrame(np.arange(6).reshape(2,3), index=row_idx, columns=col_idx)\n",
    "d = d.applymap(lambda x: (x // 3, x % 3))\n",
    "d"
   ]
  },
  {
   "cell_type": "code",
   "execution_count": 23,
   "metadata": {},
   "outputs": [
    {
     "data": {
      "text/html": [
       "<div>\n",
       "<style scoped>\n",
       "    .dataframe tbody tr th:only-of-type {\n",
       "        vertical-align: middle;\n",
       "    }\n",
       "\n",
       "    .dataframe tbody tr th {\n",
       "        vertical-align: top;\n",
       "    }\n",
       "\n",
       "    .dataframe thead th {\n",
       "        text-align: right;\n",
       "    }\n",
       "</style>\n",
       "<table border=\"1\" class=\"dataframe\">\n",
       "  <thead>\n",
       "    <tr style=\"text-align: right;\">\n",
       "      <th></th>\n",
       "      <th></th>\n",
       "      <th></th>\n",
       "      <th>c0</th>\n",
       "      <th>c1</th>\n",
       "    </tr>\n",
       "  </thead>\n",
       "  <tbody>\n",
       "    <tr>\n",
       "      <th rowspan=\"6\" valign=\"top\">r0</th>\n",
       "      <th rowspan=\"3\" valign=\"top\">r-00</th>\n",
       "      <th>c-00</th>\n",
       "      <td>(0, 0)</td>\n",
       "      <td>NaN</td>\n",
       "    </tr>\n",
       "    <tr>\n",
       "      <th>c-01</th>\n",
       "      <td>(0, 1)</td>\n",
       "      <td>NaN</td>\n",
       "    </tr>\n",
       "    <tr>\n",
       "      <th>c-10</th>\n",
       "      <td>NaN</td>\n",
       "      <td>(0, 2)</td>\n",
       "    </tr>\n",
       "    <tr>\n",
       "      <th rowspan=\"3\" valign=\"top\">r-01</th>\n",
       "      <th>c-00</th>\n",
       "      <td>(1, 0)</td>\n",
       "      <td>NaN</td>\n",
       "    </tr>\n",
       "    <tr>\n",
       "      <th>c-01</th>\n",
       "      <td>(1, 1)</td>\n",
       "      <td>NaN</td>\n",
       "    </tr>\n",
       "    <tr>\n",
       "      <th>c-10</th>\n",
       "      <td>NaN</td>\n",
       "      <td>(1, 2)</td>\n",
       "    </tr>\n",
       "  </tbody>\n",
       "</table>\n",
       "</div>"
      ],
      "text/plain": [
       "                  c0      c1\n",
       "r0 r-00 c-00  (0, 0)     NaN\n",
       "        c-01  (0, 1)     NaN\n",
       "        c-10     NaN  (0, 2)\n",
       "   r-01 c-00  (1, 0)     NaN\n",
       "        c-01  (1, 1)     NaN\n",
       "        c-10     NaN  (1, 2)"
      ]
     },
     "execution_count": 23,
     "metadata": {},
     "output_type": "execute_result"
    }
   ],
   "source": [
    "# Stack\n",
    "s = d.stack()\n",
    "s"
   ]
  },
  {
   "cell_type": "code",
   "execution_count": 24,
   "metadata": {},
   "outputs": [
    {
     "data": {
      "text/html": [
       "<div>\n",
       "<style scoped>\n",
       "    .dataframe tbody tr th:only-of-type {\n",
       "        vertical-align: middle;\n",
       "    }\n",
       "\n",
       "    .dataframe tbody tr th {\n",
       "        vertical-align: top;\n",
       "    }\n",
       "\n",
       "    .dataframe thead tr th {\n",
       "        text-align: left;\n",
       "    }\n",
       "</style>\n",
       "<table border=\"1\" class=\"dataframe\">\n",
       "  <thead>\n",
       "    <tr>\n",
       "      <th></th>\n",
       "      <th colspan=\"4\" halign=\"left\">c0</th>\n",
       "      <th colspan=\"2\" halign=\"left\">c1</th>\n",
       "    </tr>\n",
       "    <tr>\n",
       "      <th></th>\n",
       "      <th colspan=\"2\" halign=\"left\">c-00</th>\n",
       "      <th colspan=\"2\" halign=\"left\">c-01</th>\n",
       "      <th colspan=\"2\" halign=\"left\">c-10</th>\n",
       "    </tr>\n",
       "    <tr>\n",
       "      <th></th>\n",
       "      <th>r-00</th>\n",
       "      <th>r-01</th>\n",
       "      <th>r-00</th>\n",
       "      <th>r-01</th>\n",
       "      <th>r-00</th>\n",
       "      <th>r-01</th>\n",
       "    </tr>\n",
       "  </thead>\n",
       "  <tbody>\n",
       "    <tr>\n",
       "      <th>r0</th>\n",
       "      <td>(0, 0)</td>\n",
       "      <td>(1, 0)</td>\n",
       "      <td>(0, 1)</td>\n",
       "      <td>(1, 1)</td>\n",
       "      <td>(0, 2)</td>\n",
       "      <td>(1, 2)</td>\n",
       "    </tr>\n",
       "  </tbody>\n",
       "</table>\n",
       "</div>"
      ],
      "text/plain": [
       "        c0                              c1        \n",
       "      c-00            c-01            c-10        \n",
       "      r-00    r-01    r-00    r-01    r-00    r-01\n",
       "r0  (0, 0)  (1, 0)  (0, 1)  (1, 1)  (0, 2)  (1, 2)"
      ]
     },
     "execution_count": 24,
     "metadata": {},
     "output_type": "execute_result"
    }
   ],
   "source": [
    "# Unstack\n",
    "u = d.unstack()\n",
    "u"
   ]
  },
  {
   "cell_type": "code",
   "execution_count": 25,
   "metadata": {},
   "outputs": [
    {
     "data": {
      "text/html": [
       "<div>\n",
       "<style scoped>\n",
       "    .dataframe tbody tr th:only-of-type {\n",
       "        vertical-align: middle;\n",
       "    }\n",
       "\n",
       "    .dataframe tbody tr th {\n",
       "        vertical-align: top;\n",
       "    }\n",
       "\n",
       "    .dataframe thead tr th {\n",
       "        text-align: left;\n",
       "    }\n",
       "</style>\n",
       "<table border=\"1\" class=\"dataframe\">\n",
       "  <thead>\n",
       "    <tr>\n",
       "      <th></th>\n",
       "      <th></th>\n",
       "      <th colspan=\"2\" halign=\"left\">c0</th>\n",
       "      <th>c1</th>\n",
       "    </tr>\n",
       "    <tr>\n",
       "      <th></th>\n",
       "      <th></th>\n",
       "      <th>c-00</th>\n",
       "      <th>c-01</th>\n",
       "      <th>c-10</th>\n",
       "    </tr>\n",
       "  </thead>\n",
       "  <tbody>\n",
       "    <tr>\n",
       "      <th rowspan=\"2\" valign=\"top\">r0</th>\n",
       "      <th>r-00</th>\n",
       "      <td>(0, 0)</td>\n",
       "      <td>(0, 1)</td>\n",
       "      <td>(0, 2)</td>\n",
       "    </tr>\n",
       "    <tr>\n",
       "      <th>r-01</th>\n",
       "      <td>(1, 0)</td>\n",
       "      <td>(1, 1)</td>\n",
       "      <td>(1, 2)</td>\n",
       "    </tr>\n",
       "  </tbody>\n",
       "</table>\n",
       "</div>"
      ],
      "text/plain": [
       "             c0              c1\n",
       "           c-00    c-01    c-10\n",
       "r0 r-00  (0, 0)  (0, 1)  (0, 2)\n",
       "   r-01  (1, 0)  (1, 1)  (1, 2)"
      ]
     },
     "execution_count": 25,
     "metadata": {},
     "output_type": "execute_result"
    }
   ],
   "source": [
    "d = u.stack()\n",
    "d"
   ]
  },
  {
   "cell_type": "markdown",
   "metadata": {},
   "source": [
    "## Nachtrag - Tag 2"
   ]
  },
  {
   "cell_type": "markdown",
   "metadata": {},
   "source": [
    "### Namensräume verbinden"
   ]
  },
  {
   "cell_type": "code",
   "execution_count": 26,
   "metadata": {},
   "outputs": [
    {
     "data": {
      "text/plain": [
       "'1-2-3-4'"
      ]
     },
     "execution_count": 26,
     "metadata": {},
     "output_type": "execute_result"
    }
   ],
   "source": [
    "list1 = ['1','2','3','4']  \n",
    "s = \"-\"\n",
    "  \n",
    "# joins elements of list1 by '-' and stores in string s \n",
    "s.join(list1) "
   ]
  },
  {
   "cell_type": "code",
   "execution_count": 27,
   "metadata": {},
   "outputs": [
    {
     "data": {
      "text/plain": [
       "'/home/matt/Documents/Github/pyStats/my_figure.pdf'"
      ]
     },
     "execution_count": 27,
     "metadata": {},
     "output_type": "execute_result"
    }
   ],
   "source": [
    "# Create filename from basename and format\n",
    "base_filename='my_figure'\n",
    "format = 'pdf'\n",
    "filename = \".\".join([base_filename, format])\n",
    "\n",
    "# Specify full path of file directory, please change accordingly\n",
    "dir_name='/home/matt/Documents/Github/pyStats/'\n",
    "\n",
    "# Create filename with full path\n",
    "\"\".join([dir_name, filename]) "
   ]
  },
  {
   "cell_type": "code",
   "execution_count": 28,
   "metadata": {},
   "outputs": [
    {
     "data": {
      "text/plain": [
       "'/home/matt/Documents/Github/pyStats/my_figure.pdf'"
      ]
     },
     "execution_count": 28,
     "metadata": {},
     "output_type": "execute_result"
    }
   ],
   "source": [
    "# Alternative approach using the os package\n",
    "import os\n",
    "os.path.join(dir_name, base_filename + \".\" + format)"
   ]
  },
  {
   "cell_type": "markdown",
   "metadata": {},
   "source": [
    "### Speichern von bestimmten Abbildungen"
   ]
  },
  {
   "cell_type": "code",
   "execution_count": 29,
   "metadata": {},
   "outputs": [
    {
     "data": {
      "image/png": "[encoded data removed]",
      "text/plain": [
       "<Figure size 432x288 with 1 Axes>"
      ]
     },
     "metadata": {
      "needs_background": "light"
     },
     "output_type": "display_data"
    },
    {
     "data": {
      "image/png": "[encoded data removed]",
      "text/plain": [
       "<Figure size 432x288 with 1 Axes>"
      ]
     },
     "metadata": {
      "needs_background": "light"
     },
     "output_type": "display_data"
    },
    {
     "data": {
      "text/plain": [
       "'/home/matt/Documents/Github/pyStats/my_figure.pdf'"
      ]
     },
     "execution_count": 29,
     "metadata": {},
     "output_type": "execute_result"
    }
   ],
   "source": [
    "import matplotlib.pyplot as plt\n",
    "\n",
    "f1 = plt.figure()\n",
    "plt.plot(range(10), range(10), \"o\")\n",
    "plt.show()\n",
    "\n",
    "# Import library and dataset\n",
    "iris = sns.load_dataset('iris')\n",
    "\n",
    "# Hist only\n",
    "f2 = plt.figure()\n",
    "sns.distplot(a=iris[\"sepal_length\"], hist=True, kde=False, rug=False )\n",
    "plt.show()\n",
    "\n",
    "# Save with combined dir_name and filename\n",
    "file = \"\".join([dir_name, filename])\n",
    "file # Make sure the path is correct, before saving!!!\n",
    "\n",
    "#f1.savefig(file, bbox_inches='tight')\n",
    "\n",
    "# Save to working directory\n",
    "#f2.savefig(\"hist_sepal_length.pdf\", bbox_inches='tight')"
   ]
  },
  {
   "cell_type": "markdown",
   "metadata": {},
   "source": [
    "## Übung"
   ]
  },
  {
   "cell_type": "markdown",
   "metadata": {},
   "source": [
    "Ladet den Datensatz schoko.csv in Python:"
   ]
  },
  {
   "cell_type": "code",
   "execution_count": 30,
   "metadata": {},
   "outputs": [],
   "source": [
    "import pandas as pd\n",
    "\n",
    "# Load your dataset\n",
    "schoko = pd.read_csv(\"/home/matt/Documents/Github/pyStats/data/schoko.csv\")\n",
    "\n",
    "# If you have opened the Jupyter Notebook from your local directory,\n",
    "# this should also work:\n",
    "schoko = pd.read_csv(\"data/schoko.csv\")"
   ]
  },
  {
   "cell_type": "markdown",
   "metadata": {},
   "source": [
    "Verschafft euch einen Überblick über den Datensatz:"
   ]
  },
  {
   "cell_type": "code",
   "execution_count": 31,
   "metadata": {},
   "outputs": [
    {
     "data": {
      "text/html": [
       "<div>\n",
       "<style scoped>\n",
       "    .dataframe tbody tr th:only-of-type {\n",
       "        vertical-align: middle;\n",
       "    }\n",
       "\n",
       "    .dataframe tbody tr th {\n",
       "        vertical-align: top;\n",
       "    }\n",
       "\n",
       "    .dataframe thead th {\n",
       "        text-align: right;\n",
       "    }\n",
       "</style>\n",
       "<table border=\"1\" class=\"dataframe\">\n",
       "  <thead>\n",
       "    <tr style=\"text-align: right;\">\n",
       "      <th></th>\n",
       "      <th>me</th>\n",
       "      <th>Marke</th>\n",
       "      <th>Einkaufsort</th>\n",
       "      <th>Preis</th>\n",
       "      <th>Kategorie</th>\n",
       "      <th>Bio</th>\n",
       "      <th>Fair</th>\n",
       "      <th>crisp</th>\n",
       "      <th>nuss</th>\n",
       "      <th>traube</th>\n",
       "      <th>rum</th>\n",
       "      <th>chili</th>\n",
       "      <th>echte.vanille</th>\n",
       "      <th>cocos</th>\n",
       "      <th>Kakaogehalt</th>\n",
       "      <th>Gewicht</th>\n",
       "      <th>Anzahl.der.Inhaltsstoffe</th>\n",
       "      <th>Nussanteil</th>\n",
       "      <th>Crisps</th>\n",
       "      <th>Verfallsdatum</th>\n",
       "    </tr>\n",
       "  </thead>\n",
       "  <tbody>\n",
       "    <tr>\n",
       "      <th>0</th>\n",
       "      <td>Choceur Weisse Crisp</td>\n",
       "      <td>Choceur</td>\n",
       "      <td>Aldi</td>\n",
       "      <td>99</td>\n",
       "      <td>weiss</td>\n",
       "      <td>nein</td>\n",
       "      <td>nein</td>\n",
       "      <td>1</td>\n",
       "      <td>0</td>\n",
       "      <td>0</td>\n",
       "      <td>0</td>\n",
       "      <td>0</td>\n",
       "      <td>0</td>\n",
       "      <td>0</td>\n",
       "      <td>28.0</td>\n",
       "      <td>200</td>\n",
       "      <td>15</td>\n",
       "      <td>12.0</td>\n",
       "      <td>6</td>\n",
       "      <td>5.0</td>\n",
       "    </tr>\n",
       "    <tr>\n",
       "      <th>1</th>\n",
       "      <td>Choceur Alpenvollmilch</td>\n",
       "      <td>Choceur</td>\n",
       "      <td>Aldi</td>\n",
       "      <td>35</td>\n",
       "      <td>vollmilch</td>\n",
       "      <td>nein</td>\n",
       "      <td>nein</td>\n",
       "      <td>0</td>\n",
       "      <td>0</td>\n",
       "      <td>0</td>\n",
       "      <td>0</td>\n",
       "      <td>0</td>\n",
       "      <td>0</td>\n",
       "      <td>0</td>\n",
       "      <td>30.0</td>\n",
       "      <td>100</td>\n",
       "      <td>10</td>\n",
       "      <td>0.0</td>\n",
       "      <td>0</td>\n",
       "      <td>9.0</td>\n",
       "    </tr>\n",
       "    <tr>\n",
       "      <th>2</th>\n",
       "      <td>Choceur Haselnuss</td>\n",
       "      <td>Choceur</td>\n",
       "      <td>Aldi</td>\n",
       "      <td>35</td>\n",
       "      <td>vollmilch</td>\n",
       "      <td>nein</td>\n",
       "      <td>nein</td>\n",
       "      <td>0</td>\n",
       "      <td>1</td>\n",
       "      <td>0</td>\n",
       "      <td>0</td>\n",
       "      <td>0</td>\n",
       "      <td>0</td>\n",
       "      <td>0</td>\n",
       "      <td>30.0</td>\n",
       "      <td>100</td>\n",
       "      <td>10</td>\n",
       "      <td>12.0</td>\n",
       "      <td>0</td>\n",
       "      <td>9.0</td>\n",
       "    </tr>\n",
       "    <tr>\n",
       "      <th>3</th>\n",
       "      <td>Nusskcker</td>\n",
       "      <td>Nusskcker</td>\n",
       "      <td>Aldi</td>\n",
       "      <td>55</td>\n",
       "      <td>vollmilch</td>\n",
       "      <td>nein</td>\n",
       "      <td>nein</td>\n",
       "      <td>0</td>\n",
       "      <td>1</td>\n",
       "      <td>0</td>\n",
       "      <td>0</td>\n",
       "      <td>0</td>\n",
       "      <td>0</td>\n",
       "      <td>0</td>\n",
       "      <td>32.0</td>\n",
       "      <td>100</td>\n",
       "      <td>9</td>\n",
       "      <td>25.0</td>\n",
       "      <td>0</td>\n",
       "      <td>6.0</td>\n",
       "    </tr>\n",
       "    <tr>\n",
       "      <th>4</th>\n",
       "      <td>Happy Halloween</td>\n",
       "      <td>Meybo</td>\n",
       "      <td>Bio Bio</td>\n",
       "      <td>199</td>\n",
       "      <td>vollmilch</td>\n",
       "      <td>ja</td>\n",
       "      <td>nein</td>\n",
       "      <td>0</td>\n",
       "      <td>0</td>\n",
       "      <td>0</td>\n",
       "      <td>0</td>\n",
       "      <td>0</td>\n",
       "      <td>1</td>\n",
       "      <td>0</td>\n",
       "      <td>35.0</td>\n",
       "      <td>100</td>\n",
       "      <td>6</td>\n",
       "      <td>0.0</td>\n",
       "      <td>0</td>\n",
       "      <td>15.0</td>\n",
       "    </tr>\n",
       "  </tbody>\n",
       "</table>\n",
       "</div>"
      ],
      "text/plain": [
       "                       me      Marke Einkaufsort  Preis  Kategorie   Bio  \\\n",
       "0    Choceur Weisse Crisp    Choceur        Aldi     99      weiss  nein   \n",
       "1  Choceur Alpenvollmilch    Choceur        Aldi     35  vollmilch  nein   \n",
       "2       Choceur Haselnuss    Choceur        Aldi     35  vollmilch  nein   \n",
       "3               Nusskcker  Nusskcker        Aldi     55  vollmilch  nein   \n",
       "4         Happy Halloween      Meybo     Bio Bio    199  vollmilch    ja   \n",
       "\n",
       "   Fair  crisp  nuss  traube  rum  chili  echte.vanille  cocos  Kakaogehalt  \\\n",
       "0  nein      1     0       0    0      0              0      0         28.0   \n",
       "1  nein      0     0       0    0      0              0      0         30.0   \n",
       "2  nein      0     1       0    0      0              0      0         30.0   \n",
       "3  nein      0     1       0    0      0              0      0         32.0   \n",
       "4  nein      0     0       0    0      0              1      0         35.0   \n",
       "\n",
       "   Gewicht  Anzahl.der.Inhaltsstoffe  Nussanteil  Crisps  Verfallsdatum  \n",
       "0      200                        15        12.0       6            5.0  \n",
       "1      100                        10         0.0       0            9.0  \n",
       "2      100                        10        12.0       0            9.0  \n",
       "3      100                         9        25.0       0            6.0  \n",
       "4      100                         6         0.0       0           15.0  "
      ]
     },
     "execution_count": 31,
     "metadata": {},
     "output_type": "execute_result"
    }
   ],
   "source": [
    "#schoko.dtypes\n",
    "schoko.head()\n",
    "#schoko.shape"
   ]
  },
  {
   "cell_type": "markdown",
   "metadata": {},
   "source": [
    "Findet sämtliche Bio-Schokolade mit einem Preis nicht teurer als 1,6 €:"
   ]
  },
  {
   "cell_type": "code",
   "execution_count": 32,
   "metadata": {},
   "outputs": [
    {
     "data": {
      "text/html": [
       "<div>\n",
       "<style scoped>\n",
       "    .dataframe tbody tr th:only-of-type {\n",
       "        vertical-align: middle;\n",
       "    }\n",
       "\n",
       "    .dataframe tbody tr th {\n",
       "        vertical-align: top;\n",
       "    }\n",
       "\n",
       "    .dataframe thead th {\n",
       "        text-align: right;\n",
       "    }\n",
       "</style>\n",
       "<table border=\"1\" class=\"dataframe\">\n",
       "  <thead>\n",
       "    <tr style=\"text-align: right;\">\n",
       "      <th></th>\n",
       "      <th>me</th>\n",
       "      <th>Marke</th>\n",
       "      <th>Einkaufsort</th>\n",
       "      <th>Preis</th>\n",
       "      <th>Kategorie</th>\n",
       "      <th>Bio</th>\n",
       "      <th>Fair</th>\n",
       "      <th>crisp</th>\n",
       "      <th>nuss</th>\n",
       "      <th>traube</th>\n",
       "      <th>rum</th>\n",
       "      <th>chili</th>\n",
       "      <th>echte.vanille</th>\n",
       "      <th>cocos</th>\n",
       "      <th>Kakaogehalt</th>\n",
       "      <th>Gewicht</th>\n",
       "      <th>Anzahl.der.Inhaltsstoffe</th>\n",
       "      <th>Nussanteil</th>\n",
       "      <th>Crisps</th>\n",
       "      <th>Verfallsdatum</th>\n",
       "    </tr>\n",
       "  </thead>\n",
       "  <tbody>\n",
       "    <tr>\n",
       "      <th>9</th>\n",
       "      <td>Weisse Knusper</td>\n",
       "      <td>Vivani</td>\n",
       "      <td>Bio Bio</td>\n",
       "      <td>159</td>\n",
       "      <td>weiss</td>\n",
       "      <td>ja</td>\n",
       "      <td>nein</td>\n",
       "      <td>1</td>\n",
       "      <td>0</td>\n",
       "      <td>0</td>\n",
       "      <td>0</td>\n",
       "      <td>0</td>\n",
       "      <td>1</td>\n",
       "      <td>0</td>\n",
       "      <td>29.0</td>\n",
       "      <td>100</td>\n",
       "      <td>6</td>\n",
       "      <td>0.0</td>\n",
       "      <td>5</td>\n",
       "      <td>15.0</td>\n",
       "    </tr>\n",
       "    <tr>\n",
       "      <th>11</th>\n",
       "      <td>Vollmilch Nuss</td>\n",
       "      <td>Vivani</td>\n",
       "      <td>Bio Bio</td>\n",
       "      <td>159</td>\n",
       "      <td>vollmilch</td>\n",
       "      <td>ja</td>\n",
       "      <td>nein</td>\n",
       "      <td>0</td>\n",
       "      <td>1</td>\n",
       "      <td>0</td>\n",
       "      <td>0</td>\n",
       "      <td>0</td>\n",
       "      <td>1</td>\n",
       "      <td>0</td>\n",
       "      <td>33.0</td>\n",
       "      <td>100</td>\n",
       "      <td>8</td>\n",
       "      <td>10.0</td>\n",
       "      <td>0</td>\n",
       "      <td>6.0</td>\n",
       "    </tr>\n",
       "    <tr>\n",
       "      <th>13</th>\n",
       "      <td>LacoaZartbitter</td>\n",
       "      <td>Lacoa</td>\n",
       "      <td>Bio Bio</td>\n",
       "      <td>119</td>\n",
       "      <td>vollmilch</td>\n",
       "      <td>ja</td>\n",
       "      <td>nein</td>\n",
       "      <td>0</td>\n",
       "      <td>0</td>\n",
       "      <td>0</td>\n",
       "      <td>0</td>\n",
       "      <td>0</td>\n",
       "      <td>0</td>\n",
       "      <td>0</td>\n",
       "      <td>70.0</td>\n",
       "      <td>100</td>\n",
       "      <td>3</td>\n",
       "      <td>0.0</td>\n",
       "      <td>0</td>\n",
       "      <td>21.0</td>\n",
       "    </tr>\n",
       "    <tr>\n",
       "      <th>14</th>\n",
       "      <td>LacoaVollmichschokolade</td>\n",
       "      <td>Lacoa</td>\n",
       "      <td>Bio Bio</td>\n",
       "      <td>119</td>\n",
       "      <td>vollmilch</td>\n",
       "      <td>ja</td>\n",
       "      <td>nein</td>\n",
       "      <td>0</td>\n",
       "      <td>0</td>\n",
       "      <td>0</td>\n",
       "      <td>0</td>\n",
       "      <td>0</td>\n",
       "      <td>1</td>\n",
       "      <td>0</td>\n",
       "      <td>33.0</td>\n",
       "      <td>100</td>\n",
       "      <td>7</td>\n",
       "      <td>0.0</td>\n",
       "      <td>0</td>\n",
       "      <td>16.0</td>\n",
       "    </tr>\n",
       "    <tr>\n",
       "      <th>19</th>\n",
       "      <td>FeineBitter</td>\n",
       "      <td>Vivani</td>\n",
       "      <td>Bio Bio</td>\n",
       "      <td>159</td>\n",
       "      <td>bitter</td>\n",
       "      <td>ja</td>\n",
       "      <td>nein</td>\n",
       "      <td>0</td>\n",
       "      <td>0</td>\n",
       "      <td>0</td>\n",
       "      <td>0</td>\n",
       "      <td>0</td>\n",
       "      <td>0</td>\n",
       "      <td>0</td>\n",
       "      <td>72.0</td>\n",
       "      <td>100</td>\n",
       "      <td>3</td>\n",
       "      <td>0.0</td>\n",
       "      <td>0</td>\n",
       "      <td>19.0</td>\n",
       "    </tr>\n",
       "    <tr>\n",
       "      <th>21</th>\n",
       "      <td>Kids</td>\n",
       "      <td>Vivani</td>\n",
       "      <td>Bio Bio</td>\n",
       "      <td>159</td>\n",
       "      <td>vollmilch</td>\n",
       "      <td>ja</td>\n",
       "      <td>nein</td>\n",
       "      <td>0</td>\n",
       "      <td>0</td>\n",
       "      <td>0</td>\n",
       "      <td>0</td>\n",
       "      <td>0</td>\n",
       "      <td>1</td>\n",
       "      <td>0</td>\n",
       "      <td>33.0</td>\n",
       "      <td>100</td>\n",
       "      <td>10</td>\n",
       "      <td>0.0</td>\n",
       "      <td>0</td>\n",
       "      <td>2.0</td>\n",
       "    </tr>\n",
       "  </tbody>\n",
       "</table>\n",
       "</div>"
      ],
      "text/plain": [
       "                         me   Marke Einkaufsort  Preis  Kategorie Bio  Fair  \\\n",
       "9            Weisse Knusper  Vivani     Bio Bio    159      weiss  ja  nein   \n",
       "11           Vollmilch Nuss  Vivani     Bio Bio    159  vollmilch  ja  nein   \n",
       "13          LacoaZartbitter   Lacoa     Bio Bio    119  vollmilch  ja  nein   \n",
       "14  LacoaVollmichschokolade   Lacoa     Bio Bio    119  vollmilch  ja  nein   \n",
       "19              FeineBitter  Vivani     Bio Bio    159     bitter  ja  nein   \n",
       "21                     Kids  Vivani     Bio Bio    159  vollmilch  ja  nein   \n",
       "\n",
       "    crisp  nuss  traube  rum  chili  echte.vanille  cocos  Kakaogehalt  \\\n",
       "9       1     0       0    0      0              1      0         29.0   \n",
       "11      0     1       0    0      0              1      0         33.0   \n",
       "13      0     0       0    0      0              0      0         70.0   \n",
       "14      0     0       0    0      0              1      0         33.0   \n",
       "19      0     0       0    0      0              0      0         72.0   \n",
       "21      0     0       0    0      0              1      0         33.0   \n",
       "\n",
       "    Gewicht  Anzahl.der.Inhaltsstoffe  Nussanteil  Crisps  Verfallsdatum  \n",
       "9       100                         6         0.0       5           15.0  \n",
       "11      100                         8        10.0       0            6.0  \n",
       "13      100                         3         0.0       0           21.0  \n",
       "14      100                         7         0.0       0           16.0  \n",
       "19      100                         3         0.0       0           19.0  \n",
       "21      100                        10         0.0       0            2.0  "
      ]
     },
     "execution_count": 32,
     "metadata": {},
     "output_type": "execute_result"
    }
   ],
   "source": [
    "schoko[(schoko.Bio == \"ja\") & (schoko.Preis <= 160)]"
   ]
  },
  {
   "cell_type": "markdown",
   "metadata": {},
   "source": [
    "Sortiert den Datensatz nach Bio und Preis:"
   ]
  },
  {
   "cell_type": "code",
   "execution_count": 33,
   "metadata": {},
   "outputs": [
    {
     "data": {
      "text/html": [
       "<div>\n",
       "<style scoped>\n",
       "    .dataframe tbody tr th:only-of-type {\n",
       "        vertical-align: middle;\n",
       "    }\n",
       "\n",
       "    .dataframe tbody tr th {\n",
       "        vertical-align: top;\n",
       "    }\n",
       "\n",
       "    .dataframe thead th {\n",
       "        text-align: right;\n",
       "    }\n",
       "</style>\n",
       "<table border=\"1\" class=\"dataframe\">\n",
       "  <thead>\n",
       "    <tr style=\"text-align: right;\">\n",
       "      <th></th>\n",
       "      <th>me</th>\n",
       "      <th>Marke</th>\n",
       "      <th>Einkaufsort</th>\n",
       "      <th>Preis</th>\n",
       "      <th>Kategorie</th>\n",
       "      <th>Bio</th>\n",
       "      <th>Fair</th>\n",
       "      <th>crisp</th>\n",
       "      <th>nuss</th>\n",
       "      <th>traube</th>\n",
       "      <th>rum</th>\n",
       "      <th>chili</th>\n",
       "      <th>echte.vanille</th>\n",
       "      <th>cocos</th>\n",
       "      <th>Kakaogehalt</th>\n",
       "      <th>Gewicht</th>\n",
       "      <th>Anzahl.der.Inhaltsstoffe</th>\n",
       "      <th>Nussanteil</th>\n",
       "      <th>Crisps</th>\n",
       "      <th>Verfallsdatum</th>\n",
       "    </tr>\n",
       "  </thead>\n",
       "  <tbody>\n",
       "    <tr>\n",
       "      <th>13</th>\n",
       "      <td>LacoaZartbitter</td>\n",
       "      <td>Lacoa</td>\n",
       "      <td>Bio Bio</td>\n",
       "      <td>119</td>\n",
       "      <td>vollmilch</td>\n",
       "      <td>ja</td>\n",
       "      <td>nein</td>\n",
       "      <td>0</td>\n",
       "      <td>0</td>\n",
       "      <td>0</td>\n",
       "      <td>0</td>\n",
       "      <td>0</td>\n",
       "      <td>0</td>\n",
       "      <td>0</td>\n",
       "      <td>70.0</td>\n",
       "      <td>100</td>\n",
       "      <td>3</td>\n",
       "      <td>0.0</td>\n",
       "      <td>0</td>\n",
       "      <td>21.0</td>\n",
       "    </tr>\n",
       "    <tr>\n",
       "      <th>14</th>\n",
       "      <td>LacoaVollmichschokolade</td>\n",
       "      <td>Lacoa</td>\n",
       "      <td>Bio Bio</td>\n",
       "      <td>119</td>\n",
       "      <td>vollmilch</td>\n",
       "      <td>ja</td>\n",
       "      <td>nein</td>\n",
       "      <td>0</td>\n",
       "      <td>0</td>\n",
       "      <td>0</td>\n",
       "      <td>0</td>\n",
       "      <td>0</td>\n",
       "      <td>1</td>\n",
       "      <td>0</td>\n",
       "      <td>33.0</td>\n",
       "      <td>100</td>\n",
       "      <td>7</td>\n",
       "      <td>0.0</td>\n",
       "      <td>0</td>\n",
       "      <td>16.0</td>\n",
       "    </tr>\n",
       "    <tr>\n",
       "      <th>9</th>\n",
       "      <td>Weisse Knusper</td>\n",
       "      <td>Vivani</td>\n",
       "      <td>Bio Bio</td>\n",
       "      <td>159</td>\n",
       "      <td>weiss</td>\n",
       "      <td>ja</td>\n",
       "      <td>nein</td>\n",
       "      <td>1</td>\n",
       "      <td>0</td>\n",
       "      <td>0</td>\n",
       "      <td>0</td>\n",
       "      <td>0</td>\n",
       "      <td>1</td>\n",
       "      <td>0</td>\n",
       "      <td>29.0</td>\n",
       "      <td>100</td>\n",
       "      <td>6</td>\n",
       "      <td>0.0</td>\n",
       "      <td>5</td>\n",
       "      <td>15.0</td>\n",
       "    </tr>\n",
       "    <tr>\n",
       "      <th>11</th>\n",
       "      <td>Vollmilch Nuss</td>\n",
       "      <td>Vivani</td>\n",
       "      <td>Bio Bio</td>\n",
       "      <td>159</td>\n",
       "      <td>vollmilch</td>\n",
       "      <td>ja</td>\n",
       "      <td>nein</td>\n",
       "      <td>0</td>\n",
       "      <td>1</td>\n",
       "      <td>0</td>\n",
       "      <td>0</td>\n",
       "      <td>0</td>\n",
       "      <td>1</td>\n",
       "      <td>0</td>\n",
       "      <td>33.0</td>\n",
       "      <td>100</td>\n",
       "      <td>8</td>\n",
       "      <td>10.0</td>\n",
       "      <td>0</td>\n",
       "      <td>6.0</td>\n",
       "    </tr>\n",
       "    <tr>\n",
       "      <th>19</th>\n",
       "      <td>FeineBitter</td>\n",
       "      <td>Vivani</td>\n",
       "      <td>Bio Bio</td>\n",
       "      <td>159</td>\n",
       "      <td>bitter</td>\n",
       "      <td>ja</td>\n",
       "      <td>nein</td>\n",
       "      <td>0</td>\n",
       "      <td>0</td>\n",
       "      <td>0</td>\n",
       "      <td>0</td>\n",
       "      <td>0</td>\n",
       "      <td>0</td>\n",
       "      <td>0</td>\n",
       "      <td>72.0</td>\n",
       "      <td>100</td>\n",
       "      <td>3</td>\n",
       "      <td>0.0</td>\n",
       "      <td>0</td>\n",
       "      <td>19.0</td>\n",
       "    </tr>\n",
       "  </tbody>\n",
       "</table>\n",
       "</div>"
      ],
      "text/plain": [
       "                         me   Marke Einkaufsort  Preis  Kategorie Bio  Fair  \\\n",
       "13          LacoaZartbitter   Lacoa     Bio Bio    119  vollmilch  ja  nein   \n",
       "14  LacoaVollmichschokolade   Lacoa     Bio Bio    119  vollmilch  ja  nein   \n",
       "9            Weisse Knusper  Vivani     Bio Bio    159      weiss  ja  nein   \n",
       "11           Vollmilch Nuss  Vivani     Bio Bio    159  vollmilch  ja  nein   \n",
       "19              FeineBitter  Vivani     Bio Bio    159     bitter  ja  nein   \n",
       "\n",
       "    crisp  nuss  traube  rum  chili  echte.vanille  cocos  Kakaogehalt  \\\n",
       "13      0     0       0    0      0              0      0         70.0   \n",
       "14      0     0       0    0      0              1      0         33.0   \n",
       "9       1     0       0    0      0              1      0         29.0   \n",
       "11      0     1       0    0      0              1      0         33.0   \n",
       "19      0     0       0    0      0              0      0         72.0   \n",
       "\n",
       "    Gewicht  Anzahl.der.Inhaltsstoffe  Nussanteil  Crisps  Verfallsdatum  \n",
       "13      100                         3         0.0       0           21.0  \n",
       "14      100                         7         0.0       0           16.0  \n",
       "9       100                         6         0.0       5           15.0  \n",
       "11      100                         8        10.0       0            6.0  \n",
       "19      100                         3         0.0       0           19.0  "
      ]
     },
     "execution_count": 33,
     "metadata": {},
     "output_type": "execute_result"
    }
   ],
   "source": [
    "schoko.sort_values(by=[\"Bio\", \"Preis\"], inplace=True)\n",
    "schoko.head()"
   ]
  },
  {
   "cell_type": "markdown",
   "metadata": {},
   "source": [
    "Erstellt eine Pivot-Tabelle für Marke, Kategorie und Preis (pivot_table()):"
   ]
  },
  {
   "cell_type": "code",
   "execution_count": 34,
   "metadata": {},
   "outputs": [
    {
     "data": {
      "text/html": [
       "<div>\n",
       "<style scoped>\n",
       "    .dataframe tbody tr th:only-of-type {\n",
       "        vertical-align: middle;\n",
       "    }\n",
       "\n",
       "    .dataframe tbody tr th {\n",
       "        vertical-align: top;\n",
       "    }\n",
       "\n",
       "    .dataframe thead th {\n",
       "        text-align: right;\n",
       "    }\n",
       "</style>\n",
       "<table border=\"1\" class=\"dataframe\">\n",
       "  <thead>\n",
       "    <tr style=\"text-align: right;\">\n",
       "      <th>Marke</th>\n",
       "      <th>Alpia</th>\n",
       "      <th>Choceur</th>\n",
       "      <th>Gepa</th>\n",
       "      <th>Lacoa</th>\n",
       "      <th>Lindt</th>\n",
       "      <th>Meybo</th>\n",
       "      <th>Milka</th>\n",
       "      <th>Nestle</th>\n",
       "      <th>Niederegger</th>\n",
       "      <th>Nusskcker</th>\n",
       "      <th>RS</th>\n",
       "      <th>Rapunzel</th>\n",
       "      <th>Ritter Sport</th>\n",
       "      <th>Vivani</th>\n",
       "      <th>turata</th>\n",
       "    </tr>\n",
       "    <tr>\n",
       "      <th>Kategorie</th>\n",
       "      <th></th>\n",
       "      <th></th>\n",
       "      <th></th>\n",
       "      <th></th>\n",
       "      <th></th>\n",
       "      <th></th>\n",
       "      <th></th>\n",
       "      <th></th>\n",
       "      <th></th>\n",
       "      <th></th>\n",
       "      <th></th>\n",
       "      <th></th>\n",
       "      <th></th>\n",
       "      <th></th>\n",
       "      <th></th>\n",
       "    </tr>\n",
       "  </thead>\n",
       "  <tbody>\n",
       "    <tr>\n",
       "      <th>bitter</th>\n",
       "      <td>49.0</td>\n",
       "      <td>NaN</td>\n",
       "      <td>230.0</td>\n",
       "      <td>NaN</td>\n",
       "      <td>149.000000</td>\n",
       "      <td>199.0</td>\n",
       "      <td>NaN</td>\n",
       "      <td>NaN</td>\n",
       "      <td>NaN</td>\n",
       "      <td>NaN</td>\n",
       "      <td>119.0</td>\n",
       "      <td>NaN</td>\n",
       "      <td>85.0</td>\n",
       "      <td>189.0</td>\n",
       "      <td>199.0</td>\n",
       "    </tr>\n",
       "    <tr>\n",
       "      <th>reismilch</th>\n",
       "      <td>NaN</td>\n",
       "      <td>NaN</td>\n",
       "      <td>230.0</td>\n",
       "      <td>NaN</td>\n",
       "      <td>NaN</td>\n",
       "      <td>NaN</td>\n",
       "      <td>NaN</td>\n",
       "      <td>NaN</td>\n",
       "      <td>NaN</td>\n",
       "      <td>NaN</td>\n",
       "      <td>NaN</td>\n",
       "      <td>NaN</td>\n",
       "      <td>NaN</td>\n",
       "      <td>NaN</td>\n",
       "      <td>NaN</td>\n",
       "    </tr>\n",
       "    <tr>\n",
       "      <th>vollmilch</th>\n",
       "      <td>49.0</td>\n",
       "      <td>35.0</td>\n",
       "      <td>250.0</td>\n",
       "      <td>119.0</td>\n",
       "      <td>189.333333</td>\n",
       "      <td>199.0</td>\n",
       "      <td>79.0</td>\n",
       "      <td>NaN</td>\n",
       "      <td>195.0</td>\n",
       "      <td>55.0</td>\n",
       "      <td>119.0</td>\n",
       "      <td>195.0</td>\n",
       "      <td>85.0</td>\n",
       "      <td>159.0</td>\n",
       "      <td>249.0</td>\n",
       "    </tr>\n",
       "    <tr>\n",
       "      <th>weiss</th>\n",
       "      <td>NaN</td>\n",
       "      <td>99.0</td>\n",
       "      <td>NaN</td>\n",
       "      <td>NaN</td>\n",
       "      <td>270.000000</td>\n",
       "      <td>NaN</td>\n",
       "      <td>NaN</td>\n",
       "      <td>89.0</td>\n",
       "      <td>NaN</td>\n",
       "      <td>NaN</td>\n",
       "      <td>NaN</td>\n",
       "      <td>NaN</td>\n",
       "      <td>85.0</td>\n",
       "      <td>159.0</td>\n",
       "      <td>NaN</td>\n",
       "    </tr>\n",
       "  </tbody>\n",
       "</table>\n",
       "</div>"
      ],
      "text/plain": [
       "Marke      Alpia  Choceur   Gepa  Lacoa       Lindt  Meybo  Milka  Nestle  \\\n",
       "Kategorie                                                                   \n",
       "bitter      49.0      NaN  230.0    NaN  149.000000  199.0    NaN     NaN   \n",
       "reismilch    NaN      NaN  230.0    NaN         NaN    NaN    NaN     NaN   \n",
       "vollmilch   49.0     35.0  250.0  119.0  189.333333  199.0   79.0     NaN   \n",
       "weiss        NaN     99.0    NaN    NaN  270.000000    NaN    NaN    89.0   \n",
       "\n",
       "Marke      Niederegger  Nusskcker     RS  Rapunzel  Ritter Sport  Vivani  \\\n",
       "Kategorie                                                                  \n",
       "bitter             NaN        NaN  119.0       NaN          85.0   189.0   \n",
       "reismilch          NaN        NaN    NaN       NaN           NaN     NaN   \n",
       "vollmilch        195.0       55.0  119.0     195.0          85.0   159.0   \n",
       "weiss              NaN        NaN    NaN       NaN          85.0   159.0   \n",
       "\n",
       "Marke      turata  \n",
       "Kategorie          \n",
       "bitter      199.0  \n",
       "reismilch     NaN  \n",
       "vollmilch   249.0  \n",
       "weiss         NaN  "
      ]
     },
     "execution_count": 34,
     "metadata": {},
     "output_type": "execute_result"
    }
   ],
   "source": [
    "schoko_pivot = schoko.pivot_table(columns=\"Marke\", index=\"Kategorie\", values=\"Preis\") #, aggfunc=\"mean\")\n",
    "schoko_pivot"
   ]
  },
  {
   "cell_type": "markdown",
   "metadata": {},
   "source": [
    "Erstellt eine Heatmap von der Pivot-Tabelle (sns.heatmap()):"
   ]
  },
  {
   "cell_type": "code",
   "execution_count": 35,
   "metadata": {},
   "outputs": [
    {
     "data": {
      "text/plain": [
       "<matplotlib.axes._subplots.AxesSubplot at 0x7f429a0d4c88>"
      ]
     },
     "execution_count": 35,
     "metadata": {},
     "output_type": "execute_result"
    },
    {
     "data": {
      "image/png": "[encoded data removed]",
      "text/plain": [
       "<Figure size 432x288 with 2 Axes>"
      ]
     },
     "metadata": {
      "needs_background": "light"
     },
     "output_type": "display_data"
    }
   ],
   "source": [
    "# Import your libraries\n",
    "import matplotlib.pyplot as plt\n",
    "import seaborn as sns\n",
    "\n",
    "# Hist only\n",
    "sns.heatmap(schoko_pivot)\n",
    "#plt.savefig('/home/matt/Desktop/plot.png')"
   ]
  },
  {
   "cell_type": "markdown",
   "metadata": {},
   "source": [
    "Erstellt eine Grafik (sns.catplot()) mit Bio, Preis & Kategorie:"
   ]
  },
  {
   "cell_type": "code",
   "execution_count": 36,
   "metadata": {},
   "outputs": [
    {
     "data": {
      "text/plain": [
       "<seaborn.axisgrid.FacetGrid at 0x7f429a0d44e0>"
      ]
     },
     "execution_count": 36,
     "metadata": {},
     "output_type": "execute_result"
    },
    {
     "data": {
      "image/png": "[encoded data removed]",
      "text/plain": [
       "<Figure size 576x144 with 4 Axes>"
      ]
     },
     "metadata": {
      "needs_background": "light"
     },
     "output_type": "display_data"
    }
   ],
   "source": [
    "conf = {\n",
    "\"x\": \"Bio\",\n",
    "\"y\": \"Preis\",\n",
    "\"col\": \"Kategorie\",\n",
    "\"kind\": \"boxen\",\n",
    "\"data\": schoko,\n",
    "\"height\": 2,\n",
    "\"sharex\": False,\n",
    "\"dodge\": False,\n",
    "}\n",
    "\n",
    "f = sns.catplot(**conf)\n",
    "f"
   ]
  },
  {
   "cell_type": "markdown",
   "metadata": {},
   "source": [
    "Und nun nochmal mit sns.violinplot():"
   ]
  },
  {
   "cell_type": "code",
   "execution_count": 37,
   "metadata": {},
   "outputs": [
    {
     "data": {
      "text/plain": [
       "<matplotlib.axes._subplots.AxesSubplot at 0x7f4299ee2be0>"
      ]
     },
     "execution_count": 37,
     "metadata": {},
     "output_type": "execute_result"
    },
    {
     "data": {
      "image/png": "[encoded data removed]",
      "text/plain": [
       "<Figure size 432x288 with 1 Axes>"
      ]
     },
     "metadata": {
      "needs_background": "light"
     },
     "output_type": "display_data"
    }
   ],
   "source": [
    "sns.violinplot(x=\"Kategorie\", y=\"Preis\", hue=\"Bio\", data=schoko)"
   ]
  },
  {
   "cell_type": "markdown",
   "metadata": {},
   "source": [
    "Erstellt nun noch einen Scatterplot (sns.scatterplot()) mit Kakaogehalt, Preis, Kategorie \\& Anzahl der Inhaltsstoffe:"
   ]
  },
  {
   "cell_type": "code",
   "execution_count": 38,
   "metadata": {},
   "outputs": [
    {
     "data": {
      "text/plain": [
       "Text(0.5, 1.0, 'Verhältnis von Kakaogehalt und Preis')"
      ]
     },
     "execution_count": 38,
     "metadata": {},
     "output_type": "execute_result"
    },
    {
     "data": {
      "image/png": "[encoded data removed]",
      "text/plain": [
       "<Figure size 1080x360 with 1 Axes>"
      ]
     },
     "metadata": {
      "needs_background": "light"
     },
     "output_type": "display_data"
    }
   ],
   "source": [
    "# Figure und Axes Objekt anlegen\n",
    "fig, ax = plt.subplots(figsize=(15, 5))\n",
    "\n",
    "# Grafik anlegen\n",
    "conf = {\n",
    "\"x\": \"Kakaogehalt\",\n",
    "\"y\": \"Preis\",\n",
    "\"hue\": \"Kategorie\",\n",
    "\"size\": \"Anzahl.der.Inhaltsstoffe\",\n",
    "\"sizes\": (10, 100),\n",
    "\"data\": schoko,\n",
    "\"ax\": ax\n",
    "}\n",
    "sns.scatterplot(**conf)\n",
    "\n",
    "# Beschriftung formatieren und festlegen\n",
    "font = {\"weight\": \"bold\"}\n",
    "ax.set(xlabel=conf[\"x\"].upper(), ylabel=conf[\"y\"].upper())\n",
    "title = (\"Verhältnis von Kakaogehalt und Preis\")\n",
    "\n",
    "plt.title(title, **font)"
   ]
  },
  {
   "cell_type": "markdown",
   "metadata": {},
   "source": [
    "## Verteilungs- \\& Dichtefunktionen"
   ]
  },
  {
   "cell_type": "markdown",
   "metadata": {},
   "source": [
    "### Bernoulli-Verteilung"
   ]
  },
  {
   "cell_type": "code",
   "execution_count": 39,
   "metadata": {},
   "outputs": [
    {
     "data": {
      "text/plain": [
       "array([1, 1, 1, 0, 0, 0, 0, 0, 0, 0])"
      ]
     },
     "execution_count": 39,
     "metadata": {},
     "output_type": "execute_result"
    }
   ],
   "source": [
    "from scipy import stats\n",
    "\n",
    "p = 0.5\n",
    "bernoulliDist = stats.bernoulli(p)\n",
    "\n",
    "# In Python this is called a “frozen distribution function”, \n",
    "# and it allows us to calculate everything we want for this distribution. \n",
    "# For example, the probability if head comes up zero or one times is given by the probability mass function (PMF)\n",
    "\n",
    "# Probability mass function\n",
    "p_tails = bernoulliDist.pmf(0)\n",
    "p_heads = bernoulliDist.pmf(1)\n",
    "\n",
    "# And we can simulate 10 Bernoulli trials with\n",
    "trials = bernoulliDist.rvs(10) # rvs = random variates\n",
    "trials"
   ]
  },
  {
   "cell_type": "markdown",
   "metadata": {},
   "source": [
    "### Binomial-Verteilung"
   ]
  },
  {
   "cell_type": "code",
   "execution_count": 40,
   "metadata": {},
   "outputs": [
    {
     "data": {
      "text/plain": [
       "array([0.0625, 0.25  , 0.375 , 0.25  , 0.0625])"
      ]
     },
     "execution_count": 40,
     "metadata": {},
     "output_type": "execute_result"
    }
   ],
   "source": [
    "from scipy import stats\n",
    "import numpy as np\n",
    "\n",
    "# Frozen distribution function\n",
    "(p, num) = (0.5, 4)\n",
    "binomDist = stats.binom(num, p)\n",
    "\n",
    "# Calculate the probabilities how often heads come up \n",
    "# during four tosses, given by the PMF\n",
    "binomDist.pmf(np.arange(5))"
   ]
  },
  {
   "cell_type": "markdown",
   "metadata": {},
   "source": [
    "### Poisson-Verteilung"
   ]
  },
  {
   "cell_type": "code",
   "execution_count": 41,
   "metadata": {},
   "outputs": [
    {
     "name": "stdout",
     "output_type": "stream",
     "text": [
      "The chance of having 0 fatal accidents in one \n",
      "        week is 30.5%.\n",
      "The chance of having 2 fatal accidents in one \n",
      "        week is 21.5%.\n",
      "The chance of having 5 fatal accidents in one \n",
      "        week is  0.6%.\n"
     ]
    }
   ],
   "source": [
    "# Generate the distribution.\n",
    "# Watch out NOT to divide integers, \n",
    "# as \"3/4\" gives \"0\" in Python 2.x!\n",
    "prob = 62./(365./7)\n",
    "pd = stats.poisson(prob)\n",
    "\n",
    "# Select the interesting numbers, \n",
    "# calculate the PMF, and print the results\n",
    "x = [0,2,5]\n",
    "y = pd.pmf(x)*100\n",
    "for num, solution in zip(x,y):\n",
    "  print('''The chance of having {0} fatal accidents in one \n",
    "        week is {1:4.1f}%.'''.format(num,solution))"
   ]
  },
  {
   "cell_type": "markdown",
   "metadata": {},
   "source": [
    "### Normalverteilung"
   ]
  },
  {
   "cell_type": "code",
   "execution_count": 42,
   "metadata": {},
   "outputs": [
    {
     "data": {
      "text/plain": [
       "array([-3.37197479, -0.62802521])"
      ]
     },
     "execution_count": 42,
     "metadata": {},
     "output_type": "execute_result"
    }
   ],
   "source": [
    "import numpy as np\n",
    "from scipy import stats\n",
    "\n",
    "mu = -2\n",
    "sigma = 0.7\n",
    "myDistribution = stats.norm(mu, sigma)\n",
    "significanceLevel = 0.05\n",
    "\n",
    "myDistribution.ppf([significanceLevel/2, 1-significanceLevel/2])"
   ]
  },
  {
   "cell_type": "markdown",
   "metadata": {},
   "source": [
    "### t-Verteilung"
   ]
  },
  {
   "cell_type": "code",
   "execution_count": 43,
   "metadata": {},
   "outputs": [
    {
     "name": "stdout",
     "output_type": "stream",
     "text": [
      "mean +/- 99%CI = 68.0 +/- 17.2\n"
     ]
    }
   ],
   "source": [
    "import numpy as np\n",
    "import matplotlib.pyplot as plt\n",
    "from scipy import stats\n",
    "\n",
    "x = [52, 70, 65, 85, 62, 83, 59] # Enter the data\n",
    "\n",
    "# Generate the t-distribution: DOF = length data minus 1.\n",
    "td = stats.t(len(x)-1); alpha = 0.01\n",
    "\n",
    "# From the t-distribution, you use the \"PPF\" function and \n",
    "# multiply it with the standard error\n",
    "tval = abs(td.ppf(alpha/2)*stats.sem(x))\n",
    "print('mean +/- 99%CI = {0:3.1f} +/- {1:3.1f}'.format(np.mean(x),tval))"
   ]
  },
  {
   "cell_type": "markdown",
   "metadata": {},
   "source": [
    "### Chi-Quadratverteilung"
   ]
  },
  {
   "cell_type": "code",
   "execution_count": 44,
   "metadata": {},
   "outputs": [
    {
     "data": {
      "image/png": "[encoded data removed]",
      "text/plain": [
       "<Figure size 432x288 with 1 Axes>"
      ]
     },
     "metadata": {
      "needs_background": "light"
     },
     "output_type": "display_data"
    }
   ],
   "source": [
    "# Define the normal distribution\n",
    "nd = stats.norm()\n",
    "\n",
    "# Generate three sets of random variates from this distribution\n",
    "numData = 1000\n",
    "data1 = nd.rvs(numData)\n",
    "data2 = nd.rvs(numData)\n",
    "data3 = nd.rvs(numData)\n",
    "\n",
    "# Show a histogram of the sum of the squares of \n",
    "# these random data\n",
    "plt.hist(data1**2+data2**2 +data3**2, 100)\n",
    "plt.show()"
   ]
  },
  {
   "cell_type": "markdown",
   "metadata": {},
   "source": [
    "### F-Verteilung"
   ]
  },
  {
   "cell_type": "code",
   "execution_count": 45,
   "metadata": {},
   "outputs": [
    {
     "name": "stdout",
     "output_type": "stream",
     "text": [
      "The p-value of the F-distribution = 0.537640478466751.\n",
      "The variances are equal.\n"
     ]
    }
   ],
   "source": [
    "apples1 = [110, 121, 143]\n",
    "apples2 = [88, 93, 105, 124]\n",
    "\n",
    "fval = np.std(apples1, ddof=1)/np.std(apples2, ddof=1)\n",
    "fd = stats.distributions.f(len(apples1),len(apples2))\n",
    "pval = fd.cdf(fval)\n",
    "\n",
    "print('The p-value of the F-distribution = {0}.'.format(pval))\n",
    "if pval>0.025 and pval<0.975:\n",
    "  print('The variances are equal.')"
   ]
  },
  {
   "cell_type": "markdown",
   "metadata": {},
   "source": [
    "## Normality check"
   ]
  },
  {
   "cell_type": "markdown",
   "metadata": {},
   "source": [
    "### Probability plots"
   ]
  },
  {
   "cell_type": "code",
   "execution_count": 46,
   "metadata": {},
   "outputs": [
    {
     "data": {
      "image/png": "[encoded data removed]",
      "text/plain": [
       "<Figure size 432x288 with 2 Axes>"
      ]
     },
     "metadata": {
      "needs_background": "light"
     },
     "output_type": "display_data"
    }
   ],
   "source": [
    "from scipy import stats\n",
    "import matplotlib.pyplot as plt\n",
    "nsample = 100\n",
    "np.random.seed(7654321)\n",
    "\n",
    "# A t distribution with small degrees of freedom:\n",
    "ax1 = plt.subplot(221)\n",
    "x = stats.t.rvs(3, size=nsample)\n",
    "res = stats.probplot(x, plot=plt)\n",
    "\n",
    "# A t distribution with larger degrees of freedom:\n",
    "ax2 = plt.subplot(222)\n",
    "x = stats.t.rvs(25, size=nsample)\n",
    "res = stats.probplot(x, plot=plt)\n",
    "plt.show()"
   ]
  },
  {
   "cell_type": "markdown",
   "metadata": {},
   "source": [
    "### Tests for Normality"
   ]
  },
  {
   "cell_type": "markdown",
   "metadata": {},
   "source": [
    "#### D'Agostino-Pearson Omnibus-Test"
   ]
  },
  {
   "cell_type": "code",
   "execution_count": 47,
   "metadata": {},
   "outputs": [
    {
     "data": {
      "image/png": "[encoded data removed]",
      "text/plain": [
       "<Figure size 432x288 with 1 Axes>"
      ]
     },
     "metadata": {
      "needs_background": "light"
     },
     "output_type": "display_data"
    },
    {
     "data": {
      "image/png": "[encoded data removed]",
      "text/plain": [
       "<Figure size 432x288 with 1 Axes>"
      ]
     },
     "metadata": {
      "needs_background": "light"
     },
     "output_type": "display_data"
    },
    {
     "name": "stdout",
     "output_type": "stream",
     "text": [
      "NormaltestResult(statistic=0.1805408823000446, pvalue=0.913684054089169)\n",
      "NormaltestResult(statistic=10.794182887834198, pvalue=0.004529736794579303)\n"
     ]
    }
   ],
   "source": [
    "# Import standard packages\n",
    "import numpy as np\n",
    "import matplotlib.pyplot as plt\n",
    "import scipy.stats as stats\n",
    "import pandas as pd\n",
    "\n",
    "# Set the parameters\n",
    "numData = 1000\n",
    "myMean = 0\n",
    "mySD = 3\n",
    "\n",
    "# To get reproducable values, I provide a seed value\n",
    "np.random.seed(1234)   \n",
    "    \n",
    "# Generate and show random data\n",
    "data = stats.norm.rvs(myMean, mySD, size=numData)\n",
    "fewData = data[:100]\n",
    "plt.hist(data)\n",
    "plt.show()\n",
    "\n",
    "# Graphical test: if the data lie on a line, they are pretty much\n",
    "# normally distributed\n",
    "stats.probplot(data, plot=plt)\n",
    "plt.show()\n",
    "\n",
    "# The scipy normaltest is based on D-Agostino and Pearsons test that\n",
    "# combines skew and kurtosis to produce an omnibus test of normality.\n",
    "print(stats.normaltest(data))\n",
    "print(stats.normaltest(fewData))"
   ]
  },
  {
   "cell_type": "markdown",
   "metadata": {},
   "source": [
    "#### Shapiro-Wilk normality test"
   ]
  },
  {
   "cell_type": "code",
   "execution_count": 48,
   "metadata": {},
   "outputs": [
    {
     "name": "stdout",
     "output_type": "stream",
     "text": [
      "(0.9985058903694153, 0.5584741830825806)\n",
      "(0.9742451906204224, 0.0471017062664032)\n"
     ]
    }
   ],
   "source": [
    "# Shapiro-Wilk test\n",
    "print(stats.shapiro(data))\n",
    "print(stats.shapiro(fewData))"
   ]
  },
  {
   "cell_type": "markdown",
   "metadata": {},
   "source": [
    "#### Kolmogorov-Smirnov normality test"
   ]
  },
  {
   "cell_type": "code",
   "execution_count": 49,
   "metadata": {},
   "outputs": [
    {
     "name": "stdout",
     "output_type": "stream",
     "text": [
      "KstestResult(statistic=0.018090443026108516, pvalue=0.8989669136577692)\n",
      "KstestResult(statistic=0.07383212034840342, pvalue=0.6406771608350166)\n"
     ]
    }
   ],
   "source": [
    "# Kolmogorov-Smirnov test\n",
    "print(stats.kstest((data-np.mean(data))/np.std(data,ddof=1), 'norm'))\n",
    "print(stats.kstest((fewData-np.mean(fewData))/np.std(fewData,ddof=1), 'norm'))"
   ]
  },
  {
   "cell_type": "markdown",
   "metadata": {},
   "source": [
    "### Daten-Transformation"
   ]
  },
  {
   "cell_type": "markdown",
   "metadata": {},
   "source": [
    "#### log-Transformation"
   ]
  },
  {
   "cell_type": "code",
   "execution_count": 50,
   "metadata": {},
   "outputs": [
    {
     "data": {
      "text/html": [
       "<div>\n",
       "<style scoped>\n",
       "    .dataframe tbody tr th:only-of-type {\n",
       "        vertical-align: middle;\n",
       "    }\n",
       "\n",
       "    .dataframe tbody tr th {\n",
       "        vertical-align: top;\n",
       "    }\n",
       "\n",
       "    .dataframe thead th {\n",
       "        text-align: right;\n",
       "    }\n",
       "</style>\n",
       "<table border=\"1\" class=\"dataframe\">\n",
       "  <thead>\n",
       "    <tr style=\"text-align: right;\">\n",
       "      <th></th>\n",
       "      <th>log_a</th>\n",
       "      <th>log_b</th>\n",
       "    </tr>\n",
       "  </thead>\n",
       "  <tbody>\n",
       "    <tr>\n",
       "      <th>1</th>\n",
       "      <td>0.000000</td>\n",
       "      <td>1.609438</td>\n",
       "    </tr>\n",
       "    <tr>\n",
       "      <th>2</th>\n",
       "      <td>0.693147</td>\n",
       "      <td>1.791759</td>\n",
       "    </tr>\n",
       "    <tr>\n",
       "      <th>3</th>\n",
       "      <td>1.098612</td>\n",
       "      <td>-1.000000</td>\n",
       "    </tr>\n",
       "    <tr>\n",
       "      <th>4</th>\n",
       "      <td>1.386294</td>\n",
       "      <td>2.079442</td>\n",
       "    </tr>\n",
       "  </tbody>\n",
       "</table>\n",
       "</div>"
      ],
      "text/plain": [
       "      log_a     log_b\n",
       "1  0.000000  1.609438\n",
       "2  0.693147  1.791759\n",
       "3  1.098612 -1.000000\n",
       "4  1.386294  2.079442"
      ]
     },
     "execution_count": 50,
     "metadata": {},
     "output_type": "execute_result"
    }
   ],
   "source": [
    "# example dataframe\n",
    "df = pd.DataFrame({'a': [0, 1, 2, 3], \n",
    "                   'b': [4, 5, np.nan, 7], \n",
    "                   'c': [8, 9, 10, 11]})\n",
    "\n",
    "# apply log(x+1) element-wise to a subset of columns\n",
    "df_log = df[['a', 'b']].applymap(lambda x: np.log(x+1))\n",
    "\n",
    "# rename columns\n",
    "df_log.columns = 'log_' + df_log.columns\n",
    "\n",
    "# shift the index\n",
    "df_log.index = df_log.index + 1\n",
    "\n",
    "# If you want a special treatment for missing values, you can do:\n",
    "df_log[df_log.isnull()] = -1\n",
    "\n",
    "# Print DataFrame\n",
    "df_log"
   ]
  },
  {
   "cell_type": "markdown",
   "metadata": {},
   "source": [
    "### Sample size"
   ]
  },
  {
   "cell_type": "markdown",
   "metadata": {},
   "source": [
    "#### Stichprobengröße bei bekannter Population"
   ]
  },
  {
   "cell_type": "code",
   "execution_count": 51,
   "metadata": {},
   "outputs": [
    {
     "data": {
      "text/plain": [
       "244"
      ]
     },
     "execution_count": 51,
     "metadata": {},
     "output_type": "execute_result"
    }
   ],
   "source": [
    "from scipy import stats\n",
    "import math\n",
    "\n",
    "def sample_size_pop(N, e=0.05, c=0.95, p=0.5, extra=None):\n",
    "  \"\"\"Stichprobengröße bei bekannter Population.\n",
    "     N: Population / Grundgesamtheit\n",
    "     e: Fehlertoleranz\n",
    "     c: Konfidenzniveau\n",
    "     p: geschätzter Anteilswert\n",
    "     extra: Zusatz für fehlenden Rücklauf [0, 1]\n",
    "  \"\"\"\n",
    "  \n",
    "  z = stats.norm.ppf((1 + c) / 2)\n",
    "  frac_n = (z**2 * p*(1-p)) / e**2\n",
    "  frac_d = 1 + ((z**2 * p*(1-p)) / (e**2 * N))\n",
    "  n = frac_n / frac_d\n",
    "  if extra:\n",
    "    n = n + n * extra\n",
    "    # Werte aufrunden\n",
    "  return math.ceil(n)\n",
    "\n",
    "# Beispiel\n",
    "n = 4000\n",
    "sample_size_pop(n, c=0.99, e=0.03, p=0.5, extra=0.05) #out: 1325\n",
    "sample_size_pop(n, c=0.95, e=0.05, p=0.8, extra=0.05) #out: 244"
   ]
  },
  {
   "cell_type": "markdown",
   "metadata": {},
   "source": [
    "#### Stichprobengröße für den Vergleich von zwei bekannten Gruppen"
   ]
  },
  {
   "cell_type": "code",
   "execution_count": 52,
   "metadata": {},
   "outputs": [
    {
     "name": "stdout",
     "output_type": "stream",
     "text": [
      "In order to detect a change of 0.4 between groups with an SD of 0.6 and 0.6,\n",
      "with significance 0.05 and test-power 80.0, \n",
      "           you need in each group at least 35 subjects.\n"
     ]
    },
    {
     "data": {
      "text/plain": [
       "35.0"
      ]
     },
     "execution_count": 52,
     "metadata": {},
     "output_type": "execute_result"
    }
   ],
   "source": [
    "#Calculate the sample size for experiments, for normally distributed groups, for comparing two groups\n",
    "\n",
    "# Import standard packages\n",
    "import numpy as np\n",
    "\n",
    "# additional packages\n",
    "from scipy.stats import norm\n",
    "\n",
    "def sampleSize_twoGroups(D, alpha=0.05, beta=0.2, sigma1=1, sigma2=1):\n",
    "    '''Sample size for two groups. The formula corresponds to Eq 6.4 in the book.'''\n",
    "    \n",
    "    n = np.round((norm.ppf(1-alpha/2.) + norm.ppf(1-beta))**2 * (sigma1**2 + sigma2**2) / D**2)\n",
    "    \n",
    "    print(('In order to detect a change of {0} between groups with an SD of {1} and {2},'.format(D, sigma1, sigma2)))\n",
    "    print(('''with significance {0} and test-power {1}, \n",
    "           you need in each group at least {2:d} subjects.'''.format(alpha, 100*(1-beta), int(n))))\n",
    "    return n\n",
    "\n",
    "sampleSize_twoGroups(0.4, sigma1=0.6, sigma2=0.6)"
   ]
  },
  {
   "cell_type": "markdown",
   "metadata": {},
   "source": [
    "#### Stichprobengröße bei unbekannter Population"
   ]
  },
  {
   "cell_type": "code",
   "execution_count": 53,
   "metadata": {},
   "outputs": [
    {
     "data": {
      "text/plain": [
       "3147"
      ]
     },
     "execution_count": 53,
     "metadata": {},
     "output_type": "execute_result"
    }
   ],
   "source": [
    "from scipy import stats\n",
    "import math\n",
    "def sample_size(e=0.05, c=0.95, p=0.5, extra=None):\n",
    "  \"\"\"\n",
    "  Stichprobengröße, unbekannte Population.\n",
    "  Parameter\n",
    "  ---------\n",
    "    e: Fehlertoleranz\n",
    "    c: Konfidenzniveau\n",
    "    p: geschätzter Anteilswert\n",
    "    extra: Zusatz für fehlenden Rücklauf\n",
    "  Returns\n",
    "  -------\n",
    "    n, sample size -> int\n",
    "  \"\"\"\n",
    "  z = stats.norm.ppf((1 + c) / 2)\n",
    "  n = (z**2 * p * (1-p)) / e**2\n",
    "  if extra:\n",
    "   n = n + n * extra\n",
    "  return math.ceil(n)\n",
    "\n",
    "sample_size(p=0.09, e=0.01, c=0.95) #out: 3147"
   ]
  },
  {
   "cell_type": "markdown",
   "metadata": {},
   "source": [
    "#### Poweranalyse mit statsmodels"
   ]
  },
  {
   "cell_type": "markdown",
   "metadata": {},
   "source": [
    "für eine Gruppe"
   ]
  },
  {
   "cell_type": "code",
   "execution_count": 54,
   "metadata": {},
   "outputs": [
    {
     "name": "stdout",
     "output_type": "stream",
     "text": [
      "33.3671314275208\n"
     ]
    }
   ],
   "source": [
    "from statsmodels.stats import power\n",
    "nobs = power.tt_solve_power(effect_size = 0.5, alpha =0.05, power=0.8)\n",
    "print(nobs)"
   ]
  },
  {
   "cell_type": "markdown",
   "metadata": {},
   "source": [
    "für zwei Gruppen"
   ]
  },
  {
   "cell_type": "code",
   "execution_count": 55,
   "metadata": {},
   "outputs": [
    {
     "name": "stdout",
     "output_type": "stream",
     "text": [
      "63.765611775409525\n"
     ]
    }
   ],
   "source": [
    "nobs = power.tt_ind_solve_power(effect_size = 0.5, alpha =0.05, power=0.8)\n",
    "print(nobs)"
   ]
  },
  {
   "cell_type": "code",
   "execution_count": 56,
   "metadata": {},
   "outputs": [
    {
     "name": "stdout",
     "output_type": "stream",
     "text": [
      "0.8087077886680412\n"
     ]
    }
   ],
   "source": [
    "effect_size = power.tt_ind_solve_power(alpha =0.05, power=0.8, nobs1=25)\n",
    "print(effect_size)"
   ]
  },
  {
   "cell_type": "markdown",
   "metadata": {},
   "source": [
    "## Induktive Statistik"
   ]
  },
  {
   "cell_type": "markdown",
   "metadata": {},
   "source": [
    "### Verteilungs-Tests"
   ]
  },
  {
   "cell_type": "markdown",
   "metadata": {},
   "source": [
    "#### Einstichproben-t-Test"
   ]
  },
  {
   "cell_type": "code",
   "execution_count": 57,
   "metadata": {},
   "outputs": [
    {
     "name": "stdout",
     "output_type": "stream",
     "text": [
      "[-0.68014479 -0.04323899]\n",
      "[0.49961383 0.96568674]\n"
     ]
    }
   ],
   "source": [
    "# One-sample t-Test\n",
    "from scipy import stats\n",
    "\n",
    "np.random.seed(7654567)  # fix seed to get the same result\n",
    "rvs = stats.norm.rvs(loc=5, scale=10, size=(50,2))\n",
    "\n",
    "# Test if mean of random sample is equal to true mean\n",
    "t, pVal = stats.ttest_1samp(rvs,5.0)\n",
    "print(t); print(pVal)"
   ]
  },
  {
   "cell_type": "code",
   "execution_count": 58,
   "metadata": {},
   "outputs": [
    {
     "name": "stdout",
     "output_type": "stream",
     "text": [
      "[2.77025808 4.11038784]\n",
      "[0.00789095 0.00014999]\n"
     ]
    }
   ],
   "source": [
    "# Test if mean of random sample is equal to different mean (0)\n",
    "t, pVal = stats.ttest_1samp(rvs,0.0)\n",
    "print(t); print(pVal)"
   ]
  },
  {
   "cell_type": "markdown",
   "metadata": {},
   "source": [
    "We reject the null hypothesis in the second case and don't reject it in the first case."
   ]
  },
  {
   "cell_type": "markdown",
   "metadata": {},
   "source": [
    "#### Wilcoxon-Vorzeichen-Rang-Test"
   ]
  },
  {
   "cell_type": "code",
   "execution_count": 59,
   "metadata": {},
   "outputs": [
    {
     "name": "stdout",
     "output_type": "stream",
     "text": [
      "23.0\n",
      "0.11585149752593009\n"
     ]
    }
   ],
   "source": [
    "# Wilcoxon Signed Rank Sum test\n",
    "d = [6, 8, 14, 16, 23, 24, 28, 29, 41, -48, 49, 56, -60]\n",
    "rank, pVal = stats.wilcoxon(d)\n",
    "print(rank); print(pVal)"
   ]
  },
  {
   "cell_type": "markdown",
   "metadata": {},
   "source": [
    "### Vergleich von zwei abhängigen Verteilungen"
   ]
  },
  {
   "cell_type": "markdown",
   "metadata": {},
   "source": [
    "#### (gepaarter t-Test)"
   ]
  },
  {
   "cell_type": "code",
   "execution_count": 60,
   "metadata": {},
   "outputs": [
    {
     "name": "stdout",
     "output_type": "stream",
     "text": [
      "Ttest_relResult(statistic=-0.1245849229873135, pvalue=0.9035904508547089)\n",
      "Ttest_1sampResult(statistic=-0.12458492298731401, pvalue=0.9035904508547086)\n"
     ]
    }
   ],
   "source": [
    "# paired t-test\n",
    "\n",
    "import numpy as np\n",
    "from scipy import stats\n",
    "\n",
    "np.random.seed(1234)\n",
    "data = np.random.randn(10)+0.1\n",
    "data1 = np.random.randn(10)*5 # dummy data\n",
    "data2 = data1 + data\n",
    "\n",
    "# paired t-test\n",
    "print(stats.ttest_rel(data2, data1))\n",
    "# same group-difference as \"data\"\n",
    "\n",
    "# one-sample t-test on data\n",
    "print(stats.ttest_1samp(data, 0))"
   ]
  },
  {
   "cell_type": "markdown",
   "metadata": {},
   "source": [
    "### Vergleich von zwei unabhängigen Verteilungen"
   ]
  },
  {
   "cell_type": "markdown",
   "metadata": {},
   "source": [
    "#### Zweistichproben-t-Test (ungepaart)"
   ]
  },
  {
   "cell_type": "code",
   "execution_count": 61,
   "metadata": {},
   "outputs": [
    {
     "data": {
      "text/plain": [
       "Ttest_indResult(statistic=0.37253970303059, pvalue=0.7095701552042009)"
      ]
     },
     "execution_count": 61,
     "metadata": {},
     "output_type": "execute_result"
    }
   ],
   "source": [
    "# two-sample t-Test\n",
    "rvs1 = stats.norm.rvs(loc=5,scale=10,size=500)\n",
    "rvs2 = stats.norm.rvs(loc=5,scale=10,size=500)\n",
    "\n",
    "stats.ttest_ind(rvs1,rvs2)"
   ]
  },
  {
   "cell_type": "code",
   "execution_count": 62,
   "metadata": {},
   "outputs": [
    {
     "data": {
      "text/plain": [
       "Ttest_indResult(statistic=-0.3985984494918709, pvalue=0.6903088057124194)"
      ]
     },
     "execution_count": 62,
     "metadata": {},
     "output_type": "execute_result"
    }
   ],
   "source": [
    "# `ttest_ind` underestimates p for unequal variances:\n",
    "\n",
    "rvs3 = stats.norm.rvs(loc=5, scale=20, size=500)\n",
    "stats.ttest_ind(rvs1, rvs3, equal_var = False)"
   ]
  },
  {
   "cell_type": "code",
   "execution_count": 63,
   "metadata": {},
   "outputs": [
    {
     "name": "stdout",
     "output_type": "stream",
     "text": [
      "Ttest_indResult(statistic=-1.8714304469876069, pvalue=0.06177345109934761)\n",
      "Ttest_indResult(statistic=-1.181542065426572, pvalue=0.23998895128328585)\n"
     ]
    }
   ],
   "source": [
    "# When n1 != n2, the equal variance t-statistic is no longer equal to the\n",
    "# unequal variance t-statistic:\n",
    "\n",
    "rvs4 = stats.norm.rvs(loc=5, scale=20, size=100)\n",
    "print(stats.ttest_ind(rvs1, rvs4))\n",
    "print(stats.ttest_ind(rvs1, rvs4, equal_var = False))"
   ]
  },
  {
   "cell_type": "code",
   "execution_count": 64,
   "metadata": {},
   "outputs": [
    {
     "data": {
      "text/plain": [
       "Ttest_indResult(statistic=-2.0228467894259325, pvalue=0.04353343278712891)"
      ]
     },
     "execution_count": 64,
     "metadata": {},
     "output_type": "execute_result"
    }
   ],
   "source": [
    "# T-test with different means, variance, and n:\n",
    "\n",
    "rvs5 = stats.norm.rvs(loc=8, scale=20, size=100)\n",
    "stats.ttest_ind(rvs1, rvs5)"
   ]
  },
  {
   "cell_type": "markdown",
   "metadata": {},
   "source": [
    "#### Non-parametrischer Vergleich von zwei Gruppen\n",
    "\n",
    "Mann-Whitney test"
   ]
  },
  {
   "cell_type": "code",
   "execution_count": 65,
   "metadata": {},
   "outputs": [
    {
     "name": "stdout",
     "output_type": "stream",
     "text": [
      "0.013880800754602955\n"
     ]
    }
   ],
   "source": [
    "# Mann-Whitney test\n",
    "import numpy as np\n",
    "import scipy.stats as stats\n",
    "\n",
    "# Create two groups of data\n",
    "group1 = [1, 5 ,7 ,3 ,5 ,8 ,34 ,1 ,3 ,5 ,200, 3]\n",
    "group2 = [10, 18, 11, 12, 15, 19, 9, 17, 1, 22, 9, 8]\n",
    "\n",
    "# Calculate u and probability of a difference\n",
    "u_statistic, pVal = stats.mannwhitneyu(group1, group2)\n",
    "\n",
    "# Print p-Value\n",
    "print (pVal)"
   ]
  },
  {
   "cell_type": "markdown",
   "metadata": {},
   "source": [
    "### Vergleich von mehreren Gruppen"
   ]
  },
  {
   "cell_type": "markdown",
   "metadata": {},
   "source": [
    "#### ANOVA"
   ]
  },
  {
   "cell_type": "code",
   "execution_count": 66,
   "metadata": {},
   "outputs": [
    {
     "data": {
      "text/plain": [
       "F_onewayResult(statistic=7.121019471642447, pvalue=0.0002812242314534544)"
      ]
     },
     "execution_count": 66,
     "metadata": {},
     "output_type": "execute_result"
    }
   ],
   "source": [
    "# 1-way ANOVA\n",
    "import scipy.stats as stats\n",
    "\n",
    "# Here are some data on a shell measurement (the length of the anterior adductor muscle scar, standardized by dividing by length) in the mussel\n",
    "# Mytilus trossulus from five locations: Tillamook, Oregon; Newport, Oregon; Petersburg, Alaska; Magadan, Russia; and Tvarminne, Finland, taken from a \n",
    "# much larger data set used in McDonald et al. (1991).\n",
    "\n",
    "tillamook = [0.0571, 0.0813, 0.0831, 0.0976, 0.0817, 0.0859, 0.0735, 0.0659, 0.0923, 0.0836]\n",
    "newport = [0.0873, 0.0662, 0.0672, 0.0819, 0.0749, 0.0649, 0.0835, 0.0725]\n",
    "petersburg = [0.0974, 0.1352, 0.0817, 0.1016, 0.0968, 0.1064, 0.105]\n",
    "magadan = [0.1033, 0.0915, 0.0781, 0.0685, 0.0677, 0.0697, 0.0764, 0.0689]\n",
    "tvarminne = [0.0703, 0.1026, 0.0956, 0.0973, 0.1039, 0.1045]\n",
    "\n",
    "stats.f_oneway(tillamook, newport, petersburg, magadan, tvarminne)"
   ]
  },
  {
   "cell_type": "code",
   "execution_count": 67,
   "metadata": {},
   "outputs": [
    {
     "name": "stdout",
     "output_type": "stream",
     "text": [
      "               df     sum_sq    mean_sq           F        PR(>F)\n",
      "C(species)    2.0  63.212133  31.606067  119.264502  1.669669e-31\n",
      "Residual    147.0  38.956200   0.265008         NaN           NaN\n"
     ]
    }
   ],
   "source": [
    "# Varianz Analyse (ANOVA)\n",
    "\n",
    "# Import libraries\n",
    "import pandas as pd\n",
    "import seaborn as sns\n",
    "import statsmodels.api as sm\n",
    "from statsmodels.formula.api import ols\n",
    "\n",
    "# Load data\n",
    "iris = sns.load_dataset(\"iris\")\n",
    "\n",
    "# Perform ANOVA\n",
    "model = ols('sepal_length ~ C(species)', iris).fit()\n",
    "anovaResults = sm.stats.anova_lm(model)\n",
    "print(anovaResults)"
   ]
  },
  {
   "cell_type": "markdown",
   "metadata": {},
   "source": [
    "#### Post-Hoc Analyse"
   ]
  },
  {
   "cell_type": "markdown",
   "metadata": {},
   "source": [
    "Tukey HSD"
   ]
  },
  {
   "cell_type": "code",
   "execution_count": 68,
   "metadata": {},
   "outputs": [
    {
     "name": "stdout",
     "output_type": "stream",
     "text": [
      " Multiple Comparison of Means - Tukey HSD,FWER=0.05\n",
      "===================================================\n",
      "  group1     group2   meandiff lower  upper  reject\n",
      "---------------------------------------------------\n",
      "  setosa   versicolor   0.93   0.6862 1.1738  True \n",
      "  setosa   virginica   1.582   1.3382 1.8258  True \n",
      "versicolor virginica   0.652   0.4082 0.8958  True \n",
      "---------------------------------------------------\n"
     ]
    }
   ],
   "source": [
    "# Tukey HSD test\n",
    "from statsmodels.stats.multicomp import pairwise_tukeyhsd\n",
    "res2 = pairwise_tukeyhsd(iris['sepal_length'], iris['species'])\n",
    "print(res2)"
   ]
  },
  {
   "cell_type": "code",
   "execution_count": 69,
   "metadata": {},
   "outputs": [
    {
     "name": "stdout",
     "output_type": "stream",
     "text": [
      " Multiple Comparison of Means - Tukey HSD,FWER=0.05\n",
      "===================================================\n",
      "  group1     group2   meandiff lower  upper  reject\n",
      "---------------------------------------------------\n",
      "  setosa   versicolor   0.93   0.6862 1.1738  True \n",
      "  setosa   virginica   1.582   1.3382 1.8258  True \n",
      "versicolor virginica   0.652   0.4082 0.8958  True \n",
      "---------------------------------------------------\n"
     ]
    }
   ],
   "source": [
    "# Load multicomparison\n",
    "from statsmodels.stats.multicomp import MultiComparison\n",
    "\n",
    "# Compare models\n",
    "mod = MultiComparison(iris['sepal_length'], iris['species'])\n",
    "\n",
    "# Run TukeyHSD\n",
    "print(mod.tukeyhsd())"
   ]
  },
  {
   "cell_type": "markdown",
   "metadata": {},
   "source": [
    "From the result, we see that we cannot reject the hypothesis that any of the groups have the same mean."
   ]
  },
  {
   "cell_type": "markdown",
   "metadata": {},
   "source": [
    "Bonferroni Korrektur"
   ]
  },
  {
   "cell_type": "code",
   "execution_count": 70,
   "metadata": {},
   "outputs": [
    {
     "name": "stdout",
     "output_type": "stream",
     "text": [
      "Test Multiple Comparison ttest_rel \n",
      "FWER=0.05 method=b\n",
      "alphacSidak=0.02, alphacBonf=0.017\n",
      "====================================================\n",
      "  group1     group2     stat   pval pval_corr reject\n",
      "----------------------------------------------------\n",
      "  setosa   versicolor -10.1459 0.0     0.0     True \n",
      "  setosa   virginica  -16.3441 0.0     0.0     True \n",
      "versicolor virginica  -5.2753  0.0     0.0     True \n",
      "----------------------------------------------------\n"
     ]
    }
   ],
   "source": [
    "# Compare models, same as above\n",
    "mod = MultiComparison(iris['sepal_length'], iris['species'])\n",
    "\n",
    "# Bonferroni Correction\n",
    "rtp = mod.allpairtest(stats.ttest_rel, method='b')\n",
    "print(rtp[0])"
   ]
  },
  {
   "cell_type": "markdown",
   "metadata": {},
   "source": [
    "Holm Korrektur"
   ]
  },
  {
   "cell_type": "code",
   "execution_count": 71,
   "metadata": {},
   "outputs": [
    {
     "name": "stdout",
     "output_type": "stream",
     "text": [
      "Test Multiple Comparison ttest_rel \n",
      "FWER=0.05 method=Holm\n",
      "alphacSidak=0.02, alphacBonf=0.017\n",
      "====================================================\n",
      "  group1     group2     stat   pval pval_corr reject\n",
      "----------------------------------------------------\n",
      "  setosa   versicolor -10.1459 0.0     0.0     True \n",
      "  setosa   virginica  -16.3441 0.0     0.0     True \n",
      "versicolor virginica  -5.2753  0.0     0.0     True \n",
      "----------------------------------------------------\n"
     ]
    }
   ],
   "source": [
    "# Compare models, same as above\n",
    "mod = MultiComparison(iris['sepal_length'], iris['species'])\n",
    "\n",
    "# Holm correction\n",
    "rtp = mod.allpairtest(stats.ttest_rel, method='Holm')\n",
    "print(rtp[0])"
   ]
  },
  {
   "cell_type": "markdown",
   "metadata": {},
   "source": [
    "### Nicht-parametrischer Vergleich von mehreren Gruppen"
   ]
  },
  {
   "cell_type": "markdown",
   "metadata": {},
   "source": [
    "#### Kurskal-Wallis Test"
   ]
  },
  {
   "cell_type": "code",
   "execution_count": 72,
   "metadata": {},
   "outputs": [
    {
     "data": {
      "text/plain": [
       "KruskalResult(statistic=7.0, pvalue=0.0301973834223185)"
      ]
     },
     "execution_count": 72,
     "metadata": {},
     "output_type": "execute_result"
    }
   ],
   "source": [
    "# Load stats library\n",
    "from scipy import stats\n",
    "\n",
    "# Create dummy data\n",
    "x = [1, 1, 1]\n",
    "y = [2, 2, 2]\n",
    "z = [2, 2]\n",
    "\n",
    "# Perform Kruskal-Wallis test\n",
    "stats.kruskal(x, y, z)"
   ]
  },
  {
   "cell_type": "markdown",
   "metadata": {},
   "source": [
    "### Vergleich von mehreren Faktoren"
   ]
  },
  {
   "cell_type": "code",
   "execution_count": 73,
   "metadata": {},
   "outputs": [],
   "source": [
    "# Two-way ANOVA\n",
    "\n",
    "# Load libraries\n",
    "import seaborn as sns\n",
    "import pandas as pd\n",
    "from statsmodels.formula.api import ols\n",
    "from statsmodels.stats.anova import anova_lm\n",
    "\n",
    "# Load data\n",
    "titanic = sns.load_dataset(\"titanic\")\n",
    "titanic.head()\n",
    "\n",
    "# Determine the ANOVA with interaction\n",
    "formula = 'age ~ C(sex) + C(pclass) + C(pclass):C(sex)'\n",
    "lm = ols(formula, titanic).fit()\n",
    "anovaResults = anova_lm(lm)\n",
    "\n",
    "#print(anovaResults)"
   ]
  },
  {
   "cell_type": "code",
   "execution_count": 74,
   "metadata": {},
   "outputs": [
    {
     "data": {
      "image/png": "[encoded data removed]",
      "text/plain": [
       "<Figure size 622.225x360 with 2 Axes>"
      ]
     },
     "metadata": {},
     "output_type": "display_data"
    }
   ],
   "source": [
    "# Three-way ANOVA (just visual)\n",
    "\n",
    "import matplotlib.pyplot as plt\n",
    "import seaborn as sns\n",
    "sns.set(style=\"whitegrid\")\n",
    "df = sns.load_dataset(\"exercise\")\n",
    "\n",
    "sns.catplot(\"time\", \"pulse\", hue=\"kind\", \n",
    "               col=\"diet\", data=df, \n",
    "               hue_order=[\"rest\", \"walking\", \"running\"], \n",
    "               palette=\"YlGnBu_d\", \n",
    "               aspect=.75).despine(left=True)\n",
    "plt.show()"
   ]
  },
  {
   "cell_type": "markdown",
   "metadata": {},
   "source": [
    "## Tests an Kategorischen Daten"
   ]
  },
  {
   "cell_type": "markdown",
   "metadata": {},
   "source": [
    "### One-Way Chi-Square test"
   ]
  },
  {
   "cell_type": "code",
   "execution_count": 75,
   "metadata": {},
   "outputs": [
    {
     "name": "stdout",
     "output_type": "stream",
     "text": [
      "0.5724067044708798\n"
     ]
    }
   ],
   "source": [
    "import pandas as pd\n",
    "df = pd.DataFrame({\"name\":[\"You\", \"Peter\", \"Hans\", \"Paul\"], \n",
    "                   \"dishes\":[10, 7, 6, 5]})\n",
    "\n",
    "from scipy import stats\n",
    "V, p = stats.chisquare(df[\"dishes\"])\n",
    "print(p) # 0.5724067044708798"
   ]
  },
  {
   "cell_type": "markdown",
   "metadata": {},
   "source": [
    "### Chi-Quadrat-Kontingenztest"
   ]
  },
  {
   "cell_type": "code",
   "execution_count": 76,
   "metadata": {},
   "outputs": [
    {
     "name": "stdout",
     "output_type": "stream",
     "text": [
      "0.300384770390566\n"
     ]
    }
   ],
   "source": [
    "data = np.array([[43,9], [44,4]])\n",
    "V, p, dof, expected = stats.chi2_contingency(data)\n",
    "print(p) # 0.300384770391"
   ]
  },
  {
   "cell_type": "markdown",
   "metadata": {},
   "source": [
    "### Fishers exact Test"
   ]
  },
  {
   "cell_type": "code",
   "execution_count": 77,
   "metadata": {},
   "outputs": [
    {
     "data": {
      "text/plain": [
       "0.23915695682224306"
      ]
     },
     "execution_count": 77,
     "metadata": {},
     "output_type": "execute_result"
    }
   ],
   "source": [
    "import scipy.stats as stats\n",
    "oddsratio, pvalue = stats.fisher_exact(data)\n",
    "pvalue # 0.23915695682"
   ]
  },
  {
   "cell_type": "markdown",
   "metadata": {},
   "source": [
    "## Übung II"
   ]
  },
  {
   "cell_type": "markdown",
   "metadata": {},
   "source": [
    "Lade den Datensatz **schoko.csv** in Python"
   ]
  },
  {
   "cell_type": "code",
   "execution_count": 78,
   "metadata": {},
   "outputs": [
    {
     "data": {
      "text/html": [
       "<div>\n",
       "<style scoped>\n",
       "    .dataframe tbody tr th:only-of-type {\n",
       "        vertical-align: middle;\n",
       "    }\n",
       "\n",
       "    .dataframe tbody tr th {\n",
       "        vertical-align: top;\n",
       "    }\n",
       "\n",
       "    .dataframe thead th {\n",
       "        text-align: right;\n",
       "    }\n",
       "</style>\n",
       "<table border=\"1\" class=\"dataframe\">\n",
       "  <thead>\n",
       "    <tr style=\"text-align: right;\">\n",
       "      <th></th>\n",
       "      <th>me</th>\n",
       "      <th>Marke</th>\n",
       "      <th>Einkaufsort</th>\n",
       "      <th>Preis</th>\n",
       "      <th>Kategorie</th>\n",
       "      <th>Bio</th>\n",
       "      <th>Fair</th>\n",
       "      <th>crisp</th>\n",
       "      <th>nuss</th>\n",
       "      <th>traube</th>\n",
       "      <th>rum</th>\n",
       "      <th>chili</th>\n",
       "      <th>echte.vanille</th>\n",
       "      <th>cocos</th>\n",
       "      <th>Kakaogehalt</th>\n",
       "      <th>Gewicht</th>\n",
       "      <th>Anzahl.der.Inhaltsstoffe</th>\n",
       "      <th>Nussanteil</th>\n",
       "      <th>Crisps</th>\n",
       "      <th>Verfallsdatum</th>\n",
       "    </tr>\n",
       "  </thead>\n",
       "  <tbody>\n",
       "    <tr>\n",
       "      <th>0</th>\n",
       "      <td>Choceur Weisse Crisp</td>\n",
       "      <td>Choceur</td>\n",
       "      <td>Aldi</td>\n",
       "      <td>99</td>\n",
       "      <td>weiss</td>\n",
       "      <td>nein</td>\n",
       "      <td>nein</td>\n",
       "      <td>1</td>\n",
       "      <td>0</td>\n",
       "      <td>0</td>\n",
       "      <td>0</td>\n",
       "      <td>0</td>\n",
       "      <td>0</td>\n",
       "      <td>0</td>\n",
       "      <td>28.0</td>\n",
       "      <td>200</td>\n",
       "      <td>15</td>\n",
       "      <td>12.0</td>\n",
       "      <td>6</td>\n",
       "      <td>5.0</td>\n",
       "    </tr>\n",
       "    <tr>\n",
       "      <th>1</th>\n",
       "      <td>Choceur Alpenvollmilch</td>\n",
       "      <td>Choceur</td>\n",
       "      <td>Aldi</td>\n",
       "      <td>35</td>\n",
       "      <td>vollmilch</td>\n",
       "      <td>nein</td>\n",
       "      <td>nein</td>\n",
       "      <td>0</td>\n",
       "      <td>0</td>\n",
       "      <td>0</td>\n",
       "      <td>0</td>\n",
       "      <td>0</td>\n",
       "      <td>0</td>\n",
       "      <td>0</td>\n",
       "      <td>30.0</td>\n",
       "      <td>100</td>\n",
       "      <td>10</td>\n",
       "      <td>0.0</td>\n",
       "      <td>0</td>\n",
       "      <td>9.0</td>\n",
       "    </tr>\n",
       "    <tr>\n",
       "      <th>2</th>\n",
       "      <td>Choceur Haselnuss</td>\n",
       "      <td>Choceur</td>\n",
       "      <td>Aldi</td>\n",
       "      <td>35</td>\n",
       "      <td>vollmilch</td>\n",
       "      <td>nein</td>\n",
       "      <td>nein</td>\n",
       "      <td>0</td>\n",
       "      <td>1</td>\n",
       "      <td>0</td>\n",
       "      <td>0</td>\n",
       "      <td>0</td>\n",
       "      <td>0</td>\n",
       "      <td>0</td>\n",
       "      <td>30.0</td>\n",
       "      <td>100</td>\n",
       "      <td>10</td>\n",
       "      <td>12.0</td>\n",
       "      <td>0</td>\n",
       "      <td>9.0</td>\n",
       "    </tr>\n",
       "    <tr>\n",
       "      <th>3</th>\n",
       "      <td>Nusskcker</td>\n",
       "      <td>Nusskcker</td>\n",
       "      <td>Aldi</td>\n",
       "      <td>55</td>\n",
       "      <td>vollmilch</td>\n",
       "      <td>nein</td>\n",
       "      <td>nein</td>\n",
       "      <td>0</td>\n",
       "      <td>1</td>\n",
       "      <td>0</td>\n",
       "      <td>0</td>\n",
       "      <td>0</td>\n",
       "      <td>0</td>\n",
       "      <td>0</td>\n",
       "      <td>32.0</td>\n",
       "      <td>100</td>\n",
       "      <td>9</td>\n",
       "      <td>25.0</td>\n",
       "      <td>0</td>\n",
       "      <td>6.0</td>\n",
       "    </tr>\n",
       "    <tr>\n",
       "      <th>4</th>\n",
       "      <td>Happy Halloween</td>\n",
       "      <td>Meybo</td>\n",
       "      <td>Bio Bio</td>\n",
       "      <td>199</td>\n",
       "      <td>vollmilch</td>\n",
       "      <td>ja</td>\n",
       "      <td>nein</td>\n",
       "      <td>0</td>\n",
       "      <td>0</td>\n",
       "      <td>0</td>\n",
       "      <td>0</td>\n",
       "      <td>0</td>\n",
       "      <td>1</td>\n",
       "      <td>0</td>\n",
       "      <td>35.0</td>\n",
       "      <td>100</td>\n",
       "      <td>6</td>\n",
       "      <td>0.0</td>\n",
       "      <td>0</td>\n",
       "      <td>15.0</td>\n",
       "    </tr>\n",
       "  </tbody>\n",
       "</table>\n",
       "</div>"
      ],
      "text/plain": [
       "                       me      Marke Einkaufsort  Preis  Kategorie   Bio  \\\n",
       "0    Choceur Weisse Crisp    Choceur        Aldi     99      weiss  nein   \n",
       "1  Choceur Alpenvollmilch    Choceur        Aldi     35  vollmilch  nein   \n",
       "2       Choceur Haselnuss    Choceur        Aldi     35  vollmilch  nein   \n",
       "3               Nusskcker  Nusskcker        Aldi     55  vollmilch  nein   \n",
       "4         Happy Halloween      Meybo     Bio Bio    199  vollmilch    ja   \n",
       "\n",
       "   Fair  crisp  nuss  traube  rum  chili  echte.vanille  cocos  Kakaogehalt  \\\n",
       "0  nein      1     0       0    0      0              0      0         28.0   \n",
       "1  nein      0     0       0    0      0              0      0         30.0   \n",
       "2  nein      0     1       0    0      0              0      0         30.0   \n",
       "3  nein      0     1       0    0      0              0      0         32.0   \n",
       "4  nein      0     0       0    0      0              1      0         35.0   \n",
       "\n",
       "   Gewicht  Anzahl.der.Inhaltsstoffe  Nussanteil  Crisps  Verfallsdatum  \n",
       "0      200                        15        12.0       6            5.0  \n",
       "1      100                        10         0.0       0            9.0  \n",
       "2      100                        10        12.0       0            9.0  \n",
       "3      100                         9        25.0       0            6.0  \n",
       "4      100                         6         0.0       0           15.0  "
      ]
     },
     "execution_count": 78,
     "metadata": {},
     "output_type": "execute_result"
    }
   ],
   "source": [
    "import pandas as pd\n",
    "\n",
    "# Load your dataset\n",
    "schoko = pd.read_csv(\"/home/matt/Documents/Github/pyStats/data/schoko.csv\")\n",
    "schoko.head()"
   ]
  },
  {
   "cell_type": "markdown",
   "metadata": {},
   "source": [
    "Prüfe ob der Preis von Schokolade normalverteilt ist (visuell und statistisch)"
   ]
  },
  {
   "cell_type": "code",
   "execution_count": 79,
   "metadata": {},
   "outputs": [
    {
     "data": {
      "image/png": "[encoded data removed]",
      "text/plain": [
       "<Figure size 432x288 with 1 Axes>"
      ]
     },
     "metadata": {},
     "output_type": "display_data"
    },
    {
     "data": {
      "image/png": "[encoded data removed]",
      "text/plain": [
       "<Figure size 432x288 with 1 Axes>"
      ]
     },
     "metadata": {},
     "output_type": "display_data"
    }
   ],
   "source": [
    "from scipy import stats\n",
    "import matplotlib.pyplot as plt\n",
    "\n",
    "plt.hist(schoko[\"Preis\"])\n",
    "plt.show()\n",
    "\n",
    "stats.probplot(schoko[\"Preis\"], plot=plt)\n",
    "plt.show()"
   ]
  },
  {
   "cell_type": "code",
   "execution_count": 80,
   "metadata": {},
   "outputs": [
    {
     "name": "stdout",
     "output_type": "stream",
     "text": [
      "(0.9231991171836853, 0.0010341410525143147)\n"
     ]
    }
   ],
   "source": [
    "# Shapiro-Wilk test\n",
    "print(stats.shapiro(schoko[\"Preis\"]))"
   ]
  },
  {
   "cell_type": "markdown",
   "metadata": {},
   "source": [
    "Prüfe ob Bio-Schokolade signifikant teurer/billiger als normale Schokolade ist"
   ]
  },
  {
   "cell_type": "code",
   "execution_count": 81,
   "metadata": {},
   "outputs": [
    {
     "name": "stdout",
     "output_type": "stream",
     "text": [
      "2.1262781683610106e-08\n"
     ]
    },
    {
     "data": {
      "image/png": "[encoded data removed]",
      "text/plain": [
       "<Figure size 432x288 with 1 Axes>"
      ]
     },
     "metadata": {},
     "output_type": "display_data"
    }
   ],
   "source": [
    "# Mann-Whitney test\n",
    "import seaborn as sns\n",
    "\n",
    "group1 = schoko[(schoko.Bio == \"ja\")]\n",
    "group2 = schoko[(schoko.Bio == \"nein\")]\n",
    "\n",
    "sns.violinplot(x=\"Bio\", y=\"Preis\", data=schoko)\n",
    "\n",
    "# Calculate u and probability of a difference\n",
    "u_statistic, pVal = stats.mannwhitneyu(group1[\"Preis\"], group2[\"Preis\"])\n",
    "\n",
    "# Print p-Value\n",
    "print(pVal)"
   ]
  },
  {
   "cell_type": "markdown",
   "metadata": {},
   "source": [
    "Prüfe ob der Schokoladen-Preis von der Kategorie abhängig ist"
   ]
  },
  {
   "cell_type": "code",
   "execution_count": 82,
   "metadata": {},
   "outputs": [
    {
     "data": {
      "text/plain": [
       "KruskalResult(statistic=4.0335955677598365, pvalue=0.2578591925608929)"
      ]
     },
     "execution_count": 82,
     "metadata": {},
     "output_type": "execute_result"
    },
    {
     "data": {
      "image/png": "[encoded data removed]",
      "text/plain": [
       "<Figure size 432x288 with 1 Axes>"
      ]
     },
     "metadata": {},
     "output_type": "display_data"
    }
   ],
   "source": [
    "# Load stats library\n",
    "from scipy import stats\n",
    "\n",
    "# Create dummy data\n",
    "group1 = schoko[(schoko.Kategorie == \"weiss\")]\n",
    "group2 = schoko[(schoko.Kategorie == \"vollmilch\")]\n",
    "group3 = schoko[(schoko.Kategorie == \"bitter\")]\n",
    "group4 = schoko[(schoko.Kategorie == \"reismilch\")]\n",
    "\n",
    "sns.violinplot(x=\"Kategorie\", y=\"Preis\", data=schoko)\n",
    "\n",
    "# Perform Kruskal-Wallis test\n",
    "stats.kruskal(group1.Preis, group2.Preis, group3.Preis, group4.Preis)"
   ]
  },
  {
   "cell_type": "markdown",
   "metadata": {},
   "source": [
    "Erstelle eine Kontingenztabelle mit Bio & Fair und prüft ob es möglich ist, dass die Verteilung durch Zufall zustande kam"
   ]
  },
  {
   "cell_type": "code",
   "execution_count": 83,
   "metadata": {},
   "outputs": [
    {
     "data": {
      "text/html": [
       "<div>\n",
       "<style scoped>\n",
       "    .dataframe tbody tr th:only-of-type {\n",
       "        vertical-align: middle;\n",
       "    }\n",
       "\n",
       "    .dataframe tbody tr th {\n",
       "        vertical-align: top;\n",
       "    }\n",
       "\n",
       "    .dataframe thead th {\n",
       "        text-align: right;\n",
       "    }\n",
       "</style>\n",
       "<table border=\"1\" class=\"dataframe\">\n",
       "  <thead>\n",
       "    <tr style=\"text-align: right;\">\n",
       "      <th>Fair</th>\n",
       "      <th>ja</th>\n",
       "      <th>nein</th>\n",
       "      <th>All</th>\n",
       "    </tr>\n",
       "    <tr>\n",
       "      <th>Bio</th>\n",
       "      <th></th>\n",
       "      <th></th>\n",
       "      <th></th>\n",
       "    </tr>\n",
       "  </thead>\n",
       "  <tbody>\n",
       "    <tr>\n",
       "      <th>ja</th>\n",
       "      <td>4</td>\n",
       "      <td>18</td>\n",
       "      <td>22</td>\n",
       "    </tr>\n",
       "    <tr>\n",
       "      <th>nein</th>\n",
       "      <td>0</td>\n",
       "      <td>38</td>\n",
       "      <td>38</td>\n",
       "    </tr>\n",
       "    <tr>\n",
       "      <th>All</th>\n",
       "      <td>4</td>\n",
       "      <td>56</td>\n",
       "      <td>60</td>\n",
       "    </tr>\n",
       "  </tbody>\n",
       "</table>\n",
       "</div>"
      ],
      "text/plain": [
       "Fair  ja  nein  All\n",
       "Bio                \n",
       "ja     4    18   22\n",
       "nein   0    38   38\n",
       "All    4    56   60"
      ]
     },
     "execution_count": 83,
     "metadata": {},
     "output_type": "execute_result"
    }
   ],
   "source": [
    "# Import library\n",
    "import pandas as pd\n",
    "\n",
    "# Create crosstab\n",
    "schoko_tab = pd.crosstab(schoko[\"Bio\"], schoko[\"Fair\"], margins=True)\n",
    "schoko_tab"
   ]
  },
  {
   "cell_type": "code",
   "execution_count": 84,
   "metadata": {},
   "outputs": [
    {
     "data": {
      "text/html": [
       "<div>\n",
       "<style scoped>\n",
       "    .dataframe tbody tr th:only-of-type {\n",
       "        vertical-align: middle;\n",
       "    }\n",
       "\n",
       "    .dataframe tbody tr th {\n",
       "        vertical-align: top;\n",
       "    }\n",
       "\n",
       "    .dataframe thead th {\n",
       "        text-align: right;\n",
       "    }\n",
       "</style>\n",
       "<table border=\"1\" class=\"dataframe\">\n",
       "  <thead>\n",
       "    <tr style=\"text-align: right;\">\n",
       "      <th>Fair</th>\n",
       "      <th>ja</th>\n",
       "      <th>nein</th>\n",
       "      <th>All</th>\n",
       "    </tr>\n",
       "    <tr>\n",
       "      <th>Bio</th>\n",
       "      <th></th>\n",
       "      <th></th>\n",
       "      <th></th>\n",
       "    </tr>\n",
       "  </thead>\n",
       "  <tbody>\n",
       "    <tr>\n",
       "      <th>ja</th>\n",
       "      <td>0.181818</td>\n",
       "      <td>0.818182</td>\n",
       "      <td>1.0</td>\n",
       "    </tr>\n",
       "    <tr>\n",
       "      <th>nein</th>\n",
       "      <td>0.000000</td>\n",
       "      <td>1.000000</td>\n",
       "      <td>1.0</td>\n",
       "    </tr>\n",
       "    <tr>\n",
       "      <th>All</th>\n",
       "      <td>0.066667</td>\n",
       "      <td>0.933333</td>\n",
       "      <td>1.0</td>\n",
       "    </tr>\n",
       "  </tbody>\n",
       "</table>\n",
       "</div>"
      ],
      "text/plain": [
       "Fair        ja      nein  All\n",
       "Bio                          \n",
       "ja    0.181818  0.818182  1.0\n",
       "nein  0.000000  1.000000  1.0\n",
       "All   0.066667  0.933333  1.0"
      ]
     },
     "execution_count": 84,
     "metadata": {},
     "output_type": "execute_result"
    }
   ],
   "source": [
    "def percConvert(ser): return ser/float(ser[-1])\n",
    "\n",
    "pd.crosstab(schoko[\"Bio\"], schoko[\"Fair\"], margins=True).apply(percConvert, axis=1)"
   ]
  },
  {
   "cell_type": "code",
   "execution_count": 85,
   "metadata": {},
   "outputs": [
    {
     "data": {
      "text/plain": [
       "0.01500097408922652"
      ]
     },
     "execution_count": 85,
     "metadata": {},
     "output_type": "execute_result"
    }
   ],
   "source": [
    "import scipy.stats as stats\n",
    "oddsratio, pvalue = stats.fisher_exact(schoko_tab.iloc[0:2,0:2])\n",
    "pvalue"
   ]
  },
  {
   "cell_type": "code",
   "execution_count": 86,
   "metadata": {},
   "outputs": [
    {
     "name": "stdout",
     "output_type": "stream",
     "text": [
      "0.0289786309279283\n"
     ]
    }
   ],
   "source": [
    "V, p, dof, expected = stats.chi2_contingency(schoko_tab.iloc[0:2,0:2])\n",
    "print(p)"
   ]
  },
  {
   "cell_type": "markdown",
   "metadata": {},
   "source": [
    "Erstelle eine Kontingenztabelle mit Bio \\& Kategorie und prüft ob es möglich ist, dass die Verteilung durch Zufall zustande kam"
   ]
  },
  {
   "cell_type": "code",
   "execution_count": 87,
   "metadata": {},
   "outputs": [
    {
     "data": {
      "text/html": [
       "<div>\n",
       "<style scoped>\n",
       "    .dataframe tbody tr th:only-of-type {\n",
       "        vertical-align: middle;\n",
       "    }\n",
       "\n",
       "    .dataframe tbody tr th {\n",
       "        vertical-align: top;\n",
       "    }\n",
       "\n",
       "    .dataframe thead th {\n",
       "        text-align: right;\n",
       "    }\n",
       "</style>\n",
       "<table border=\"1\" class=\"dataframe\">\n",
       "  <thead>\n",
       "    <tr style=\"text-align: right;\">\n",
       "      <th>Kategorie</th>\n",
       "      <th>bitter</th>\n",
       "      <th>reismilch</th>\n",
       "      <th>vollmilch</th>\n",
       "      <th>weiss</th>\n",
       "    </tr>\n",
       "    <tr>\n",
       "      <th>Bio</th>\n",
       "      <th></th>\n",
       "      <th></th>\n",
       "      <th></th>\n",
       "      <th></th>\n",
       "    </tr>\n",
       "  </thead>\n",
       "  <tbody>\n",
       "    <tr>\n",
       "      <th>ja</th>\n",
       "      <td>7</td>\n",
       "      <td>1</td>\n",
       "      <td>13</td>\n",
       "      <td>1</td>\n",
       "    </tr>\n",
       "    <tr>\n",
       "      <th>nein</th>\n",
       "      <td>6</td>\n",
       "      <td>0</td>\n",
       "      <td>24</td>\n",
       "      <td>4</td>\n",
       "    </tr>\n",
       "  </tbody>\n",
       "</table>\n",
       "</div>"
      ],
      "text/plain": [
       "Kategorie  bitter  reismilch  vollmilch  weiss\n",
       "Bio                                           \n",
       "ja              7          1         13      1\n",
       "nein            6          0         24      4"
      ]
     },
     "execution_count": 87,
     "metadata": {},
     "output_type": "execute_result"
    }
   ],
   "source": [
    "schoko_tab = pd.crosstab(schoko[\"Bio\"], schoko[\"Kategorie\"], margins=False)\n",
    "# margins=False, otherwise \"All\" values are included in the chi2-contingency test\n",
    "\n",
    "schoko_tab#.iloc[0:2,0:4]"
   ]
  },
  {
   "cell_type": "code",
   "execution_count": 88,
   "metadata": {},
   "outputs": [
    {
     "name": "stdout",
     "output_type": "stream",
     "text": [
      "0.290009367111933\n"
     ]
    }
   ],
   "source": [
    "V, p, dof, expected = stats.chi2_contingency(schoko_tab)\n",
    "print(p)"
   ]
  },
  {
   "cell_type": "code",
   "execution_count": 89,
   "metadata": {},
   "outputs": [
    {
     "name": "stdout",
     "output_type": "stream",
     "text": [
      "0.290009367111933\n"
     ]
    }
   ],
   "source": [
    "V, p, dof, expected = stats.chi2_contingency(schoko_tab.iloc[0:2,0:4])\n",
    "print(p)"
   ]
  }
 ],
 "metadata": {
  "kernelspec": {
   "display_name": "Python 3",
   "language": "python",
   "name": "python3"
  },
  "language_info": {
   "codemirror_mode": {
    "name": "ipython",
    "version": 3
   },
   "file_extension": ".py",
   "mimetype": "text/x-python",
   "name": "python",
   "nbconvert_exporter": "python",
   "pygments_lexer": "ipython3",
   "version": "3.7.3"
  }
 },
 "nbformat": 4,
 "nbformat_minor": 2
}
